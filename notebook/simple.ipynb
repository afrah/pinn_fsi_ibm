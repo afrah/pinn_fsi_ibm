{
 "cells": [
  {
   "cell_type": "code",
   "execution_count": 1,
   "metadata": {},
   "outputs": [],
   "source": [
    "%load_ext autoreload\n",
    "%autoreload 2"
   ]
  },
  {
   "cell_type": "code",
   "execution_count": 23,
   "metadata": {},
   "outputs": [],
   "source": [
    "import os\n",
    "import torch\n",
    "import numpy as np\n",
    "import scipy\n",
    "import h5py\n",
    "import matplotlib.pyplot as plt\n"
   ]
  },
  {
   "cell_type": "code",
   "execution_count": null,
   "metadata": {},
   "outputs": [],
   "source": [
    "from src.utils.logger import Logging\n",
    "from src.nn.tanh2 import MLP2\n",
    "from src.nn.kan2 import KAN2\n",
    "from src.utils.plot_losses import plot_M1_loss_history\n",
    "from src.utils.simple import (\n",
    "    u_momentum,\n",
    "    v_momentum,\n",
    "    get_rhs,\n",
    "    get_coeff_mat,\n",
    "    pressure_correct,\n",
    "    update_velocity,\n",
    "    check_divergence_free,\n",
    ")\n",
    "\n",
    "from src.models.IBMSIMPLESolver import initialize_ibm_simple_with_pinn\n",
    "\n",
    "DEVICE = \"cpu\"  # torch.device(\"cuda\" if torch.cuda.is_available() else \"cpu\")\n",
    "\n",
    "# file_path = \"/home/vlq26735/saiful/afrah/datasets/IBM/IB_PINN3.mat\"\n",
    "\n",
    "# h=  0.498715\n",
    "# k=  0.6851750000000001\n",
    "# rx=  0.209685\n",
    "# ry=  0.21008499999999997"
   ]
  },
  {
   "cell_type": "code",
   "execution_count": 26,
   "metadata": {},
   "outputs": [
    {
     "name": "stderr",
     "output_type": "stream",
     "text": [
      "INFO:src.utils.logger:Device used cpu\n"
     ]
    }
   ],
   "source": [
    "TEST_CHECKPOINT_PATH = \"./checkpoints\"\n",
    "logger = Logging(TEST_CHECKPOINT_PATH)\n",
    "model_dirname = logger.get_output_dir()\n",
    "\n",
    "logger.print(f\"Device used {DEVICE}\")"
   ]
  },
  {
   "cell_type": "markdown",
   "metadata": {},
   "source": [
    "### Load  and reshape the Testing Dataset if required"
   ]
  },
  {
   "cell_type": "code",
   "execution_count": 27,
   "metadata": {},
   "outputs": [],
   "source": [
    "processed_dataset_path = \"./data/Fluid_trainingData.mat\"\n",
    "Fluid_data = scipy.io.loadmat(processed_dataset_path)\n",
    "data = h5py.File(\"data/IB_PINN3.mat\", \"r\")  # load dataset from matlab\n",
    "fluid = np.transpose(\n",
    "    data[\"Fluid\"], axes=range(len(data.get(\"Fluid\").shape) - 1, -1, -1)\n",
    ").astype(np.float32)\n",
    "\n",
    "interface = Fluid_data[\"Solid_interface\"]\n",
    "solid = Fluid_data[\"Solid_points\"]\n"
   ]
  },
  {
   "cell_type": "code",
   "execution_count": 28,
   "metadata": {},
   "outputs": [],
   "source": [
    "tstep = 101\n",
    "xstep = 102\n",
    "ystep = 102\n",
    "\n",
    "part = \"Fluid\"\n",
    "N_data = xstep * ystep\n",
    "\n",
    "steps = [tstep, xstep, ystep]\n",
    "txy = [fluid[:, 0], fluid[:, 1], fluid[:, 2]]\n",
    "\n",
    "\n",
    "input_interface = np.concatenate(\n",
    "    [interface[:, 0:1], interface[:, 1:2], interface[:, 2:3]], axis=1\n",
    ")\n"
   ]
  },
  {
   "cell_type": "code",
   "execution_count": null,
   "metadata": {},
   "outputs": [
    {
     "name": "stderr",
     "output_type": "stream",
     "text": [
      "/home/vlq26735/saiful/afrah/code/pinn_ibm4fsi2/src/models/IBMSIMPLESolver.py:339: RuntimeWarning: invalid value encountered in sqrt\n",
      "  print(f\"Iteration {iteration}: Max divergence = {max_div:.2e}\")\n",
      "/home/vlq26735/saiful/afrah/code/pinn_ibm4fsi2/src/models/IBMSIMPLESolver.py:342: RuntimeWarning: invalid value encountered in sqrt\n",
      "  print(f\"Converged after {iteration + 1} iterations!\")\n"
     ]
    },
    {
     "ename": "AttributeError",
     "evalue": "'IBMSIMPLESolver' object has no attribute 'u_momentum_with_ibm'",
     "output_type": "error",
     "traceback": [
      "\u001b[0;31m---------------------------------------------------------------------------\u001b[0m",
      "\u001b[0;31mAttributeError\u001b[0m                            Traceback (most recent call last)",
      "Cell \u001b[0;32mIn[30], line 11\u001b[0m\n\u001b[1;32m      8\u001b[0m solver \u001b[38;5;241m=\u001b[39m initialize_ibm_simple_with_pinn(fluid_model, imax\u001b[38;5;241m=\u001b[39m\u001b[38;5;241m100\u001b[39m, jmax\u001b[38;5;241m=\u001b[39m\u001b[38;5;241m100\u001b[39m)\n\u001b[1;32m     10\u001b[0m \u001b[38;5;66;03m# Solve the FSI problem\u001b[39;00m\n\u001b[0;32m---> 11\u001b[0m history \u001b[38;5;241m=\u001b[39m \u001b[43msolver\u001b[49m\u001b[38;5;241;43m.\u001b[39;49m\u001b[43msolve_with_ibm\u001b[49m\u001b[43m(\u001b[49m\u001b[43mmax_iterations\u001b[49m\u001b[38;5;241;43m=\u001b[39;49m\u001b[38;5;241;43m1000\u001b[39;49m\u001b[43m,\u001b[49m\u001b[43m \u001b[49m\u001b[43mtolerance\u001b[49m\u001b[38;5;241;43m=\u001b[39;49m\u001b[38;5;241;43m1e-6\u001b[39;49m\u001b[43m)\u001b[49m\n\u001b[1;32m     13\u001b[0m \u001b[38;5;66;03m# Visualize results\u001b[39;00m\n\u001b[1;32m     14\u001b[0m solver\u001b[38;5;241m.\u001b[39mvisualize_solution()\n",
      "File \u001b[0;32m~/saiful/afrah/code/pinn_ibm4fsi2/src/models/IBMSIMPLESolver.py:206\u001b[0m, in \u001b[0;36mIBMSIMPLESolver.solve_with_ibm\u001b[0;34m(self, max_iterations, tolerance)\u001b[0m\n\u001b[1;32m    203\u001b[0m \u001b[38;5;28mself\u001b[39m\u001b[38;5;241m.\u001b[39mspread_ib_force()\n\u001b[1;32m    205\u001b[0m \u001b[38;5;66;03m# Momentum predictor step with IB forces\u001b[39;00m\n\u001b[0;32m--> 206\u001b[0m u_star, d_u \u001b[38;5;241m=\u001b[39m \u001b[38;5;28;43mself\u001b[39;49m\u001b[38;5;241;43m.\u001b[39;49m\u001b[43mu_momentum_with_ibm\u001b[49m()\n\u001b[1;32m    207\u001b[0m v_star, d_v \u001b[38;5;241m=\u001b[39m \u001b[38;5;28mself\u001b[39m\u001b[38;5;241m.\u001b[39mv_momentum_with_ibm()\n\u001b[1;32m    209\u001b[0m \u001b[38;5;66;03m# Pressure correction\u001b[39;00m\n",
      "\u001b[0;31mAttributeError\u001b[0m: 'IBMSIMPLESolver' object has no attribute 'u_momentum_with_ibm'"
     ]
    }
   ],
   "source": [
    "model_path = \"./checkpoints/2025-05-02_20-18-03-014736/model.pth\"\n",
    "state = torch.load(model_path)\n",
    "fluid_model = MLP2(state[\"fluid_network\"]).to(\"cpu\")\n",
    "fluid_model.load_state_dict(state[\"fluid_model_state_dict\"])\n",
    "fluid_model.eval()\n",
    "\n",
    "# Initialize IBM SIMPLE solver with PINN\n",
    "solver = initialize_ibm_simple_with_pinn(fluid_model, imax=100, jmax=100)\n",
    "\n",
    "# Solve the FSI problem\n",
    "history = solver.solve_with_ibm(max_iterations=1000, tolerance=1e-6)\n",
    "\n",
    "# Visualize results\n",
    "solver.visualize_solution()\n",
    "\n",
    "# Plot convergence history\n",
    "plt.figure(figsize=(8, 6))\n",
    "plt.semilogy(history[\"iterations\"], history[\"max_divergence\"], \"b-\", linewidth=2)\n",
    "plt.xlabel(\"Iteration\")\n",
    "plt.ylabel(\"Maximum Divergence\")\n",
    "plt.title(\"Convergence History\")\n",
    "plt.grid(True, alpha=0.3)\n",
    "plt.show()"
   ]
  },
  {
   "cell_type": "code",
   "execution_count": null,
   "metadata": {},
   "outputs": [],
   "source": [
    "compare_with_pinn(solver, fluid_model)\n"
   ]
  },
  {
   "cell_type": "code",
   "execution_count": null,
   "metadata": {},
   "outputs": [],
   "source": [
    "visualize_advanced(solver)\n"
   ]
  },
  {
   "cell_type": "code",
   "execution_count": null,
   "metadata": {},
   "outputs": [],
   "source": [
    "analyze_time_evolution(solver, fluid_model)"
   ]
  }
 ],
 "metadata": {
  "kernelspec": {
   "display_name": "pinn_ibm4fsi",
   "language": "python",
   "name": "python3"
  },
  "language_info": {
   "codemirror_mode": {
    "name": "ipython",
    "version": 3
   },
   "file_extension": ".py",
   "mimetype": "text/x-python",
   "name": "python",
   "nbconvert_exporter": "python",
   "pygments_lexer": "ipython3",
   "version": "3.10.16"
  }
 },
 "nbformat": 4,
 "nbformat_minor": 2
}
