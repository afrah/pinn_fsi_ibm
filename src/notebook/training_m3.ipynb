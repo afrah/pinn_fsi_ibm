{
 "cells": [
  {
   "cell_type": "code",
   "execution_count": 1,
   "id": "e539ba98",
   "metadata": {},
   "outputs": [],
   "source": [
    "%load_ext autoreload\n",
    "%autoreload 2\n"
   ]
  },
  {
   "cell_type": "code",
   "execution_count": 2,
   "id": "89b895e5",
   "metadata": {},
   "outputs": [],
   "source": [
    "import torch\n",
    "\n",
    "\n",
    "\n",
    "from src.utils.utils import lp_error\n",
    "from src.utils.logger import Logging\n",
    "from src.utils.colors import model_color\n",
    "\n",
    "from src.nn.tanh2 import MLP2\n",
    "from src.nn.tanh import MLP\n",
    "from src.nn.bspline import KAN\n",
    "from src.nn.kan2 import KAN2\n",
    "from src.utils.utils import clear_gpu_memory\n",
    "from src.data.IBM_data_loader import prepare_training_data, visualize_tensor_datasets\n",
    "from src.data.IBM_data_loader import load_fluid_testing_dataset\n",
    "from src.models.m2_physics3 import PINNTrainer\n",
    "from src.utils.plot_losses import plot_M1_loss_history\n",
    "from src.utils.fsi_visualization import (\n",
    "    create_frames,\n",
    "    create_animations_from_existing_frames,\n",
    ")\n",
    "from src.data.IBM_data_loader import load_training_dataset\n"
   ]
  },
  {
   "cell_type": "code",
   "execution_count": 3,
   "id": "bace01ad",
   "metadata": {},
   "outputs": [
    {
     "name": "stderr",
     "output_type": "stream",
     "text": [
      "INFO:src.utils.logger:./checkpoints/2025-08-17_20-59-34-456463\n"
     ]
    }
   ],
   "source": [
    "\n",
    "CHECKPOINT_PATH = \"./checkpoints\"\n",
    "logger = Logging(CHECKPOINT_PATH)\n",
    "model_dirname = logger.get_output_dir()\n",
    "\n",
    "logger.print(model_dirname)"
   ]
  },
  {
   "cell_type": "code",
   "execution_count": 17,
   "id": "52006a4c",
   "metadata": {},
   "outputs": [
    {
     "name": "stdout",
     "output_type": "stream",
     "text": [
      "GPU memory cleared!\n"
     ]
    }
   ],
   "source": [
    "\n",
    "\n",
    "clear_gpu_memory()\n",
    "config = {\n",
    "    \"dataset_type\": \"old\",\n",
    "    \"training_selection_method\": \"Sobol\",\n",
    "    \"input_dim\": 3,  # (x, y, z, t)\n",
    "    \"hidden_dim\": 300,\n",
    "    \"hidden_layers_dim\": 3,\n",
    "    \"fluid_density\": 1.0,\n",
    "    \"fluid_viscosity\": 0.01,\n",
    "    \"num_epochs\": 60000,\n",
    "    \"batch_size\": 128,\n",
    "    \"learning_rate\": 1e-3,\n",
    "    \"data_weight\": 2.0,\n",
    "    \"physics_weight\": 0.01,\n",
    "    \"boundary_weight\": 4.0,\n",
    "    \"fsi_weight\": 0.5,\n",
    "    \"initial_weight\": 2.0,\n",
    "    \"checkpoint_dir\": \"./checkpoints\",\n",
    "    \"resume\": None,\n",
    "    \"print_every\": 100,\n",
    "    \"save_every\": 200,\n",
    "    \"fluid_sampling_ratio\": 0.01,\n",
    "    \"interface_sampling_ratio\": 0.1,\n",
    "    \"solid_sampling_ratio\": 0.0,\n",
    "    \"left_sampling_ratio\": 0.1,\n",
    "    \"right_sampling_ratio\": 0.15,\n",
    "    \"bottom_sampling_ratio\": 0.1,\n",
    "    \"top_sampling_ratio\": 0.1,\n",
    "    \"initial_sampling_ratio\": 0.1,\n",
    "    \"device\": torch.device(\"cuda\" if torch.cuda.is_available() else \"cpu\"),\n",
    "    \"solver\": \"mlp\",\n",
    "    \"model\": \"m1\",\n",
    "}\n"
   ]
  },
  {
   "cell_type": "code",
   "execution_count": 18,
   "id": "76735ee8",
   "metadata": {},
   "outputs": [
    {
     "name": "stderr",
     "output_type": "stream",
     "text": [
      "INFO:src.utils.logger:Config:\n",
      "INFO:src.utils.logger:dataset_type: old\n",
      "INFO:src.utils.logger:training_selection_method: Sobol\n",
      "INFO:src.utils.logger:input_dim: 3\n",
      "INFO:src.utils.logger:hidden_dim: 300\n",
      "INFO:src.utils.logger:hidden_layers_dim: 3\n",
      "INFO:src.utils.logger:fluid_density: 1.0\n",
      "INFO:src.utils.logger:fluid_viscosity: 0.01\n",
      "INFO:src.utils.logger:num_epochs: 60000\n",
      "INFO:src.utils.logger:batch_size: 128\n",
      "INFO:src.utils.logger:learning_rate: 0.001\n",
      "INFO:src.utils.logger:data_weight: 2.0\n",
      "INFO:src.utils.logger:physics_weight: 0.01\n",
      "INFO:src.utils.logger:boundary_weight: 4.0\n",
      "INFO:src.utils.logger:fsi_weight: 0.5\n",
      "INFO:src.utils.logger:initial_weight: 2.0\n",
      "INFO:src.utils.logger:checkpoint_dir: ./checkpoints\n",
      "INFO:src.utils.logger:resume: None\n",
      "INFO:src.utils.logger:print_every: 100\n",
      "INFO:src.utils.logger:save_every: 200\n",
      "INFO:src.utils.logger:fluid_sampling_ratio: 0.01\n",
      "INFO:src.utils.logger:interface_sampling_ratio: 0.1\n",
      "INFO:src.utils.logger:solid_sampling_ratio: 0.0\n",
      "INFO:src.utils.logger:left_sampling_ratio: 0.1\n",
      "INFO:src.utils.logger:right_sampling_ratio: 0.15\n",
      "INFO:src.utils.logger:bottom_sampling_ratio: 0.1\n"
     ]
    },
    {
     "name": "stderr",
     "output_type": "stream",
     "text": [
      "INFO:src.utils.logger:top_sampling_ratio: 0.1\n",
      "INFO:src.utils.logger:initial_sampling_ratio: 0.1\n",
      "INFO:src.utils.logger:device: cpu\n",
      "INFO:src.utils.logger:solver: mlp\n",
      "INFO:src.utils.logger:model: m1\n"
     ]
    },
    {
     "name": "stdout",
     "output_type": "stream",
     "text": [
      "Loaded interface tensor from ./data/training_dataset/old/interface_tensor.pt with shape torch.Size([10166, 11])\n",
      "Loaded right tensor from ./data/training_dataset/old/right_tensor.pt with shape torch.Size([1545, 8])\n",
      "Loaded fluid_points tensor from ./data/training_dataset/old/fluid_points_tensor.pt with shape torch.Size([3986, 8])\n",
      "Loaded bottom tensor from ./data/training_dataset/old/bottom_tensor.pt with shape torch.Size([1030, 8])\n",
      "Loaded left tensor from ./data/training_dataset/old/left_tensor.pt with shape torch.Size([1030, 8])\n",
      "Loaded solid tensor from ./data/training_dataset/old/solid_tensor.pt with shape torch.Size([1452, 8])\n",
      "Loaded initial tensor from ./data/training_dataset/old/initial_tensor.pt with shape torch.Size([1330, 8])\n",
      "Loaded up tensor from ./data/training_dataset/old/up_tensor.pt with shape torch.Size([1030, 8])\n",
      "Loaded fluid tensor from ./data/training_dataset/old/fluid_tensor.pt with shape torch.Size([10508, 8])\n",
      "Loaded training dataset from ./data/training_dataset/old successfully!\n"
     ]
    }
   ],
   "source": [
    "logger.print(\"Config:\")\n",
    "for key, value in config.items():\n",
    "    logger.print(f\"{key}: {value}\")\n",
    "\n",
    "training_data_path = \"./data/training_dataset/old\"\n",
    "\n",
    "training_data = load_training_dataset(training_data_path, device=config[\"device\"])\n",
    "\n",
    "if training_data is None:\n",
    "    training_data = prepare_training_data(\n",
    "        config[\"dataset_type\"],\n",
    "        fluid_sampling_ratio=config[\"fluid_sampling_ratio\"],\n",
    "        interface_sampling_ratio=config[\"interface_sampling_ratio\"],\n",
    "        solid_sampling_ratio=config[\"solid_sampling_ratio\"],\n",
    "        left_sampling_ratio=config[\"left_sampling_ratio\"],\n",
    "        right_sampling_ratio=config[\"right_sampling_ratio\"],\n",
    "        bottom_sampling_ratio=config[\"bottom_sampling_ratio\"],\n",
    "        top_sampling_ratio=config[\"top_sampling_ratio\"],\n",
    "        initial_sampling_ratio=config[\"initial_sampling_ratio\"],\n",
    "        training_selection_method=config[\"training_selection_method\"],\n",
    "        device=config[\"device\"],\n",
    "        save_dir=training_data_path,\n",
    "    )\n"
   ]
  },
  {
   "cell_type": "code",
   "execution_count": 19,
   "id": "31c8520c",
   "metadata": {},
   "outputs": [
    {
     "name": "stderr",
     "output_type": "stream",
     "text": [
      "INFO:src.utils.logger:Fluid model architecture:\n",
      "INFO:src.utils.logger:MLP(\n",
      "  (layers): ModuleList(\n",
      "    (0): Linear(in_features=3, out_features=300, bias=True)\n",
      "    (1-2): 2 x Linear(in_features=300, out_features=300, bias=True)\n",
      "    (3): Linear(in_features=300, out_features=3, bias=True)\n",
      "  )\n",
      ")\n",
      "INFO:src.utils.logger:Number of parameters: 182703\n"
     ]
    },
    {
     "name": "stdout",
     "output_type": "stream",
     "text": [
      "Saved tensor datasets scatter plot to ./data/training_dataset/old/tensor_datasets_scatter.png\n"
     ]
    }
   ],
   "source": [
    "\n",
    "visualize_tensor_datasets(training_data, save_dir=training_data_path)\n",
    "\n",
    "fluid_network = (\n",
    "    [config[\"input_dim\"]] + [config[\"hidden_dim\"]] * config[\"hidden_layers_dim\"] + [3]\n",
    ")\n",
    "if config[\"solver\"] == \"mlp\":\n",
    "    fluid_model = MLP(network=fluid_network)\n",
    "    solid_model = MLP(network=fluid_network)\n",
    "else:\n",
    "    fluid_model = KAN2(network=fluid_network)\n",
    "\n",
    "logger.print(\"Fluid model architecture:\")\n",
    "logger.print(fluid_model)\n",
    "logger.print(\n",
    "    f\"Number of parameters: {sum(p.numel() for p in fluid_model.parameters())}\"\n",
    ")\n"
   ]
  },
  {
   "cell_type": "code",
   "execution_count": null,
   "id": "414b2ca4",
   "metadata": {},
   "outputs": [
    {
     "name": "stderr",
     "output_type": "stream",
     "text": [
      "INFO:src.utils.logger:Epoch 0/60000, Total: 5.8e+00, Data(F&S): 1.4e-01, Physics: 7.3e-04, Boundary: 5.7e+00, FSI: 2.4e-02, Solid: 1.4e-01, Initial: 2.6e-02, LR: 1.00e-03\n",
      "INFO:src.utils.logger:Epoch 100/60000, Total: 3.6e+00, Data(F&S): 2.6e-01, Physics: 2.7e-03, Boundary: 3.2e+00, FSI: 1.8e-04, Solid: 3.2e-02, Initial: 1.4e-01, LR: 1.00e-03\n",
      "INFO:src.utils.logger:Final losses:\n",
      "INFO:src.utils.logger:Final left: 3.592e-01 |  Final right: 5.623e-01 |  Final bottom: 1.593e-02 |  Final up: 9.656e-01 |  Final fluid: 8.108e-03 |  Final interface: 4.233e-04 |  Final initial: 9.230e-02 |  Final fluid_total: 2.146e+00 |  Final solid_total: 3.203e-02 | \n",
      "INFO:src.utils.logger:_save_checkpoint: Epoch 200 | Training checkpoint saved at ./checkpoints/2025-08-17_20-59-34-456463/model.pth\n",
      "INFO:src.utils.logger:Epoch 200/60000, Total: 2.3e+00, Data(F&S): 1.4e-01, Physics: 8.1e-03, Boundary: 2.0e+00, FSI: 1.9e-04, Solid: 3.2e-02, Initial: 8.6e-02, LR: 1.00e-03\n",
      "INFO:src.utils.logger:Epoch 300/60000, Total: 2.0e+00, Data(F&S): 1.3e-01, Physics: 1.5e-02, Boundary: 1.8e+00, FSI: 1.9e-04, Solid: 3.1e-02, Initial: 9.1e-02, LR: 1.00e-03\n",
      "INFO:src.utils.logger:Final losses:\n",
      "INFO:src.utils.logger:Final left: 2.911e-01 |  Final right: 5.431e-01 |  Final bottom: 1.935e-02 |  Final up: 8.914e-01 |  Final fluid: 1.702e-02 |  Final interface: 2.232e-04 |  Final initial: 7.697e-02 |  Final fluid_total: 1.956e+00 |  Final solid_total: 2.609e-02 | \n",
      "INFO:src.utils.logger:_save_checkpoint: Epoch 400 | Training checkpoint saved at ./checkpoints/2025-08-17_20-59-34-456463/model.pth\n",
      "INFO:src.utils.logger:Epoch 400/60000, Total: 1.8e+00, Data(F&S): 1.2e-01, Physics: 1.7e-02, Boundary: 1.6e+00, FSI: 1.6e-04, Solid: 2.6e-02, Initial: 8.3e-02, LR: 1.00e-03\n",
      "INFO:src.utils.logger:Epoch 500/60000, Total: 1.7e+00, Data(F&S): 1.1e-01, Physics: 1.6e-02, Boundary: 1.5e+00, FSI: 1.6e-04, Solid: 2.1e-02, Initial: 6.9e-02, LR: 1.00e-03\n",
      "INFO:src.utils.logger:Final losses:\n",
      "INFO:src.utils.logger:Final left: 2.188e-01 |  Final right: 3.461e-01 |  Final bottom: 7.202e-03 |  Final up: 6.960e-01 |  Final fluid: 1.810e-02 |  Final interface: 8.657e-05 |  Final initial: 6.206e-02 |  Final fluid_total: 1.433e+00 |  Final solid_total: 1.968e-02 | \n",
      "INFO:src.utils.logger:_save_checkpoint: Epoch 600 | Training checkpoint saved at ./checkpoints/2025-08-17_20-59-34-456463/model.pth\n",
      "INFO:src.utils.logger:Epoch 600/60000, Total: 1.5e+00, Data(F&S): 9.2e-02, Physics: 1.8e-02, Boundary: 1.3e+00, FSI: 6.9e-05, Solid: 2.0e-02, Initial: 6.1e-02, LR: 1.00e-03\n",
      "INFO:src.utils.logger:Epoch 700/60000, Total: 1.5e+00, Data(F&S): 7.2e-02, Physics: 2.3e-02, Boundary: 1.4e+00, FSI: 1.3e-04, Solid: 1.8e-02, Initial: 5.5e-02, LR: 1.00e-03\n",
      "INFO:src.utils.logger:Final losses:\n",
      "INFO:src.utils.logger:Final left: 2.186e-01 |  Final right: 2.530e-01 |  Final bottom: 3.162e-02 |  Final up: 5.740e-01 |  Final fluid: 3.044e-02 |  Final interface: 7.667e-05 |  Final initial: 5.617e-02 |  Final fluid_total: 1.233e+00 |  Final solid_total: 1.720e-02 | \n",
      "INFO:src.utils.logger:_save_checkpoint: Epoch 800 | Training checkpoint saved at ./checkpoints/2025-08-17_20-59-34-456463/model.pth\n",
      "INFO:src.utils.logger:Epoch 800/60000, Total: 1.4e+00, Data(F&S): 8.2e-02, Physics: 2.7e-02, Boundary: 1.2e+00, FSI: 1.4e-04, Solid: 1.8e-02, Initial: 6.7e-02, LR: 1.00e-03\n",
      "INFO:src.utils.logger:Epoch 900/60000, Total: 1.0e+00, Data(F&S): 5.5e-02, Physics: 3.4e-02, Boundary: 9.0e-01, FSI: 8.7e-05, Solid: 1.5e-02, Initial: 4.5e-02, LR: 1.00e-03\n",
      "INFO:src.utils.logger:Final losses:\n",
      "INFO:src.utils.logger:Final left: 2.407e-01 |  Final right: 2.319e-01 |  Final bottom: 1.139e-01 |  Final up: 5.859e-01 |  Final fluid: 4.066e-02 |  Final interface: 2.691e-04 |  Final initial: 7.775e-02 |  Final fluid_total: 1.386e+00 |  Final solid_total: 1.640e-02 | \n",
      "INFO:src.utils.logger:_save_checkpoint: Epoch 1000 | Training checkpoint saved at ./checkpoints/2025-08-17_20-59-34-456463/model.pth\n",
      "INFO:src.utils.logger:Epoch 1000/60000, Total: 1.5e+00, Data(F&S): 9.7e-02, Physics: 4.0e-02, Boundary: 1.2e+00, FSI: 1.7e-04, Solid: 1.7e-02, Initial: 8.3e-02, LR: 1.00e-03\n",
      "INFO:src.utils.logger:Epoch 1100/60000, Total: 8.2e-01, Data(F&S): 4.7e-02, Physics: 4.4e-02, Boundary: 6.9e-01, FSI: 1.1e-04, Solid: 1.3e-02, Initial: 3.5e-02, LR: 1.00e-03\n",
      "INFO:src.utils.logger:Final losses:\n",
      "INFO:src.utils.logger:Final left: 1.182e-01 |  Final right: 1.353e-01 |  Final bottom: 1.170e-02 |  Final up: 3.667e-01 |  Final fluid: 4.792e-02 |  Final interface: 2.143e-04 |  Final initial: 3.307e-02 |  Final fluid_total: 7.589e-01 |  Final solid_total: 1.555e-02 | \n",
      "INFO:src.utils.logger:_save_checkpoint: Epoch 1200 | Training checkpoint saved at ./checkpoints/2025-08-17_20-59-34-456463/model.pth\n",
      "INFO:src.utils.logger:Epoch 1200/60000, Total: 7.5e-01, Data(F&S): 4.2e-02, Physics: 4.8e-02, Boundary: 6.2e-01, FSI: 3.4e-04, Solid: 1.5e-02, Initial: 3.5e-02, LR: 1.00e-03\n",
      "INFO:src.utils.logger:Epoch 1300/60000, Total: 6.8e-01, Data(F&S): 4.1e-02, Physics: 5.1e-02, Boundary: 5.5e-01, FSI: 1.8e-04, Solid: 1.2e-02, Initial: 3.3e-02, LR: 1.00e-03\n",
      "INFO:src.utils.logger:Final losses:\n",
      "INFO:src.utils.logger:Final left: 8.926e-02 |  Final right: 8.424e-02 |  Final bottom: 1.253e-02 |  Final up: 3.093e-01 |  Final fluid: 4.896e-02 |  Final interface: 1.535e-04 |  Final initial: 2.360e-02 |  Final fluid_total: 6.065e-01 |  Final solid_total: 1.086e-02 | \n",
      "INFO:src.utils.logger:_save_checkpoint: Epoch 1400 | Training checkpoint saved at ./checkpoints/2025-08-17_20-59-34-456463/model.pth\n",
      "INFO:src.utils.logger:Epoch 1400/60000, Total: 6.0e-01, Data(F&S): 3.6e-02, Physics: 5.4e-02, Boundary: 4.8e-01, FSI: 2.7e-04, Solid: 1.1e-02, Initial: 2.6e-02, LR: 1.00e-03\n",
      "INFO:src.utils.logger:Epoch 1500/60000, Total: 5.8e-01, Data(F&S): 3.6e-02, Physics: 5.1e-02, Boundary: 4.7e-01, FSI: 1.5e-04, Solid: 1.0e-02, Initial: 2.7e-02, LR: 1.00e-03\n",
      "INFO:src.utils.logger:Final losses:\n",
      "INFO:src.utils.logger:Final left: 6.657e-02 |  Final right: 6.206e-02 |  Final bottom: 6.334e-03 |  Final up: 2.779e-01 |  Final fluid: 4.998e-02 |  Final interface: 1.752e-04 |  Final initial: 1.795e-02 |  Final fluid_total: 5.099e-01 |  Final solid_total: 9.886e-03 | \n",
      "INFO:src.utils.logger:_save_checkpoint: Epoch 1600 | Training checkpoint saved at ./checkpoints/2025-08-17_20-59-34-456463/model.pth\n",
      "INFO:src.utils.logger:Epoch 1600/60000, Total: 5.5e-01, Data(F&S): 2.7e-02, Physics: 5.4e-02, Boundary: 4.5e-01, FSI: 1.6e-04, Solid: 9.9e-03, Initial: 2.0e-02, LR: 1.00e-03\n",
      "INFO:src.utils.logger:Epoch 1700/60000, Total: 4.6e-01, Data(F&S): 2.6e-02, Physics: 5.3e-02, Boundary: 3.6e-01, FSI: 2.4e-04, Solid: 9.7e-03, Initial: 2.0e-02, LR: 1.00e-03\n",
      "INFO:src.utils.logger:Final losses:\n",
      "INFO:src.utils.logger:Final left: 6.497e-02 |  Final right: 4.336e-02 |  Final bottom: 4.372e-03 |  Final up: 2.040e-01 |  Final fluid: 5.218e-02 |  Final interface: 1.517e-04 |  Final initial: 1.972e-02 |  Final fluid_total: 4.120e-01 |  Final solid_total: 9.411e-03 | \n",
      "INFO:src.utils.logger:_save_checkpoint: Epoch 1800 | Training checkpoint saved at ./checkpoints/2025-08-17_20-59-34-456463/model.pth\n",
      "INFO:src.utils.logger:Epoch 1800/60000, Total: 4.3e-01, Data(F&S): 2.4e-02, Physics: 4.9e-02, Boundary: 3.4e-01, FSI: 1.9e-04, Solid: 9.3e-03, Initial: 1.8e-02, LR: 1.00e-03\n",
      "INFO:src.utils.logger:Epoch 1900/60000, Total: 4.0e-01, Data(F&S): 2.3e-02, Physics: 5.6e-02, Boundary: 3.0e-01, FSI: 1.5e-04, Solid: 9.7e-03, Initial: 1.8e-02, LR: 1.00e-03\n",
      "INFO:src.utils.logger:Final losses:\n",
      "INFO:src.utils.logger:Final left: 5.473e-02 |  Final right: 6.942e-02 |  Final bottom: 1.107e-02 |  Final up: 1.746e-01 |  Final fluid: 6.004e-02 |  Final interface: 2.165e-04 |  Final initial: 2.008e-02 |  Final fluid_total: 4.151e-01 |  Final solid_total: 9.297e-03 | \n",
      "INFO:src.utils.logger:_save_checkpoint: Epoch 2000 | Training checkpoint saved at ./checkpoints/2025-08-17_20-59-34-456463/model.pth\n",
      "INFO:src.utils.logger:Epoch 2000/60000, Total: 3.8e-01, Data(F&S): 2.5e-02, Physics: 5.2e-02, Boundary: 2.9e-01, FSI: 1.9e-04, Solid: 9.5e-03, Initial: 1.6e-02, LR: 1.00e-03\n",
      "INFO:src.utils.logger:Epoch 2100/60000, Total: 3.3e-01, Data(F&S): 2.1e-02, Physics: 5.6e-02, Boundary: 2.4e-01, FSI: 2.1e-04, Solid: 1.1e-02, Initial: 1.5e-02, LR: 1.00e-03\n",
      "INFO:src.utils.logger:Final losses:\n",
      "INFO:src.utils.logger:Final left: 4.118e-02 |  Final right: 3.271e-02 |  Final bottom: 3.529e-03 |  Final up: 1.719e-01 |  Final fluid: 5.371e-02 |  Final interface: 1.678e-04 |  Final initial: 1.234e-02 |  Final fluid_total: 3.368e-01 |  Final solid_total: 9.136e-03 | \n",
      "INFO:src.utils.logger:_save_checkpoint: Epoch 2200 | Training checkpoint saved at ./checkpoints/2025-08-17_20-59-34-456463/model.pth\n",
      "INFO:src.utils.logger:Epoch 2200/60000, Total: 3.3e-01, Data(F&S): 2.1e-02, Physics: 5.6e-02, Boundary: 2.3e-01, FSI: 1.6e-04, Solid: 9.1e-03, Initial: 1.7e-02, LR: 1.00e-03\n",
      "INFO:src.utils.logger:Epoch 2300/60000, Total: 3.3e-01, Data(F&S): 2.3e-02, Physics: 5.6e-02, Boundary: 2.3e-01, FSI: 1.9e-04, Solid: 8.6e-03, Initial: 1.8e-02, LR: 1.00e-03\n",
      "INFO:src.utils.logger:Final losses:\n",
      "INFO:src.utils.logger:Final left: 3.910e-02 |  Final right: 2.460e-02 |  Final bottom: 2.382e-03 |  Final up: 1.303e-01 |  Final fluid: 5.470e-02 |  Final interface: 1.732e-04 |  Final initial: 1.332e-02 |  Final fluid_total: 2.838e-01 |  Final solid_total: 8.390e-03 | \n",
      "INFO:src.utils.logger:_save_checkpoint: Epoch 2400 | Training checkpoint saved at ./checkpoints/2025-08-17_20-59-34-456463/model.pth\n",
      "INFO:src.utils.logger:Epoch 2400/60000, Total: 3.0e-01, Data(F&S): 2.0e-02, Physics: 5.4e-02, Boundary: 2.1e-01, FSI: 1.5e-04, Solid: 8.4e-03, Initial: 1.4e-02, LR: 1.00e-03\n",
      "INFO:src.utils.logger:Epoch 2500/60000, Total: 2.7e-01, Data(F&S): 1.8e-02, Physics: 5.2e-02, Boundary: 1.8e-01, FSI: 1.3e-04, Solid: 8.1e-03, Initial: 1.3e-02, LR: 1.00e-03\n",
      "INFO:src.utils.logger:Final losses:\n",
      "INFO:src.utils.logger:Final left: 3.110e-02 |  Final right: 2.823e-02 |  Final bottom: 5.960e-03 |  Final up: 1.793e-01 |  Final fluid: 5.142e-02 |  Final interface: 1.501e-04 |  Final initial: 1.345e-02 |  Final fluid_total: 3.276e-01 |  Final solid_total: 8.954e-03 | \n",
      "INFO:src.utils.logger:_save_checkpoint: Epoch 2600 | Training checkpoint saved at ./checkpoints/2025-08-17_20-59-34-456463/model.pth\n",
      "INFO:src.utils.logger:Epoch 2600/60000, Total: 2.9e-01, Data(F&S): 1.9e-02, Physics: 5.1e-02, Boundary: 2.1e-01, FSI: 1.5e-04, Solid: 8.4e-03, Initial: 1.1e-02, LR: 1.00e-03\n",
      "INFO:src.utils.logger:Epoch 2700/60000, Total: 3.0e-01, Data(F&S): 1.8e-02, Physics: 5.3e-02, Boundary: 2.2e-01, FSI: 1.5e-04, Solid: 9.0e-03, Initial: 1.3e-02, LR: 1.00e-03\n",
      "INFO:src.utils.logger:Final losses:\n",
      "INFO:src.utils.logger:Final left: 2.528e-02 |  Final right: 2.568e-02 |  Final bottom: 3.511e-03 |  Final up: 1.055e-01 |  Final fluid: 4.948e-02 |  Final interface: 2.034e-04 |  Final initial: 1.345e-02 |  Final fluid_total: 2.402e-01 |  Final solid_total: 9.141e-03 | \n",
      "INFO:src.utils.logger:_save_checkpoint: Epoch 2800 | Training checkpoint saved at ./checkpoints/2025-08-17_20-59-34-456463/model.pth\n",
      "INFO:src.utils.logger:Epoch 2800/60000, Total: 2.3e-01, Data(F&S): 1.6e-02, Physics: 4.9e-02, Boundary: 1.6e-01, FSI: 1.5e-04, Solid: 8.7e-03, Initial: 1.1e-02, LR: 1.00e-03\n",
      "INFO:src.utils.logger:Epoch 2900/60000, Total: 2.3e-01, Data(F&S): 1.8e-02, Physics: 4.8e-02, Boundary: 1.6e-01, FSI: 1.2e-04, Solid: 7.4e-03, Initial: 1.3e-02, LR: 1.00e-03\n",
      "INFO:src.utils.logger:Final losses:\n",
      "INFO:src.utils.logger:Final left: 2.813e-02 |  Final right: 3.304e-02 |  Final bottom: 7.051e-03 |  Final up: 1.282e-01 |  Final fluid: 4.848e-02 |  Final interface: 1.626e-04 |  Final initial: 1.800e-02 |  Final fluid_total: 2.837e-01 |  Final solid_total: 7.724e-03 | \n",
      "INFO:src.utils.logger:_save_checkpoint: Epoch 3000 | Training checkpoint saved at ./checkpoints/2025-08-17_20-59-34-456463/model.pth\n",
      "INFO:src.utils.logger:Epoch 3000/60000, Total: 2.6e-01, Data(F&S): 1.9e-02, Physics: 4.9e-02, Boundary: 1.7e-01, FSI: 3.1e-04, Solid: 7.9e-03, Initial: 2.0e-02, LR: 1.00e-03\n",
      "INFO:src.utils.logger:Epoch 3100/60000, Total: 2.1e-01, Data(F&S): 1.5e-02, Physics: 4.9e-02, Boundary: 1.3e-01, FSI: 1.1e-04, Solid: 7.6e-03, Initial: 1.3e-02, LR: 1.00e-03\n",
      "INFO:src.utils.logger:Final losses:\n",
      "INFO:src.utils.logger:Final left: 2.202e-02 |  Final right: 2.476e-02 |  Final bottom: 4.064e-03 |  Final up: 9.978e-02 |  Final fluid: 4.639e-02 |  Final interface: 1.187e-04 |  Final initial: 1.110e-02 |  Final fluid_total: 2.246e-01 |  Final solid_total: 7.948e-03 | \n",
      "INFO:src.utils.logger:_save_checkpoint: Epoch 3200 | Training checkpoint saved at ./checkpoints/2025-08-17_20-59-34-456463/model.pth\n",
      "INFO:src.utils.logger:Epoch 3200/60000, Total: 2.3e-01, Data(F&S): 1.8e-02, Physics: 4.4e-02, Boundary: 1.5e-01, FSI: 2.1e-04, Solid: 8.0e-03, Initial: 1.4e-02, LR: 1.00e-03\n",
      "INFO:src.utils.logger:Epoch 3300/60000, Total: 2.5e-01, Data(F&S): 2.1e-02, Physics: 4.6e-02, Boundary: 1.7e-01, FSI: 2.2e-04, Solid: 7.6e-03, Initial: 1.3e-02, LR: 1.00e-03\n",
      "INFO:src.utils.logger:Final losses:\n",
      "INFO:src.utils.logger:Final left: 2.078e-02 |  Final right: 2.743e-02 |  Final bottom: 1.293e-03 |  Final up: 9.315e-02 |  Final fluid: 4.698e-02 |  Final interface: 1.727e-04 |  Final initial: 1.274e-02 |  Final fluid_total: 2.176e-01 |  Final solid_total: 7.034e-03 | \n",
      "INFO:src.utils.logger:_save_checkpoint: Epoch 3400 | Training checkpoint saved at ./checkpoints/2025-08-17_20-59-34-456463/model.pth\n",
      "INFO:src.utils.logger:Epoch 3400/60000, Total: 2.1e-01, Data(F&S): 1.5e-02, Physics: 3.9e-02, Boundary: 1.5e-01, FSI: 9.6e-05, Solid: 7.1e-03, Initial: 9.0e-03, LR: 1.00e-03\n",
      "INFO:src.utils.logger:Epoch 3500/60000, Total: 2.2e-01, Data(F&S): 1.8e-02, Physics: 4.2e-02, Boundary: 1.5e-01, FSI: 1.3e-04, Solid: 7.1e-03, Initial: 1.3e-02, LR: 1.00e-03\n",
      "INFO:src.utils.logger:Final losses:\n",
      "INFO:src.utils.logger:Final left: 1.658e-02 |  Final right: 1.611e-02 |  Final bottom: 7.321e-04 |  Final up: 7.523e-02 |  Final fluid: 3.827e-02 |  Final interface: 1.103e-04 |  Final initial: 8.586e-03 |  Final fluid_total: 1.695e-01 |  Final solid_total: 6.655e-03 | \n",
      "INFO:src.utils.logger:_save_checkpoint: Epoch 3600 | Training checkpoint saved at ./checkpoints/2025-08-17_20-59-34-456463/model.pth\n",
      "INFO:src.utils.logger:Epoch 3600/60000, Total: 1.7e-01, Data(F&S): 1.4e-02, Physics: 4.3e-02, Boundary: 1.0e-01, FSI: 9.6e-05, Solid: 6.6e-03, Initial: 8.8e-03, LR: 1.00e-03\n",
      "INFO:src.utils.logger:Epoch 3700/60000, Total: 1.8e-01, Data(F&S): 1.5e-02, Physics: 3.7e-02, Boundary: 1.1e-01, FSI: 2.3e-04, Solid: 6.8e-03, Initial: 1.2e-02, LR: 1.00e-03\n",
      "INFO:src.utils.logger:Final losses:\n",
      "INFO:src.utils.logger:Final left: 1.653e-02 |  Final right: 1.681e-02 |  Final bottom: 2.906e-03 |  Final up: 7.062e-02 |  Final fluid: 3.760e-02 |  Final interface: 1.124e-04 |  Final initial: 8.052e-03 |  Final fluid_total: 1.670e-01 |  Final solid_total: 6.474e-03 | \n",
      "INFO:src.utils.logger:_save_checkpoint: Epoch 3800 | Training checkpoint saved at ./checkpoints/2025-08-17_20-59-34-456463/model.pth\n",
      "INFO:src.utils.logger:Epoch 3800/60000, Total: 1.7e-01, Data(F&S): 1.4e-02, Physics: 3.8e-02, Boundary: 1.1e-01, FSI: 1.0e-04, Solid: 6.5e-03, Initial: 9.2e-03, LR: 1.00e-03\n"
     ]
    }
   ],
   "source": [
    "\n",
    "trainer = PINNTrainer(\n",
    "    fluid_model=fluid_model,\n",
    "    solid_model=solid_model,\n",
    "    training_data=training_data,\n",
    "    learning_rate=config[\"learning_rate\"],\n",
    "    logger=logger,\n",
    "    device=config[\"device\"],\n",
    "    fluid_density=config[\"fluid_density\"],\n",
    "    fluid_viscosity=config[\"fluid_viscosity\"],\n",
    "    print_every=config[\"print_every\"],\n",
    "    save_every=config[\"save_every\"],\n",
    "    solver=config[\"solver\"],\n",
    "    model=config[\"model\"],\n",
    ")\n",
    "\n",
    "\n",
    "loss_history = trainer.train(\n",
    "    num_epochs=config[\"num_epochs\"],\n",
    "    batch_size=config[\"batch_size\"],\n",
    "    data_weight=config[\"data_weight\"],\n",
    "    physics_weight=config[\"physics_weight\"],\n",
    "    boundary_weight=config[\"boundary_weight\"],\n",
    "    fsi_weight=config[\"fsi_weight\"],\n",
    "    initial_weight=config[\"initial_weight\"],\n",
    ")\n"
   ]
  },
  {
   "cell_type": "code",
   "execution_count": null,
   "id": "cc4f30a8",
   "metadata": {},
   "outputs": [],
   "source": []
  }
 ],
 "metadata": {
  "kernelspec": {
   "display_name": "pinn-fsi-gpu",
   "language": "python",
   "name": "python3"
  },
  "language_info": {
   "codemirror_mode": {
    "name": "ipython",
    "version": 3
   },
   "file_extension": ".py",
   "mimetype": "text/x-python",
   "name": "python",
   "nbconvert_exporter": "python",
   "pygments_lexer": "ipython3",
   "version": "3.12.11"
  }
 },
 "nbformat": 4,
 "nbformat_minor": 5
}
