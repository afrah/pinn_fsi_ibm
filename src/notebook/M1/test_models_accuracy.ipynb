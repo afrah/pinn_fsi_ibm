{
  "cells": [
    {
      "cell_type": "markdown",
      "metadata": {},
      "source": [
        "# Test FSI Problem with Different Models\n",
        "\n"
      ]
    },
    {
      "cell_type": "code",
      "execution_count": 1,
      "metadata": {},
      "outputs": [],
      "source": [
        "%load_ext autoreload\n",
        "%autoreload 2"
      ]
    },
    {
      "cell_type": "code",
      "execution_count": 2,
      "metadata": {},
      "outputs": [],
      "source": [
        "import sys\n",
        "import os\n",
        "import torch\n",
        "import numpy as np\n",
        "import gc\n",
        "\n",
        "import h5py\n",
        "import pandas as pd\n",
        "from matplotlib import pyplot as plt"
      ]
    },
    {
      "cell_type": "markdown",
      "metadata": {},
      "source": [
        "Import local packages"
      ]
    },
    {
      "cell_type": "code",
      "execution_count": 3,
      "metadata": {},
      "outputs": [],
      "source": [
        "PROJECT_ROOT = os.path.abspath(os.path.join(os.getcwd(), \"../..\"))\n",
        "\n",
        "if PROJECT_ROOT not in sys.path:\n",
        "    sys.path.insert(0, PROJECT_ROOT)\n",
        "\n",
        "from src.utils.logger import Logging\n",
        "from src.utils.utils import lp_error\n",
        "from src.utils.logger import Logging\n",
        "\n",
        "from src.utils.plot_loss import plot_loss_history"
      ]
    },
    {
      "cell_type": "markdown",
      "metadata": {},
      "source": [
        "Set various constant variables: model path, name, etc."
      ]
    },
    {
      "cell_type": "markdown",
      "metadata": {},
      "source": [
        "# Create logger"
      ]
    },
    {
      "cell_type": "code",
      "execution_count": null,
      "metadata": {},
      "outputs": [],
      "source": [
        "logger = Logging(TEST_CHECKPOINT_PATH)\n",
        "model_dirname = logger.get_output_dir()"
      ]
    },
    {
      "cell_type": "code",
      "execution_count": 68,
      "metadata": {},
      "outputs": [],
      "source": [
        "TEST_DATA_PKL = \"../../data/IB_PINN3.mat\"\n",
        "TEST_CHECKPOINT_PATH = os.path.join(PROJECT_ROOT, \"result/fsi\")\n",
        "\n",
        "RBA = \"/home/ubuntu/afrah/code/pinn_fsi_ibm/checkpoints/fsi/2024-10-15_18-41-49-625964/model.pth\"  # \"/home/ubuntu/afrah/code/pinn_fsi_ibm/checkpoints/fsi/2024-10-15_17-36-49-818397/model.pth\"\n",
        "FIXED_WEIGHT = \"/home/ubuntu/afrah/code/pinn_fsi_ibm/checkpoints/fsi/2024-10-15_20-33-02-752543/model.pth\"  # \"/home/ubuntu/afrah/code/pinn_fsi_ibm/checkpoints/fsi/2024-10-15_17-11-45-691256/model.pth\"\n",
        "SA = \"/home/ubuntu/afrah/code/pinn_fsi_ibm/checkpoints/fsi/2024-10-15_18-42-12-444785/model.pth\"  # \"/home/ubuntu/afrah/code/pinn_fsi_ibm/checkpoints/fsi/2024-10-15_17-37-33-081291/model.pth\"\n",
        "Grad_stat = \"/home/ubuntu/afrah/code/pinn_fsi_ibm/checkpoints/fsi/2024-10-15_18-41-55-608353/model.pth\"  # \"/home/ubuntu/afrah/code/pinn_fsi_ibm/checkpoints/fsi/2024-10-15_17-37-23-782676/model.pth\"\n",
        "\n",
        "MODEL_PATH_LIST = {\n",
        "    \"RBA\": RBA,\n",
        "    \"Fixed\": FIXED_WEIGHT,\n",
        "    \"SA\": SA,\n",
        "    \"grad_stat\": Grad_stat,\n",
        "}\n",
        "\n",
        "\n",
        "SOLVER_TO_MODULE = {\n",
        "    \"tanh\": \"src.nn.tanh\",\n",
        "    \"xsig\": \"src.nn.xsigmoid\",\n",
        "}"
      ]
    },
    {
      "cell_type": "markdown",
      "metadata": {},
      "source": []
    },
    {
      "cell_type": "code",
      "execution_count": 26,
      "metadata": {},
      "outputs": [],
      "source": []
    },
    {
      "cell_type": "markdown",
      "metadata": {},
      "source": [
        "## Load the Model and Test"
      ]
    },
    {
      "cell_type": "code",
      "execution_count": 69,
      "metadata": {},
      "outputs": [],
      "source": [
        "from src.data.IBM_data_loader import generate_fluid_testing_dataset\n",
        "\n",
        "TEST_DATA_PATH = \"../../data/IB_PINN3.mat\"\n",
        "\n",
        "\n",
        "[time_, xfa, yfa, ufa, vfa, pfa, fxfa, fyfa] = generate_fluid_testing_dataset(\n",
        "    TEST_DATA_PATH\n",
        ")\n",
        "\n",
        "\n",
        "input_ = torch.tensor(\n",
        "    np.concatenate(\n",
        "        [time_, xfa, yfa],\n",
        "        axis=1,\n",
        "    ),\n",
        "    dtype=torch.float32,\n",
        ")"
      ]
    },
    {
      "cell_type": "code",
      "execution_count": 70,
      "metadata": {},
      "outputs": [],
      "source": [
        " data_mean = torch.tensor([0.4999, 0.4989, 0.4996])\n",
        " data_std = torch.tensor([0.2916, 0.2899, 0.2891])"
      ]
    },
    {
      "cell_type": "code",
      "execution_count": 71,
      "metadata": {},
      "outputs": [
        {
          "name": "stderr",
          "output_type": "stream",
          "text": [
            "INFO:src.utils.logger:MODEL_PATH /home/ubuntu/afrah/code/pinn_fsi_ibm/checkpoints/fsi/2024-10-15_18-41-49-625964/model.pth\n",
            "INFO:src.utils.logger:model loaded from /home/ubuntu/afrah/code/pinn_fsi_ibm/checkpoints/fsi/2024-10-15_18-41-49-625964/model.pth\n",
            "INFO:src.utils.logger:problem: fsi\n",
            "INFO:src.utils.logger:dataset_path:  , None\n",
            "INFO:src.utils.logger:batch size:  , 100\n",
            "INFO:src.utils.logger:network:  , [3, 200, 200, 200, 200, 5]\n",
            "INFO:src.utils.logger:term loss weights :  , None\n",
            "INFO:src.utils.logger:method:  , RBA\n",
            "INFO:src.utils.logger:solver:  , xsig\n",
            "INFO:src.utils.logger:number of iterations:  , 60001\n",
            "INFO:src.utils.logger:RelL2_U%  : 31.62 \n",
            "INFO:src.utils.logger:RelL2_V%  : 40.90 \n",
            "INFO:src.utils.logger:RelL2_P%  : 65.59 \n",
            "INFO:src.utils.logger:RelL2_Fx%  : 100.00 \n",
            "INFO:src.utils.logger:RelL2_Fx%  : 100.00 \n",
            "INFO:src.utils.logger:Final loss left: 6.056414e-03\n",
            "INFO:src.utils.logger:Final loss right: 2.375612e-03\n",
            "INFO:src.utils.logger:Final loss bottom: 7.626747e-06\n",
            "INFO:src.utils.logger:Final loss up: 1.311964e-03\n",
            "INFO:src.utils.logger:Final loss fluid_points: 9.330670e-03\n",
            "INFO:src.utils.logger:Final loss initial: 2.702427e-02\n",
            "INFO:src.utils.logger:Final loss fluid: 2.648744e-03\n",
            "INFO:src.utils.logger:final loss sum: 4.88e-02\n",
            "INFO:src.utils.logger:******************************\n",
            "\n",
            "INFO:src.utils.logger:MODEL_PATH /home/ubuntu/afrah/code/pinn_fsi_ibm/checkpoints/fsi/2024-10-15_20-33-02-752543/model.pth\n"
          ]
        },
        {
          "ename": "TypeError",
          "evalue": "object of type 'NoneType' has no len()",
          "output_type": "error",
          "traceback": [
            "\u001b[0;31m---------------------------------------------------------------------------\u001b[0m",
            "\u001b[0;31mTypeError\u001b[0m                                 Traceback (most recent call last)",
            "Cell \u001b[0;32mIn[71], line 21\u001b[0m\n\u001b[1;32m     18\u001b[0m     PINNKAN \u001b[38;5;241m=\u001b[39m \u001b[38;5;28mgetattr\u001b[39m(module, \u001b[38;5;124m\"\u001b[39m\u001b[38;5;124mPINNKAN\u001b[39m\u001b[38;5;124m\"\u001b[39m)\n\u001b[1;32m     20\u001b[0m     \u001b[38;5;66;03m# Initialize fluid and solid models\u001b[39;00m\n\u001b[0;32m---> 21\u001b[0m     model \u001b[38;5;241m=\u001b[39m \u001b[43mPINNKAN\u001b[49m\u001b[43m(\u001b[49m\u001b[43mmodel_architecture\u001b[49m\u001b[43m,\u001b[49m\u001b[43m \u001b[49m\u001b[43mmodel_activation_name\u001b[49m\u001b[43m)\u001b[49m\u001b[38;5;241m.\u001b[39mto(\u001b[38;5;124m\"\u001b[39m\u001b[38;5;124mcpu\u001b[39m\u001b[38;5;124m\"\u001b[39m)\n\u001b[1;32m     23\u001b[0m model\u001b[38;5;241m.\u001b[39mload_state_dict(state[\u001b[38;5;124m\"\u001b[39m\u001b[38;5;124mmodel_state_dict\u001b[39m\u001b[38;5;124m\"\u001b[39m])\n\u001b[1;32m     24\u001b[0m logger\u001b[38;5;241m.\u001b[39mprint(\u001b[38;5;124mf\u001b[39m\u001b[38;5;124m\"\u001b[39m\u001b[38;5;124mmodel loaded from \u001b[39m\u001b[38;5;132;01m{\u001b[39;00mmodel_path\u001b[38;5;132;01m}\u001b[39;00m\u001b[38;5;124m\"\u001b[39m)\n",
            "File \u001b[0;32m~/afrah/code/pinn_fsi_ibm/src/nn/xsigmoid.py:20\u001b[0m, in \u001b[0;36mPINNKAN.__init__\u001b[0;34m(self, network, activation)\u001b[0m\n\u001b[1;32m     17\u001b[0m \u001b[38;5;28mself\u001b[39m\u001b[38;5;241m.\u001b[39mlayers \u001b[38;5;241m=\u001b[39m nn\u001b[38;5;241m.\u001b[39mModuleList()\n\u001b[1;32m     18\u001b[0m \u001b[38;5;28mself\u001b[39m\u001b[38;5;241m.\u001b[39mnetwork \u001b[38;5;241m=\u001b[39m network\n\u001b[0;32m---> 20\u001b[0m \u001b[38;5;28;01mfor\u001b[39;00m index \u001b[38;5;129;01min\u001b[39;00m \u001b[38;5;28mrange\u001b[39m(\u001b[38;5;28;43mlen\u001b[39;49m\u001b[43m(\u001b[49m\u001b[38;5;28;43mself\u001b[39;49m\u001b[38;5;241;43m.\u001b[39;49m\u001b[43mnetwork\u001b[49m\u001b[43m)\u001b[49m \u001b[38;5;241m-\u001b[39m \u001b[38;5;241m1\u001b[39m):\n\u001b[1;32m     21\u001b[0m     \u001b[38;5;28mself\u001b[39m\u001b[38;5;241m.\u001b[39mlayers\u001b[38;5;241m.\u001b[39mappend(\n\u001b[1;32m     22\u001b[0m         \u001b[38;5;28mself\u001b[39m\u001b[38;5;241m.\u001b[39m_create_layer(\u001b[38;5;28mself\u001b[39m\u001b[38;5;241m.\u001b[39mnetwork[index], \u001b[38;5;28mself\u001b[39m\u001b[38;5;241m.\u001b[39mnetwork[index \u001b[38;5;241m+\u001b[39m \u001b[38;5;241m1\u001b[39m])\n\u001b[1;32m     23\u001b[0m     )\n",
            "\u001b[0;31mTypeError\u001b[0m: object of type 'NoneType' has no len()"
          ]
        }
      ],
      "source": [
        "for method, model_path in MODEL_PATH_LIST.items():\n",
        "    logger.print(f\"MODEL_PATH {model_path}\")\n",
        "    # Load the state from the saved model\n",
        "    state = torch.load(\n",
        "        model_path,\n",
        "    )\n",
        "    config = state.get(\"config\", {})\n",
        "    solver = config.get(\"solver\")\n",
        "\n",
        "    # Extract model configuration from state\n",
        "    model_activation_name = config.get(\"activation\", \"Tanh\")\n",
        "    model_architecture = config.get(\"network\")\n",
        "    loss_history = state.get(\"loss_history\")\n",
        "\n",
        "    # Dynamically import the correct module and class\n",
        "    if solver in SOLVER_TO_MODULE:\n",
        "        module = __import__(SOLVER_TO_MODULE[solver], fromlist=[\"PINNKAN\"])\n",
        "        PINNKAN = getattr(module, \"PINNKAN\")\n",
        "\n",
        "        # Initialize fluid and solid models\n",
        "        model = PINNKAN(model_architecture, model_activation_name).to(\"cpu\")\n",
        "\n",
        "    model.load_state_dict(state[\"model_state_dict\"])\n",
        "    logger.print(f\"model loaded from {model_path}\")\n",
        "    logger.print(f\"problem: {config.get('problem')}\")\n",
        "    logger.print(f\"dataset_path:  , {config.get('dataset_path')}\")\n",
        "    logger.print(f\"batch size:  , {config.get('batch_size')}\")\n",
        "    logger.print(f\"network:  , {config.get('network')}\")\n",
        "    logger.print(f\"term loss weights :  , {config.get('weights')}\")\n",
        "    logger.print(f\"method:  , {config.get('weighting')}\")\n",
        "    logger.print(f\"solver:  , {config.get('solver')}\")\n",
        "    logger.print(\n",
        "        f\"number of iterations:  , {len(loss_history[next(iter(loss_history))])}\"\n",
        "    )\n",
        "\n",
        "    test_torch_data = torch.tensor(\n",
        "        np.concatenate([time_, xfa, yfa], axis=1), dtype=torch.float32\n",
        "    ).to(\"cpu\")\n",
        "    with torch.no_grad():\n",
        "        predictions = model.forward(test_torch_data, data_mean, data_std)\n",
        "    if predictions.is_cuda:\n",
        "        predictions = predictions.cpu()\n",
        "    u_pred = predictions[:, 0:1].numpy()\n",
        "    v_pred = predictions[:, 1:2].numpy()\n",
        "    p_pred = predictions[:, 2:3].numpy()\n",
        "    fx_pred = predictions[:, 3:4].numpy()\n",
        "    fy_pred = predictions[:, 4:5].numpy()\n",
        "\n",
        "    text = \"RelL2_\"\n",
        "    # logger.print(\"\\n Relative L2 ERROR:\")\n",
        "    u_error2 = lp_error(u_pred, ufa, (text + \"U%\"), logger, 2)\n",
        "    v_error2 = lp_error(v_pred, vfa, (text + \"V%\"), logger, 2)\n",
        "    p_error2 = lp_error(p_pred, pfa, (text + \"P%\"), logger, 2)\n",
        "    fx_error2 = lp_error(fx_pred, fxfa, (text + \"Fx%\"), logger, 2)\n",
        "    fx_error2 = lp_error(fy_pred, fxfa, (text + \"Fx%\"), logger, 2)\n",
        "\n",
        "    for key in loss_history:\n",
        "        logger.print(\"Final loss %s: %e\" % (key, loss_history[key][-1]))\n",
        "\n",
        "    final_loss_sum = sum([l[-1] for l in loss_history.values()])\n",
        "    logger.print(f\"final loss sum: {final_loss_sum:.2e}\")\n",
        "\n",
        "    logger.print(\"******************************\\n\")\n",
        "\n",
        "    # Delete model and clear cache after each iteration\n",
        "    del model\n",
        "    torch.cuda.empty_cache()\n",
        "    gc.collect()  # Force garbage collection to release memory\n",
        "\n",
        "logger.print(\"file directory:\", logger.get_output_dir())"
      ]
    },
    {
      "cell_type": "code",
      "execution_count": null,
      "metadata": {},
      "outputs": [],
      "source": []
    },
    {
      "cell_type": "code",
      "execution_count": null,
      "metadata": {},
      "outputs": [],
      "source": []
    },
    {
      "cell_type": "code",
      "execution_count": null,
      "metadata": {},
      "outputs": [],
      "source": []
    },
    {
      "cell_type": "code",
      "execution_count": null,
      "metadata": {},
      "outputs": [],
      "source": []
    },
    {
      "cell_type": "code",
      "execution_count": null,
      "metadata": {},
      "outputs": [],
      "source": []
    },
    {
      "cell_type": "code",
      "execution_count": null,
      "metadata": {},
      "outputs": [],
      "source": []
    },
    {
      "cell_type": "code",
      "execution_count": null,
      "metadata": {},
      "outputs": [],
      "source": []
    },
    {
      "cell_type": "code",
      "execution_count": null,
      "metadata": {},
      "outputs": [],
      "source": []
    },
    {
      "cell_type": "code",
      "execution_count": null,
      "metadata": {},
      "outputs": [],
      "source": []
    },
    {
      "cell_type": "code",
      "execution_count": null,
      "metadata": {},
      "outputs": [],
      "source": []
    },
    {
      "cell_type": "code",
      "execution_count": null,
      "metadata": {},
      "outputs": [],
      "source": []
    },
    {
      "cell_type": "code",
      "execution_count": null,
      "metadata": {},
      "outputs": [],
      "source": []
    },
    {
      "cell_type": "code",
      "execution_count": null,
      "metadata": {},
      "outputs": [],
      "source": []
    },
    {
      "cell_type": "code",
      "execution_count": null,
      "metadata": {},
      "outputs": [],
      "source": []
    }
  ],
  "metadata": {
    "kernelspec": {
      "display_name": "pytorch-2.3.1-corona-pinn",
      "language": "python",
      "name": "python3"
    },
    "language_info": {
      "codemirror_mode": {
        "name": "ipython",
        "version": 3
      },
      "file_extension": ".py",
      "mimetype": "text/x-python",
      "name": "python",
      "nbconvert_exporter": "python",
      "pygments_lexer": "ipython3",
      "version": "3.9.19"
    }
  },
  "nbformat": 4,
  "nbformat_minor": 2
}
