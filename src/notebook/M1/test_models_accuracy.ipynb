{
  "cells": [
    {
      "cell_type": "markdown",
      "metadata": {},
      "source": [
        "# Test FSI Problem with Different Models\n",
        "\n"
      ]
    },
    {
      "cell_type": "code",
      "execution_count": 1,
      "metadata": {},
      "outputs": [],
      "source": [
        "%load_ext autoreload\n",
        "%autoreload 2"
      ]
    },
    {
      "cell_type": "code",
      "execution_count": 2,
      "metadata": {},
      "outputs": [],
      "source": [
        "import sys\n",
        "import os\n",
        "import torch\n",
        "import numpy as np\n",
        "import gc\n",
        "\n",
        "import h5py\n",
        "import pandas as pd\n",
        "from matplotlib import pyplot as plt"
      ]
    },
    {
      "cell_type": "markdown",
      "metadata": {},
      "source": [
        "Import local packages"
      ]
    },
    {
      "cell_type": "code",
      "execution_count": 3,
      "metadata": {},
      "outputs": [],
      "source": [
        "PROJECT_ROOT = os.path.abspath(os.path.join(os.getcwd(), \"../../..\"))\n",
        "\n",
        "if PROJECT_ROOT not in sys.path:\n",
        "    sys.path.insert(0, PROJECT_ROOT)\n",
        "\n",
        "from src.utils.logger import Logging\n",
        "from src.utils.utils import lp_error\n",
        "from src.utils.logger import Logging\n",
        "\n",
        "from src.utils.plot_loss import plot_loss_history"
      ]
    },
    {
      "cell_type": "markdown",
      "metadata": {},
      "source": [
        "Set various constant variables: model path, name, etc."
      ]
    },
    {
      "cell_type": "markdown",
      "metadata": {},
      "source": [
        "# Create logger"
      ]
    },
    {
      "cell_type": "code",
      "execution_count": 4,
      "metadata": {},
      "outputs": [],
      "source": [
        "TEST_DATA_PKL = \"../../data/IB_PINN3.mat\"\n",
        "TEST_CHECKPOINT_PATH = os.path.join(PROJECT_ROOT, \"result/fsi\")\n",
        "\n",
        "logger = Logging(TEST_CHECKPOINT_PATH)\n",
        "model_dirname = logger.get_output_dir()"
      ]
    },
    {
      "cell_type": "code",
      "execution_count": 26,
      "metadata": {},
      "outputs": [],
      "source": []
    },
    {
      "cell_type": "markdown",
      "metadata": {},
      "source": [
        "## Load the Model and Test"
      ]
    },
    {
      "cell_type": "code",
      "execution_count": 9,
      "metadata": {},
      "outputs": [],
      "source": [
        "from src.data.IBM_data_loader import (\n",
        "    generate_fluid_testing_dataset,\n",
        "    generate_solid_testing_dataset,\n",
        ")\n",
        "\n",
        "TEST_DATA_PATH = \"../../../data/IB_PINN3.mat\"\n",
        "\n",
        "\n",
        "[time_, xfa, yfa, ufa, vfa, pfa, fxfa, fyfa] = generate_fluid_testing_dataset(\n",
        "    TEST_DATA_PATH\n",
        ")"
      ]
    },
    {
      "cell_type": "code",
      "execution_count": 8,
      "metadata": {},
      "outputs": [],
      "source": [
        "RBA = \"/home/ubuntu/afrah/code/pinn_fsi_ibm/checkpoints/fsi/2024-10-18_15-52-02-172851/model.pth\"  # \"/home/ubuntu/afrah/code/pinn_fsi_ibm/checkpoints/fsi/2024-10-16_18-05-23-054477/model.pth\"\n",
        "FIXED_WEIGHT = \"/home/ubuntu/afrah/code/pinn_fsi_ibm/checkpoints/fsi/2024-10-18_14-27-37-153943/model.pth\"  # \"/home/ubuntu/afrah/code/pinn_fsi_ibm/checkpoints/fsi/2024-10-17_17-46-43-410794/model.pth\"  # \"/home/ubuntu/afrah/code/pinn_fsi_ibm/checkpoints/fsi/2024-10-16_17-28-42-573363/model.pth\"\n",
        "SA = \"/home/ubuntu/afrah/code/pinn_fsi_ibm/checkpoints/fsi/2024-10-18_15-25-41-410079/model.pth\"  # \"/home/ubuntu/afrah/code/pinn_fsi_ibm/checkpoints/fsi/2024-10-16_18-32-58-880576/model.pth\"  # \"/home/ubuntu/afrah/code/pinn_fsi_ibm/checkpoints/fsi/2024-10-15_17-37-33-081291/model.pth\"\n",
        "Grad_stat = \"/home/ubuntu/afrah/code/pinn_fsi_ibm/checkpoints/fsi/2024-10-18_15-46-19-868599/model.pth\"  # \"/home/ubuntu/afrah/code/pinn_fsi_ibm/checkpoints/fsi/2024-10-16_17-51-22-642694/model.pth\"  # \"/home/ubuntu/afrah/code/pinn_fsi_ibm/checkpoints/fsi/2024-10-15_17-37-23-782676/model.pth\"\n",
        "\n",
        "MODEL_PATH_LIST = {\n",
        "    \"RBA\": RBA,\n",
        "    \"Fixed\": FIXED_WEIGHT,\n",
        "    \"SA\": SA,\n",
        "    \"grad_stat\": Grad_stat,\n",
        "}\n",
        "\n",
        "\n",
        "SOLVER_TO_MODULE = {\n",
        "    \"tanh\": \"src.nn.tanh\",\n",
        "    \"xsig\": \"src.nn.xsigmoid\",\n",
        "}\n",
        "\n",
        "DEVICE = \"cpu\""
      ]
    },
    {
      "cell_type": "code",
      "execution_count": 12,
      "metadata": {},
      "outputs": [
        {
          "name": "stderr",
          "output_type": "stream",
          "text": [
            "INFO:src.utils.logger:MODEL_PATH /home/ubuntu/afrah/code/pinn_fsi_ibm/checkpoints/fsi/2024-10-18_15-52-02-172851/model.pth\n"
          ]
        },
        {
          "name": "stderr",
          "output_type": "stream",
          "text": [
            "INFO:src.utils.logger:model loaded from /home/ubuntu/afrah/code/pinn_fsi_ibm/checkpoints/fsi/2024-10-18_15-52-02-172851/model.pth\n",
            "INFO:src.utils.logger:problem: fsi\n",
            "INFO:src.utils.logger:dataset_path:  , None\n",
            "INFO:src.utils.logger:batch size:  , 100\n",
            "INFO:src.utils.logger:network:  , [3, 400, 400, 400, 400, 5]\n",
            "INFO:src.utils.logger:term loss weights :  , None\n",
            "INFO:src.utils.logger:method:  , RBA\n",
            "INFO:src.utils.logger:solver:  , xsig\n",
            "INFO:src.utils.logger:number of iterations:  , 60001\n",
            "INFO:src.utils.logger:RelL2_U%  : 67.68 \n",
            "INFO:src.utils.logger:RelL2_V%  : 78.14 \n",
            "INFO:src.utils.logger:RelL2_P%  : 111.04 \n",
            "INFO:src.utils.logger:RelL2_Fx%  : 113.83 \n",
            "INFO:src.utils.logger:RelL2_Fx%  : 113.32 \n",
            "INFO:src.utils.logger:Final loss left: 2.749707e-02\n",
            "INFO:src.utils.logger:Final loss right: 3.691098e-02\n",
            "INFO:src.utils.logger:Final loss bottom: 1.806702e-03\n",
            "INFO:src.utils.logger:Final loss up: 4.293723e-02\n",
            "INFO:src.utils.logger:Final loss fluid_points: 2.310143e+00\n",
            "INFO:src.utils.logger:Final loss initial: 5.768725e-02\n",
            "INFO:src.utils.logger:Final loss fluid: 4.308866e-02\n",
            "INFO:src.utils.logger:final loss sum: 2.52e+00\n",
            "INFO:src.utils.logger:******************************\n",
            "\n",
            "INFO:src.utils.logger:MODEL_PATH /home/ubuntu/afrah/code/pinn_fsi_ibm/checkpoints/fsi/2024-10-18_14-27-37-153943/model.pth\n",
            "INFO:src.utils.logger:model loaded from /home/ubuntu/afrah/code/pinn_fsi_ibm/checkpoints/fsi/2024-10-18_14-27-37-153943/model.pth\n",
            "INFO:src.utils.logger:problem: fsi\n",
            "INFO:src.utils.logger:dataset_path:  , None\n",
            "INFO:src.utils.logger:batch size:  , 100\n",
            "INFO:src.utils.logger:network:  , [3, 400, 400, 400, 400, 5]\n",
            "INFO:src.utils.logger:term loss weights :  , None\n",
            "INFO:src.utils.logger:method:  , Fixed\n",
            "INFO:src.utils.logger:solver:  , xsig\n",
            "INFO:src.utils.logger:number of iterations:  , 60001\n",
            "INFO:src.utils.logger:RelL2_U%  : 29.57 \n",
            "INFO:src.utils.logger:RelL2_V%  : 80.51 \n",
            "INFO:src.utils.logger:RelL2_P%  : 64.32 \n",
            "INFO:src.utils.logger:RelL2_Fx%  : 72.03 \n",
            "INFO:src.utils.logger:RelL2_Fx%  : 70.61 \n",
            "INFO:src.utils.logger:Final loss left: 7.643857e-03\n",
            "INFO:src.utils.logger:Final loss right: 1.064182e-03\n",
            "INFO:src.utils.logger:Final loss bottom: 5.986130e-04\n",
            "INFO:src.utils.logger:Final loss up: 5.033624e-03\n",
            "INFO:src.utils.logger:Final loss fluid_points: 1.550846e+00\n",
            "INFO:src.utils.logger:Final loss initial: 1.010375e-02\n",
            "INFO:src.utils.logger:Final loss fluid: 2.439421e+00\n",
            "INFO:src.utils.logger:final loss sum: 4.01e+00\n",
            "INFO:src.utils.logger:******************************\n",
            "\n",
            "INFO:src.utils.logger:MODEL_PATH /home/ubuntu/afrah/code/pinn_fsi_ibm/checkpoints/fsi/2024-10-18_15-25-41-410079/model.pth\n",
            "INFO:src.utils.logger:model loaded from /home/ubuntu/afrah/code/pinn_fsi_ibm/checkpoints/fsi/2024-10-18_15-25-41-410079/model.pth\n",
            "INFO:src.utils.logger:problem: fsi\n",
            "INFO:src.utils.logger:dataset_path:  , None\n",
            "INFO:src.utils.logger:batch size:  , 100\n",
            "INFO:src.utils.logger:network:  , [3, 400, 400, 400, 400, 5]\n",
            "INFO:src.utils.logger:term loss weights :  , None\n",
            "INFO:src.utils.logger:method:  , SA\n",
            "INFO:src.utils.logger:solver:  , xsig\n",
            "INFO:src.utils.logger:number of iterations:  , 60001\n",
            "INFO:src.utils.logger:RelL2_U%  : 50.18 \n",
            "INFO:src.utils.logger:RelL2_V%  : 100.17 \n",
            "INFO:src.utils.logger:RelL2_P%  : 98.92 \n",
            "INFO:src.utils.logger:RelL2_Fx%  : 73.36 \n",
            "INFO:src.utils.logger:RelL2_Fx%  : 69.21 \n",
            "INFO:src.utils.logger:Final loss left: 8.437380e-03\n",
            "INFO:src.utils.logger:Final loss right: 1.727102e-02\n",
            "INFO:src.utils.logger:Final loss bottom: 6.046835e-04\n",
            "INFO:src.utils.logger:Final loss up: 9.405961e-03\n",
            "INFO:src.utils.logger:Final loss fluid_points: 7.711066e-01\n",
            "INFO:src.utils.logger:Final loss initial: 6.160666e-02\n",
            "INFO:src.utils.logger:Final loss fluid: 1.190102e-02\n",
            "INFO:src.utils.logger:final loss sum: 8.80e-01\n",
            "INFO:src.utils.logger:******************************\n",
            "\n",
            "INFO:src.utils.logger:MODEL_PATH /home/ubuntu/afrah/code/pinn_fsi_ibm/checkpoints/fsi/2024-10-18_15-46-19-868599/model.pth\n",
            "INFO:src.utils.logger:model loaded from /home/ubuntu/afrah/code/pinn_fsi_ibm/checkpoints/fsi/2024-10-18_15-46-19-868599/model.pth\n",
            "INFO:src.utils.logger:problem: fsi\n",
            "INFO:src.utils.logger:dataset_path:  , None\n",
            "INFO:src.utils.logger:batch size:  , 100\n",
            "INFO:src.utils.logger:network:  , [3, 400, 400, 400, 400, 5]\n",
            "INFO:src.utils.logger:term loss weights :  , None\n",
            "INFO:src.utils.logger:method:  , grad_stat\n",
            "INFO:src.utils.logger:solver:  , xsig\n",
            "INFO:src.utils.logger:number of iterations:  , 60001\n",
            "INFO:src.utils.logger:RelL2_U%  : 89.92 \n",
            "INFO:src.utils.logger:RelL2_V%  : 95.99 \n",
            "INFO:src.utils.logger:RelL2_P%  : 99.83 \n",
            "INFO:src.utils.logger:RelL2_Fx%  : 100.03 \n",
            "INFO:src.utils.logger:RelL2_Fx%  : 100.02 \n",
            "INFO:src.utils.logger:Final loss left: 1.265290e-03\n",
            "INFO:src.utils.logger:Final loss right: 1.765809e-02\n",
            "INFO:src.utils.logger:Final loss bottom: 1.890348e-06\n",
            "INFO:src.utils.logger:Final loss up: 8.257858e-01\n",
            "INFO:src.utils.logger:Final loss fluid_points: 5.899083e+00\n",
            "INFO:src.utils.logger:Final loss initial: 3.353252e-02\n",
            "INFO:src.utils.logger:Final loss fluid: 6.158181e-05\n",
            "INFO:src.utils.logger:final loss sum: 6.78e+00\n",
            "INFO:src.utils.logger:******************************\n",
            "\n",
            "INFO:src.utils.logger:file directory:\n",
            "INFO:src.utils.logger:/home/ubuntu/afrah/code/pinn_fsi_ibm/result/fsi/2024-10-18_15-48-18-323390\n"
          ]
        }
      ],
      "source": [
        "for method, model_path in MODEL_PATH_LIST.items():\n",
        "    logger.print(f\"MODEL_PATH {model_path}\")\n",
        "    # Load the state from the saved model\n",
        "    state = torch.load(\n",
        "        model_path,\n",
        "    )\n",
        "    config = state.get(\"config\", {})\n",
        "    solver = config.get(\"solver\")\n",
        "\n",
        "    # Extract model configuration from state\n",
        "    model_activation_name = config.get(\"activation\", \"Tanh\")\n",
        "    model_architecture = config.get(\"network\")\n",
        "    loss_history = state.get(\"loss_history\")\n",
        "    data_mean = state.get(\"data_mean\")\n",
        "    data_std = state.get(\"data_std\")\n",
        "    data_mean = data_mean.to(DEVICE)\n",
        "    data_std = data_std.to(DEVICE)\n",
        "\n",
        "    # Dynamically import the correct module and class\n",
        "    if solver in SOLVER_TO_MODULE:\n",
        "        module = __import__(SOLVER_TO_MODULE[solver], fromlist=[\"PINNKAN\"])\n",
        "        PINNKAN = getattr(module, \"PINNKAN\")\n",
        "\n",
        "        # Initialize fluid and solid models\n",
        "        model = PINNKAN(model_architecture, model_activation_name).to(\"cpu\")\n",
        "    else:\n",
        "        raise ValueError(f\"Solver {solver} not supported\")\n",
        "    model.load_state_dict(state[\"model_state_dict\"])\n",
        "    logger.print(f\"model loaded from {model_path}\")\n",
        "    logger.print(f\"problem: {config.get('problem')}\")\n",
        "    logger.print(f\"dataset_path:  , {config.get('dataset_path')}\")\n",
        "    logger.print(f\"batch size:  , {config.get('batch_size')}\")\n",
        "    logger.print(f\"network:  , {config.get('network')}\")\n",
        "    logger.print(f\"term loss weights :  , {config.get('weights')}\")\n",
        "    logger.print(f\"method:  , {config.get('weighting')}\")\n",
        "    logger.print(f\"solver:  , {config.get('solver')}\")\n",
        "    logger.print(\n",
        "        f\"number of iterations:  , {len(loss_history[next(iter(loss_history))])}\"\n",
        "    )\n",
        "\n",
        "    test_torch_data = torch.tensor(\n",
        "        np.concatenate([time_, xfa, yfa], axis=1), dtype=torch.float32\n",
        "    ).to(DEVICE)\n",
        "    with torch.no_grad():\n",
        "        predictions = model.forward(test_torch_data, data_mean[:3], data_std[:3])\n",
        "    if predictions.is_cuda:\n",
        "        predictions = predictions.cpu()\n",
        "    u_pred = predictions[:, 0:1].numpy()\n",
        "    v_pred = predictions[:, 1:2].numpy()\n",
        "    p_pred = predictions[:, 2:3].numpy()\n",
        "    fx_pred = predictions[:, 3:4].numpy()\n",
        "    fy_pred = predictions[:, 4:5].numpy()\n",
        "\n",
        "    text = \"RelL2_\"\n",
        "    # logger.print(\"\\n Relative L2 ERROR:\")\n",
        "    u_error2 = lp_error(u_pred, ufa, (text + \"U%\"), logger, 2)\n",
        "    v_error2 = lp_error(v_pred, vfa, (text + \"V%\"), logger, 2)\n",
        "    p_error2 = lp_error(p_pred, pfa, (text + \"P%\"), logger, 2)\n",
        "    fx_error2 = lp_error(fx_pred, fxfa, (text + \"Fx%\"), logger, 2)\n",
        "    fx_error2 = lp_error(fy_pred, fyfa, (text + \"Fx%\"), logger, 2)\n",
        "\n",
        "    for key in loss_history:\n",
        "        logger.print(\"Final loss %s: %e\" % (key, loss_history[key][-1]))\n",
        "\n",
        "    final_loss_sum = sum([l[-1] for l in loss_history.values()])\n",
        "    logger.print(f\"final loss sum: {final_loss_sum:.2e}\")\n",
        "\n",
        "    logger.print(\"******************************\\n\")\n",
        "\n",
        "    # Delete model and clear cache after each iteration\n",
        "    del model\n",
        "    torch.cuda.empty_cache()\n",
        "    del predictions\n",
        "    del state\n",
        "\n",
        "    gc.collect()  # Force garbage collection to release memory\n",
        "\n",
        "logger.print(\"file directory:\", logger.get_output_dir())"
      ]
    },
    {
      "cell_type": "code",
      "execution_count": null,
      "metadata": {},
      "outputs": [],
      "source": []
    },
    {
      "cell_type": "code",
      "execution_count": null,
      "metadata": {},
      "outputs": [],
      "source": []
    },
    {
      "cell_type": "code",
      "execution_count": null,
      "metadata": {},
      "outputs": [],
      "source": []
    },
    {
      "cell_type": "code",
      "execution_count": null,
      "metadata": {},
      "outputs": [],
      "source": []
    },
    {
      "cell_type": "code",
      "execution_count": null,
      "metadata": {},
      "outputs": [],
      "source": []
    },
    {
      "cell_type": "code",
      "execution_count": null,
      "metadata": {},
      "outputs": [],
      "source": []
    },
    {
      "cell_type": "code",
      "execution_count": null,
      "metadata": {},
      "outputs": [],
      "source": []
    },
    {
      "cell_type": "code",
      "execution_count": null,
      "metadata": {},
      "outputs": [],
      "source": []
    },
    {
      "cell_type": "code",
      "execution_count": null,
      "metadata": {},
      "outputs": [],
      "source": []
    },
    {
      "cell_type": "code",
      "execution_count": null,
      "metadata": {},
      "outputs": [],
      "source": []
    },
    {
      "cell_type": "code",
      "execution_count": null,
      "metadata": {},
      "outputs": [],
      "source": []
    },
    {
      "cell_type": "code",
      "execution_count": null,
      "metadata": {},
      "outputs": [],
      "source": []
    },
    {
      "cell_type": "code",
      "execution_count": null,
      "metadata": {},
      "outputs": [],
      "source": []
    },
    {
      "cell_type": "code",
      "execution_count": null,
      "metadata": {},
      "outputs": [],
      "source": []
    }
  ],
  "metadata": {
    "kernelspec": {
      "display_name": "pytorch-2.3.1-corona-pinn",
      "language": "python",
      "name": "python3"
    },
    "language_info": {
      "codemirror_mode": {
        "name": "ipython",
        "version": 3
      },
      "file_extension": ".py",
      "mimetype": "text/x-python",
      "name": "python",
      "nbconvert_exporter": "python",
      "pygments_lexer": "ipython3",
      "version": "undefined.undefined.undefined"
    }
  },
  "nbformat": 4,
  "nbformat_minor": 2
}
