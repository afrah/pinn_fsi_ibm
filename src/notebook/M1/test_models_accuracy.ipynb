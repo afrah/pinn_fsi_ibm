{
  "cells": [
    {
      "cell_type": "markdown",
      "metadata": {},
      "source": [
        "# Test FSI Problem with Different Models\n",
        "\n"
      ]
    },
    {
      "cell_type": "code",
      "execution_count": 16,
      "metadata": {},
      "outputs": [
        {
          "name": "stdout",
          "output_type": "stream",
          "text": [
            "The autoreload extension is already loaded. To reload it, use:\n",
            "  %reload_ext autoreload\n"
          ]
        }
      ],
      "source": [
        "%load_ext autoreload\n",
        "%autoreload 2"
      ]
    },
    {
      "cell_type": "code",
      "execution_count": 17,
      "metadata": {},
      "outputs": [],
      "source": [
        "import sys\n",
        "import os\n",
        "import torch\n",
        "import numpy as np\n",
        "import gc\n",
        "\n",
        "import h5py\n",
        "import pandas as pd\n",
        "from matplotlib import pyplot as plt"
      ]
    },
    {
      "cell_type": "markdown",
      "metadata": {},
      "source": [
        "Import local packages"
      ]
    },
    {
      "cell_type": "code",
      "execution_count": 18,
      "metadata": {},
      "outputs": [],
      "source": [
        "PROJECT_ROOT = os.path.abspath(os.path.join(os.getcwd(), \"../../..\"))\n",
        "\n",
        "if PROJECT_ROOT not in sys.path:\n",
        "    sys.path.insert(0, PROJECT_ROOT)\n",
        "\n",
        "from src.utils.logger import Logging\n",
        "from src.utils.utils import lp_error\n",
        "from src.utils.logger import Logging\n",
        "\n",
        "from src.utils.plot_loss import plot_loss_history"
      ]
    },
    {
      "cell_type": "markdown",
      "metadata": {},
      "source": [
        "Set various constant variables: model path, name, etc."
      ]
    },
    {
      "cell_type": "markdown",
      "metadata": {},
      "source": [
        "# Create logger"
      ]
    },
    {
      "cell_type": "code",
      "execution_count": 19,
      "metadata": {},
      "outputs": [],
      "source": [
        "TEST_DATA_PKL = \"../../data/IB_PINN3.mat\"\n",
        "TEST_CHECKPOINT_PATH = os.path.join(PROJECT_ROOT, \"result/fsi\")\n",
        "\n",
        "logger = Logging(TEST_CHECKPOINT_PATH)\n",
        "model_dirname = logger.get_output_dir()"
      ]
    },
    {
      "cell_type": "code",
      "execution_count": 27,
      "metadata": {},
      "outputs": [],
      "source": [
        "RBA = \"/home/ubuntu/afrah/code/pinn_fsi_ibm/checkpoints/fsi/2024-10-17_18-18-48-029989/model.pth\"  # \"/home/ubuntu/afrah/code/pinn_fsi_ibm/checkpoints/fsi/2024-10-16_18-05-23-054477/model.pth\"\n",
        "FIXED_WEIGHT = \"/home/ubuntu/afrah/code/pinn_fsi_ibm/checkpoints/fsi/2024-10-17_17-46-43-410794/model.pth\"  # \"/home/ubuntu/afrah/code/pinn_fsi_ibm/checkpoints/fsi/2024-10-16_17-28-42-573363/model.pth\"\n",
        "SA = \"/home/ubuntu/afrah/code/pinn_fsi_ibm/checkpoints/fsi/2024-10-16_18-32-58-880576/model.pth\"  # \"/home/ubuntu/afrah/code/pinn_fsi_ibm/checkpoints/fsi/2024-10-15_17-37-33-081291/model.pth\"\n",
        "Grad_stat = \"/home/ubuntu/afrah/code/pinn_fsi_ibm/checkpoints/fsi/2024-10-17_17-30-15-380032/model.pth\"  # \"/home/ubuntu/afrah/code/pinn_fsi_ibm/checkpoints/fsi/2024-10-16_17-51-22-642694/model.pth\"  # \"/home/ubuntu/afrah/code/pinn_fsi_ibm/checkpoints/fsi/2024-10-15_17-37-23-782676/model.pth\"\n",
        "\n",
        "MODEL_PATH_LIST = {\n",
        "    \"RBA\": RBA,\n",
        "    \"Fixed\": FIXED_WEIGHT,\n",
        "    \"SA\": SA,\n",
        "    \"grad_stat\": Grad_stat,\n",
        "}\n",
        "\n",
        "\n",
        "SOLVER_TO_MODULE = {\n",
        "    \"tanh\": \"src.nn.tanh\",\n",
        "    \"xsig\": \"src.nn.xsigmoid\",\n",
        "}\n",
        "\n",
        "DEVICE = \"cpu\""
      ]
    },
    {
      "cell_type": "code",
      "execution_count": 26,
      "metadata": {},
      "outputs": [],
      "source": []
    },
    {
      "cell_type": "markdown",
      "metadata": {},
      "source": [
        "## Load the Model and Test"
      ]
    },
    {
      "cell_type": "code",
      "execution_count": 28,
      "metadata": {},
      "outputs": [],
      "source": [
        "from src.data.IBM_data_loader import (\n",
        "    generate_fluid_testing_dataset,\n",
        "    generate_solid_testing_dataset,\n",
        ")\n",
        "\n",
        "TEST_DATA_PATH = \"../../../data/IB_PINN3.mat\"\n",
        "\n",
        "\n",
        "[time_, xfa, yfa, ufa, vfa, pfa, fxfa, fyfa] = generate_fluid_testing_dataset(\n",
        "    TEST_DATA_PATH\n",
        ")"
      ]
    },
    {
      "cell_type": "code",
      "execution_count": 29,
      "metadata": {},
      "outputs": [
        {
          "name": "stderr",
          "output_type": "stream",
          "text": [
            "INFO:src.utils.logger:MODEL_PATH /home/ubuntu/afrah/code/pinn_fsi_ibm/checkpoints/fsi/2024-10-17_18-18-48-029989/model.pth\n"
          ]
        },
        {
          "name": "stderr",
          "output_type": "stream",
          "text": [
            "INFO:src.utils.logger:model loaded from /home/ubuntu/afrah/code/pinn_fsi_ibm/checkpoints/fsi/2024-10-17_18-18-48-029989/model.pth\n",
            "INFO:src.utils.logger:problem: fsi\n",
            "INFO:src.utils.logger:dataset_path:  , None\n",
            "INFO:src.utils.logger:batch size:  , 128\n",
            "INFO:src.utils.logger:network:  , [3, 400, 400, 400, 400, 5]\n",
            "INFO:src.utils.logger:term loss weights :  , None\n",
            "INFO:src.utils.logger:method:  , RBA\n",
            "INFO:src.utils.logger:solver:  , xsig\n",
            "INFO:src.utils.logger:number of iterations:  , 60001\n",
            "INFO:src.utils.logger:RelL2_U%  : 47.30 \n",
            "INFO:src.utils.logger:RelL2_V%  : 101.22 \n",
            "INFO:src.utils.logger:RelL2_P%  : 99.44 \n",
            "INFO:src.utils.logger:RelL2_Fx%  : 95.43 \n",
            "INFO:src.utils.logger:RelL2_Fx%  : 87.74 \n",
            "INFO:src.utils.logger:Final loss left: 1.566815e-02\n",
            "INFO:src.utils.logger:Final loss right: 2.196104e-02\n",
            "INFO:src.utils.logger:Final loss bottom: 1.044687e-04\n",
            "INFO:src.utils.logger:Final loss up: 3.649559e-02\n",
            "INFO:src.utils.logger:Final loss fluid_points: 2.299547e+00\n",
            "INFO:src.utils.logger:Final loss initial: 3.735235e-02\n",
            "INFO:src.utils.logger:Final loss fluid: 4.203402e-02\n",
            "INFO:src.utils.logger:final loss sum: 2.45e+00\n",
            "INFO:src.utils.logger:******************************\n",
            "\n",
            "INFO:src.utils.logger:MODEL_PATH /home/ubuntu/afrah/code/pinn_fsi_ibm/checkpoints/fsi/2024-10-17_17-46-43-410794/model.pth\n",
            "INFO:src.utils.logger:model loaded from /home/ubuntu/afrah/code/pinn_fsi_ibm/checkpoints/fsi/2024-10-17_17-46-43-410794/model.pth\n",
            "INFO:src.utils.logger:problem: fsi\n",
            "INFO:src.utils.logger:dataset_path:  , None\n",
            "INFO:src.utils.logger:batch size:  , 128\n",
            "INFO:src.utils.logger:network:  , [3, 400, 400, 400, 400, 5]\n",
            "INFO:src.utils.logger:term loss weights :  , None\n",
            "INFO:src.utils.logger:method:  , Fixed\n",
            "INFO:src.utils.logger:solver:  , xsig\n",
            "INFO:src.utils.logger:number of iterations:  , 60001\n",
            "INFO:src.utils.logger:RelL2_U%  : 37.15 \n",
            "INFO:src.utils.logger:RelL2_V%  : 92.01 \n",
            "INFO:src.utils.logger:RelL2_P%  : 83.28 \n",
            "INFO:src.utils.logger:RelL2_Fx%  : 78.57 \n",
            "INFO:src.utils.logger:RelL2_Fx%  : 79.34 \n",
            "INFO:src.utils.logger:Final loss left: 3.204110e-03\n",
            "INFO:src.utils.logger:Final loss right: 4.803637e-03\n",
            "INFO:src.utils.logger:Final loss bottom: 7.331403e-04\n",
            "INFO:src.utils.logger:Final loss up: 5.601043e-03\n",
            "INFO:src.utils.logger:Final loss fluid_points: 1.300230e+00\n",
            "INFO:src.utils.logger:Final loss initial: 1.787356e-02\n",
            "INFO:src.utils.logger:Final loss fluid: 2.333469e+00\n",
            "INFO:src.utils.logger:final loss sum: 3.67e+00\n",
            "INFO:src.utils.logger:******************************\n",
            "\n",
            "INFO:src.utils.logger:MODEL_PATH /home/ubuntu/afrah/code/pinn_fsi_ibm/checkpoints/fsi/2024-10-16_18-32-58-880576/model.pth\n",
            "INFO:src.utils.logger:model loaded from /home/ubuntu/afrah/code/pinn_fsi_ibm/checkpoints/fsi/2024-10-16_18-32-58-880576/model.pth\n",
            "INFO:src.utils.logger:problem: fsi\n",
            "INFO:src.utils.logger:dataset_path:  , None\n",
            "INFO:src.utils.logger:batch size:  , 100\n",
            "INFO:src.utils.logger:network:  , [3, 300, 300, 300, 300, 5]\n",
            "INFO:src.utils.logger:term loss weights :  , None\n",
            "INFO:src.utils.logger:method:  , SA\n",
            "INFO:src.utils.logger:solver:  , xsig\n",
            "INFO:src.utils.logger:number of iterations:  , 60001\n",
            "INFO:src.utils.logger:RelL2_U%  : 68.78 \n",
            "INFO:src.utils.logger:RelL2_V%  : 99.70 \n",
            "INFO:src.utils.logger:RelL2_P%  : 109.75 \n",
            "INFO:src.utils.logger:RelL2_Fx%  : 99.81 \n",
            "INFO:src.utils.logger:RelL2_Fx%  : 99.93 \n",
            "INFO:src.utils.logger:Final loss left: 3.193806e-03\n",
            "INFO:src.utils.logger:Final loss right: 7.000424e-03\n",
            "INFO:src.utils.logger:Final loss bottom: 2.429662e-03\n",
            "INFO:src.utils.logger:Final loss up: 4.747904e-01\n",
            "INFO:src.utils.logger:Final loss fluid_points: 2.255333e+00\n",
            "INFO:src.utils.logger:Final loss initial: 3.687770e-02\n",
            "INFO:src.utils.logger:Final loss fluid: 2.936264e-01\n",
            "INFO:src.utils.logger:final loss sum: 3.07e+00\n",
            "INFO:src.utils.logger:******************************\n",
            "\n",
            "INFO:src.utils.logger:MODEL_PATH /home/ubuntu/afrah/code/pinn_fsi_ibm/checkpoints/fsi/2024-10-17_17-30-15-380032/model.pth\n",
            "INFO:src.utils.logger:model loaded from /home/ubuntu/afrah/code/pinn_fsi_ibm/checkpoints/fsi/2024-10-17_17-30-15-380032/model.pth\n",
            "INFO:src.utils.logger:problem: fsi\n",
            "INFO:src.utils.logger:dataset_path:  , None\n",
            "INFO:src.utils.logger:batch size:  , 128\n",
            "INFO:src.utils.logger:network:  , [3, 400, 400, 400, 400, 5]\n",
            "INFO:src.utils.logger:term loss weights :  , None\n",
            "INFO:src.utils.logger:method:  , grad_stat\n",
            "INFO:src.utils.logger:solver:  , xsig\n",
            "INFO:src.utils.logger:number of iterations:  , 60001\n",
            "INFO:src.utils.logger:RelL2_U%  : 32.25 \n",
            "INFO:src.utils.logger:RelL2_V%  : 71.93 \n",
            "INFO:src.utils.logger:RelL2_P%  : 83.46 \n",
            "INFO:src.utils.logger:RelL2_Fx%  : 87.31 \n",
            "INFO:src.utils.logger:RelL2_Fx%  : 77.45 \n",
            "INFO:src.utils.logger:Final loss left: 2.724954e-05\n",
            "INFO:src.utils.logger:Final loss right: 3.440243e-05\n",
            "INFO:src.utils.logger:Final loss bottom: 1.665829e-09\n",
            "INFO:src.utils.logger:Final loss up: 8.158055e-04\n",
            "INFO:src.utils.logger:Final loss fluid_points: 2.038341e+00\n",
            "INFO:src.utils.logger:Final loss initial: 1.175832e-03\n",
            "INFO:src.utils.logger:Final loss fluid: 1.162018e+00\n",
            "INFO:src.utils.logger:final loss sum: 3.20e+00\n",
            "INFO:src.utils.logger:******************************\n",
            "\n",
            "INFO:src.utils.logger:file directory:\n",
            "INFO:src.utils.logger:/home/ubuntu/afrah/code/pinn_fsi_ibm/result/fsi/2024-10-17_18-37-37-031341\n"
          ]
        }
      ],
      "source": [
        "for method, model_path in MODEL_PATH_LIST.items():\n",
        "    logger.print(f\"MODEL_PATH {model_path}\")\n",
        "    # Load the state from the saved model\n",
        "    state = torch.load(\n",
        "        model_path,\n",
        "    )\n",
        "    config = state.get(\"config\", {})\n",
        "    solver = config.get(\"solver\")\n",
        "\n",
        "    # Extract model configuration from state\n",
        "    model_activation_name = config.get(\"activation\", \"Tanh\")\n",
        "    model_architecture = config.get(\"network\")\n",
        "    loss_history = state.get(\"loss_history\")\n",
        "    data_mean = state.get(\"data_mean\")\n",
        "    data_std = state.get(\"data_std\")\n",
        "    data_mean = data_mean.to(DEVICE)\n",
        "    data_std = data_std.to(DEVICE)\n",
        "\n",
        "    # Dynamically import the correct module and class\n",
        "    if solver in SOLVER_TO_MODULE:\n",
        "        module = __import__(SOLVER_TO_MODULE[solver], fromlist=[\"PINNKAN\"])\n",
        "        PINNKAN = getattr(module, \"PINNKAN\")\n",
        "\n",
        "        # Initialize fluid and solid models\n",
        "        model = PINNKAN(model_architecture, model_activation_name).to(\"cpu\")\n",
        "    else:\n",
        "        raise ValueError(f\"Solver {solver} not supported\")\n",
        "    model.load_state_dict(state[\"model_state_dict\"])\n",
        "    logger.print(f\"model loaded from {model_path}\")\n",
        "    logger.print(f\"problem: {config.get('problem')}\")\n",
        "    logger.print(f\"dataset_path:  , {config.get('dataset_path')}\")\n",
        "    logger.print(f\"batch size:  , {config.get('batch_size')}\")\n",
        "    logger.print(f\"network:  , {config.get('network')}\")\n",
        "    logger.print(f\"term loss weights :  , {config.get('weights')}\")\n",
        "    logger.print(f\"method:  , {config.get('weighting')}\")\n",
        "    logger.print(f\"solver:  , {config.get('solver')}\")\n",
        "    logger.print(\n",
        "        f\"number of iterations:  , {len(loss_history[next(iter(loss_history))])}\"\n",
        "    )\n",
        "\n",
        "    test_torch_data = torch.tensor(\n",
        "        np.concatenate([time_, xfa, yfa], axis=1), dtype=torch.float32\n",
        "    ).to(DEVICE)\n",
        "    with torch.no_grad():\n",
        "        predictions = model.forward(test_torch_data, data_mean[:3], data_std[:3])\n",
        "    if predictions.is_cuda:\n",
        "        predictions = predictions.cpu()\n",
        "    u_pred = predictions[:, 0:1].numpy()\n",
        "    v_pred = predictions[:, 1:2].numpy()\n",
        "    p_pred = predictions[:, 2:3].numpy()\n",
        "    fx_pred = predictions[:, 3:4].numpy()\n",
        "    fy_pred = predictions[:, 4:5].numpy()\n",
        "\n",
        "    text = \"RelL2_\"\n",
        "    # logger.print(\"\\n Relative L2 ERROR:\")\n",
        "    u_error2 = lp_error(u_pred, ufa, (text + \"U%\"), logger, 2)\n",
        "    v_error2 = lp_error(v_pred, vfa, (text + \"V%\"), logger, 2)\n",
        "    p_error2 = lp_error(p_pred, pfa, (text + \"P%\"), logger, 2)\n",
        "    fx_error2 = lp_error(fx_pred, fxfa, (text + \"Fx%\"), logger, 2)\n",
        "    fx_error2 = lp_error(fy_pred, fyfa, (text + \"Fx%\"), logger, 2)\n",
        "\n",
        "    for key in loss_history:\n",
        "        logger.print(\"Final loss %s: %e\" % (key, loss_history[key][-1]))\n",
        "\n",
        "    final_loss_sum = sum([l[-1] for l in loss_history.values()])\n",
        "    logger.print(f\"final loss sum: {final_loss_sum:.2e}\")\n",
        "\n",
        "    logger.print(\"******************************\\n\")\n",
        "\n",
        "    # Delete model and clear cache after each iteration\n",
        "    del model\n",
        "    torch.cuda.empty_cache()\n",
        "    del predictions\n",
        "    del state\n",
        "\n",
        "    gc.collect()  # Force garbage collection to release memory\n",
        "\n",
        "logger.print(\"file directory:\", logger.get_output_dir())"
      ]
    },
    {
      "cell_type": "code",
      "execution_count": null,
      "metadata": {},
      "outputs": [],
      "source": []
    },
    {
      "cell_type": "code",
      "execution_count": null,
      "metadata": {},
      "outputs": [],
      "source": []
    },
    {
      "cell_type": "code",
      "execution_count": null,
      "metadata": {},
      "outputs": [],
      "source": []
    },
    {
      "cell_type": "code",
      "execution_count": null,
      "metadata": {},
      "outputs": [],
      "source": []
    },
    {
      "cell_type": "code",
      "execution_count": null,
      "metadata": {},
      "outputs": [],
      "source": []
    },
    {
      "cell_type": "code",
      "execution_count": null,
      "metadata": {},
      "outputs": [],
      "source": []
    },
    {
      "cell_type": "code",
      "execution_count": null,
      "metadata": {},
      "outputs": [],
      "source": []
    },
    {
      "cell_type": "code",
      "execution_count": null,
      "metadata": {},
      "outputs": [],
      "source": []
    },
    {
      "cell_type": "code",
      "execution_count": null,
      "metadata": {},
      "outputs": [],
      "source": []
    },
    {
      "cell_type": "code",
      "execution_count": null,
      "metadata": {},
      "outputs": [],
      "source": []
    },
    {
      "cell_type": "code",
      "execution_count": null,
      "metadata": {},
      "outputs": [],
      "source": []
    },
    {
      "cell_type": "code",
      "execution_count": null,
      "metadata": {},
      "outputs": [],
      "source": []
    },
    {
      "cell_type": "code",
      "execution_count": null,
      "metadata": {},
      "outputs": [],
      "source": []
    },
    {
      "cell_type": "code",
      "execution_count": null,
      "metadata": {},
      "outputs": [],
      "source": []
    }
  ],
  "metadata": {
    "kernelspec": {
      "display_name": "pytorch-2.3.1-corona-pinn",
      "language": "python",
      "name": "python3"
    },
    "language_info": {
      "codemirror_mode": {
        "name": "ipython",
        "version": 3
      },
      "file_extension": ".py",
      "mimetype": "text/x-python",
      "name": "python",
      "nbconvert_exporter": "python",
      "pygments_lexer": "ipython3",
      "version": "3.9.19"
    }
  },
  "nbformat": 4,
  "nbformat_minor": 2
}
