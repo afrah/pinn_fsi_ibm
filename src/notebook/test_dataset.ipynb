{
 "cells": [
  {
   "cell_type": "code",
   "execution_count": 1,
   "metadata": {},
   "outputs": [],
   "source": [
    "%load_ext autoreload\n",
    "%autoreload 2\n"
   ]
  },
  {
   "cell_type": "code",
   "execution_count": 13,
   "metadata": {},
   "outputs": [],
   "source": [
    "import sys\n",
    "import os\n",
    "import torch\n",
    "import numpy as np\n",
    "import torch.nn as nn\n",
    "from matplotlib import pyplot as plt\n",
    "import pylab as py\n"
   ]
  },
  {
   "cell_type": "code",
   "execution_count": null,
   "metadata": {},
   "outputs": [],
   "source": [
    "import pickle\n",
    "from dotenv import load_dotenv\n",
    "\n",
    "load_dotenv()\n",
    "\n",
    "PROJECT_ROOT = os.path.abspath(os.path.join(os.getcwd(), \"./\"))\n",
    "\n",
    "PRINT_EVERY = 1000\n",
    "\n",
    "if PROJECT_ROOT not in sys.path:\n",
    "    sys.path.insert(0, PROJECT_ROOT)\n",
    "\n",
    "from src.data.IBM_data_loader import generate_fluid_testing_dataset\n",
    "from src.utils.utils import lp_error\n",
    "from src.utils.logger import Logging\n",
    "\n",
    "device = \"cpu\"  # torch.device(\"cuda\" if torch.cuda.is_available() else \"cpu\")\n",
    "\n",
    "\n",
    "# h=  0.498715\n",
    "# k=  0.6851750000000001\n",
    "# rx=  0.209685\n",
    "# ry=  0.21008499999999997"
   ]
  },
  {
   "cell_type": "code",
   "execution_count": 6,
   "metadata": {},
   "outputs": [],
   "source": [
    "import scipy.io\n",
    "\n",
    "DATASET_PATH = \"../../../data/Fluid_trainingData.mat\"\n",
    "\n",
    "Fluid_data = scipy.io.loadmat(DATASET_PATH)"
   ]
  },
  {
   "cell_type": "code",
   "execution_count": 7,
   "metadata": {},
   "outputs": [
    {
     "name": "stdout",
     "output_type": "stream",
     "text": [
      "FluidData: self.txy_fluid.shape=torch.Size([5254, 3]),  self.mean_x=tensor([ 4.9990e-01,  4.9894e-01,  4.9961e-01,  1.3564e-03, -9.7318e-05,\n",
      "         4.9485e-03,  3.1105e-02,  2.4140e-02], device='cuda:0'), self.std_x=tensor([0.2916, 0.2899, 0.2891, 0.1945, 0.1283, 0.1063, 1.0616, 1.2818],\n",
      "       device='cuda:0')\n",
      "SolidData: self.txy_solid_points.shape=torch.Size([5751, 3]),  self.mean_x=tensor([ 0.5044,  0.4681,  0.6500, -0.0141,  0.0202, -0.0229, -0.0135,  0.0388],\n",
      "       device='cuda:0'), self.std_x=tensor([0.2904, 0.1507, 0.1432, 0.1211, 0.1068, 0.0879, 2.7985, 2.8484],\n",
      "       device='cuda:0')\n",
      "FluidSolidInterfaceData: self.txy_interface.shape=torch.Size([1272, 3]),  self.mean_x=tensor([ 4.9987e-01,  4.7140e-01,  6.5488e-01, -9.2838e-03,  1.6183e-02,\n",
      "        -7.2188e-03, -1.0877e+02,  6.6249e+01], device='cuda:0'), self.std_x=tensor([2.9152e-01, 1.8003e-01, 1.7312e-01, 1.4472e-01, 1.3384e-01, 1.7582e-01,\n",
      "        1.0932e+03, 7.2630e+02], device='cuda:0')\n"
     ]
    }
   ],
   "source": [
    "from src.data import IBM_data_loader\n",
    "from src.data.IBM_data_loader import IBM_data_loader\n",
    "\n",
    "\n",
    "train_dataloader = IBM_data_loader(DATASET_PATH, \"cuda:0\")"
   ]
  },
  {
   "cell_type": "code",
   "execution_count": null,
   "metadata": {},
   "outputs": [],
   "source": [
    "file_path = \"./data/IB_PINN3.mat\"\n",
    "\n",
    "tstep = 101\n",
    "xstep = 102\n",
    "ystep = 102\n",
    "\n",
    "[tfa, xfa, yfa, ufa, ufa, pfa, fxfa, fyfa] = generate_fluid_testing_dataset(file_path)\n",
    "\n",
    "\n",
    "x = xfa.reshape(tstep, xstep, ystep)[0, :, 0]\n",
    "y = yfa.reshape(tstep, xstep, ystep)[0, 0, :]\n",
    "t = tfa.reshape(tstep, xstep, ystep)[:, 0, 0]\n",
    "\n",
    "u = ufa.reshape(tstep, xstep, ystep)[20, :, :]\n",
    "v = ufa.reshape(tstep, xstep, ystep)[20, :, :]\n"
   ]
  },
  {
   "cell_type": "code",
   "execution_count": null,
   "metadata": {},
   "outputs": [],
   "source": []
  }
 ],
 "metadata": {
  "kernelspec": {
   "display_name": "pytorch-2.3.1-corona-pinn",
   "language": "python",
   "name": "python3"
  },
  "language_info": {
   "codemirror_mode": {
    "name": "ipython",
    "version": 3
   },
   "file_extension": ".py",
   "mimetype": "text/x-python",
   "name": "python",
   "nbconvert_exporter": "python",
   "pygments_lexer": "ipython3",
   "version": "3.11.9"
  }
 },
 "nbformat": 4,
 "nbformat_minor": 2
}
