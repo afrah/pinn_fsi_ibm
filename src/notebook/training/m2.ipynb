{
  "cells": [
    {
      "cell_type": "code",
      "execution_count": 1,
      "metadata": {},
      "outputs": [],
      "source": [
        "%load_ext autoreload\n",
        "%autoreload 2\n"
      ]
    },
    {
      "cell_type": "code",
      "execution_count": 2,
      "metadata": {},
      "outputs": [],
      "source": [
        "import sys\n",
        "import os\n",
        "import torch\n",
        "import numpy as np\n",
        "import torch.nn as nn\n",
        "import scipy\n",
        "import pandas as pd\n",
        "import matplotlib.pyplot as plt\n",
        "\n"
      ]
    },
    {
      "cell_type": "code",
      "execution_count": 3,
      "metadata": {},
      "outputs": [],
      "source": [
        "\n",
        "from src.utils.utils import lp_error\n",
        "from src.utils.logger import Logging\n",
        "from src.utils.colors import model_color\n",
        "from src.utils.draw_contour_plts import (\n",
        "    plot_time_profile_regular_data_IBM_uvp,\n",
        "    draw_contour_plts,\n",
        "    draw_interface_contour_plts\n",
        ")\n",
        "from src.nn.tanh import MLP\n",
        "from src.nn.bspline import KAN\n",
        "from src.utils.utils import clear_gpu_memory\n",
        "from src.data.IBM_data_loader import prepare_training_data, visualize_tensor_datasets\n",
        "from src.data.IBM_data_loader import load_training_dataset, load_fluid_testing_dataset\n",
        "from src.models.m2 import PINNTrainer\n",
        "from src.utils.plot_losses import plot_M1_loss_history\n",
        "from src.utils.fsi_visualization import create_frames , create_animations_from_existing_frames\n"
      ]
    },
    {
      "cell_type": "code",
      "execution_count": 4,
      "metadata": {},
      "outputs": [
        {
          "name": "stderr",
          "output_type": "stream",
          "text": [
            "INFO:src.utils.logger:./checkpoints/2025-04-30_11-21-30-658507\n"
          ]
        }
      ],
      "source": [
        "\n",
        "CHECKPOINT_PATH =  \"./checkpoints\"\n",
        "logger = Logging(CHECKPOINT_PATH)\n",
        "model_dirname = logger.get_output_dir()\n",
        "\n",
        "logger.print(model_dirname)\n"
      ]
    },
    {
      "cell_type": "code",
      "execution_count": 5,
      "metadata": {},
      "outputs": [
        {
          "name": "stdout",
          "output_type": "stream",
          "text": [
            "GPU memory cleared!\n"
          ]
        }
      ],
      "source": [
        "\n",
        "clear_gpu_memory()\n",
        "config = {\n",
        "    # Data parameters\n",
        "    'dataset_type': 'new',\n",
        "    'training_selection_method': 'Sobol',\n",
        "    # Model parameters\n",
        "    'input_dim': 3,      # (x, y, z, t)\n",
        "    'hidden_dim': 100,\n",
        "    'hidden_layers_dim': 3,\n",
        "    \n",
        "    # Physics parameters\n",
        "    'fluid_density': 1.0,\n",
        "    'fluid_viscosity': 0.01,\n",
        "    \n",
        "    # Training parameters\n",
        "    'num_epochs': 10000,\n",
        "    'batch_size': 265,\n",
        "    'learning_rate': 1e-3,\n",
        "    # Loss weights\n",
        "    'data_weight': 4.0,\n",
        "    'physics_weight': 1.0,\n",
        "    'boundary_weight': 4.0,\n",
        "    'fsi_weight': 1.0,\n",
        "    'initial_weight': 4.0,\n",
        "    \n",
        "    # Checkpoint parameters\n",
        "    'checkpoint_dir': './checkpoints',\n",
        "    'resume': None,\n",
        "    'print_every': 100,\n",
        "    'save_every': 500,\n",
        "    \n",
        "    # Data sampling parameters\n",
        "    'fluid_sampling_ratio': 0.005,\n",
        "    'interface_sampling_ratio': 0.02,\n",
        "    'solid_sampling_ratio': 0.05,\n",
        "    'left_sampling_ratio': 0.1,\n",
        "    'right_sampling_ratio': 0.15,\n",
        "    'bottom_sampling_ratio': 0.1,\n",
        "    'top_sampling_ratio': 0.1,\n",
        "    'initial_sampling_ratio': 0.1,\n",
        "    \n",
        "    # Device parameters\n",
        "    'device': torch.device('cuda' if torch.cuda.is_available() else 'cpu'),\n",
        "    'solver': 'mlp',\n",
        "    'model': 'm2'\n",
        "}\n"
      ]
    },
    {
      "cell_type": "code",
      "execution_count": 6,
      "metadata": {},
      "outputs": [
        {
          "name": "stderr",
          "output_type": "stream",
          "text": [
            "INFO:src.utils.logger:Config:\n",
            "INFO:src.utils.logger:dataset_type: new\n",
            "INFO:src.utils.logger:training_selection_method: Sobol\n",
            "INFO:src.utils.logger:input_dim: 3\n",
            "INFO:src.utils.logger:hidden_dim: 100\n",
            "INFO:src.utils.logger:hidden_layers_dim: 3\n",
            "INFO:src.utils.logger:fluid_density: 1.0\n",
            "INFO:src.utils.logger:fluid_viscosity: 0.01\n",
            "INFO:src.utils.logger:num_epochs: 10000\n",
            "INFO:src.utils.logger:batch_size: 265\n",
            "INFO:src.utils.logger:learning_rate: 0.001\n",
            "INFO:src.utils.logger:data_weight: 4.0\n",
            "INFO:src.utils.logger:physics_weight: 1.0\n",
            "INFO:src.utils.logger:boundary_weight: 4.0\n",
            "INFO:src.utils.logger:fsi_weight: 1.0\n",
            "INFO:src.utils.logger:initial_weight: 4.0\n",
            "INFO:src.utils.logger:checkpoint_dir: ./checkpoints\n",
            "INFO:src.utils.logger:resume: None\n",
            "INFO:src.utils.logger:print_every: 100\n",
            "INFO:src.utils.logger:save_every: 500\n",
            "INFO:src.utils.logger:fluid_sampling_ratio: 0.005\n",
            "INFO:src.utils.logger:interface_sampling_ratio: 0.02\n",
            "INFO:src.utils.logger:solid_sampling_ratio: 0.05\n",
            "INFO:src.utils.logger:left_sampling_ratio: 0.1\n",
            "INFO:src.utils.logger:right_sampling_ratio: 0.15\n",
            "INFO:src.utils.logger:bottom_sampling_ratio: 0.1\n",
            "INFO:src.utils.logger:top_sampling_ratio: 0.1\n",
            "INFO:src.utils.logger:initial_sampling_ratio: 0.1\n",
            "INFO:src.utils.logger:device: cuda\n",
            "INFO:src.utils.logger:solver: mlp\n",
            "INFO:src.utils.logger:model: m2\n"
          ]
        }
      ],
      "source": [
        "\n",
        "## print the config\n",
        "logger.print(\"Config:\")\n",
        "for key, value in config.items():\n",
        "    logger.print(f\"{key}: {value}\")\n",
        "\n"
      ]
    },
    {
      "cell_type": "code",
      "execution_count": 7,
      "metadata": {},
      "outputs": [
        {
          "name": "stdout",
          "output_type": "stream",
          "text": [
            "Loaded interface tensor from ./data/training_dataset/new/interface_tensor.pt with shape torch.Size([2040, 8])\n",
            "Loaded fluid tensor from ./data/training_dataset/new/fluid_tensor.pt with shape torch.Size([5329, 8])\n",
            "Loaded left tensor from ./data/training_dataset/new/left_tensor.pt with shape torch.Size([1020, 8])\n",
            "Loaded initial tensor from ./data/training_dataset/new/initial_tensor.pt with shape torch.Size([1116, 8])\n",
            "Loaded bottom tensor from ./data/training_dataset/new/bottom_tensor.pt with shape torch.Size([1020, 8])\n",
            "Loaded right tensor from ./data/training_dataset/new/right_tensor.pt with shape torch.Size([1530, 8])\n",
            "Loaded fluid_points tensor from ./data/training_dataset/new/fluid_points_tensor.pt with shape torch.Size([1818, 8])\n",
            "Loaded solid tensor from ./data/training_dataset/new/solid_tensor.pt with shape torch.Size([254, 8])\n",
            "Loaded up tensor from ./data/training_dataset/new/up_tensor.pt with shape torch.Size([1020, 8])\n",
            "Loaded training dataset from ./data/training_dataset/new successfully!\n",
            "Saved tensor datasets scatter plot to ./data/training_dataset/new/tensor_datasets_scatter.png\n"
          ]
        }
      ],
      "source": [
        "training_data_path = './data/training_dataset/new'\n",
        "\n",
        "# Load data\n",
        "\n",
        "training_data = load_training_dataset(training_data_path  , device=config['device'])\n",
        "# print(f\"Training data type: {training_data[list(training_data.keys())[0]].dtype}\")\n",
        "\n",
        "if training_data is None:\n",
        "    training_data = prepare_training_data(dataset_type=config['dataset_type'], \n",
        "                                                  fluid_sampling_ratio=config['fluid_sampling_ratio'],\n",
        "                                                  interface_sampling_ratio=config['interface_sampling_ratio'],\n",
        "                                                  solid_sampling_ratio=config['solid_sampling_ratio'],\n",
        "                                                  left_sampling_ratio=config['left_sampling_ratio'],\n",
        "                                                  right_sampling_ratio=config['right_sampling_ratio'],\n",
        "                                                  bottom_sampling_ratio=config['bottom_sampling_ratio'],\n",
        "                                                  top_sampling_ratio=config['top_sampling_ratio'],\n",
        "                                                  initial_sampling_ratio=config['initial_sampling_ratio'],\n",
        "                                                  training_selection_method=config['training_selection_method'],\n",
        "                                                  device=config['device'],\n",
        "                                                  save_dir=training_data_path)\n",
        "\n",
        "\n",
        "visualize_tensor_datasets(training_data, save_dir=training_data_path)\n",
        "\n"
      ]
    },
    {
      "cell_type": "code",
      "execution_count": 8,
      "metadata": {},
      "outputs": [
        {
          "name": "stderr",
          "output_type": "stream",
          "text": [
            "INFO:src.utils.logger:Fluid model architecture:\n",
            "INFO:src.utils.logger:MLP(\n",
            "  (layers): ModuleList(\n",
            "    (0): Linear(in_features=3, out_features=100, bias=True)\n",
            "    (1-2): 2 x Linear(in_features=100, out_features=100, bias=True)\n",
            "    (3): Linear(in_features=100, out_features=3, bias=True)\n",
            "  )\n",
            ")\n",
            "INFO:src.utils.logger:Number of parameters: 20903\n",
            "INFO:src.utils.logger:Solid model architecture:\n",
            "INFO:src.utils.logger:MLP(\n",
            "  (layers): ModuleList(\n",
            "    (0): Linear(in_features=3, out_features=100, bias=True)\n",
            "    (1-2): 2 x Linear(in_features=100, out_features=100, bias=True)\n",
            "    (3): Linear(in_features=100, out_features=3, bias=True)\n",
            "  )\n",
            ")\n",
            "INFO:src.utils.logger:Number of parameters: 20903\n"
          ]
        }
      ],
      "source": [
        "fluid_network = [config['input_dim']] + [config['hidden_dim']] * config['hidden_layers_dim'] + [3]\n",
        "solid_network = [config['input_dim']] + [config['hidden_dim']] * config['hidden_layers_dim'] + [3]\n",
        "\n",
        "if config['solver'] == 'mlp':\n",
        "    fluid_model = MLP(network=fluid_network)\n",
        "    solid_model = MLP(network=solid_network)\n",
        "else:\n",
        "    fluid_model = KAN(network=fluid_network)\n",
        "    solid_model = KAN(network=solid_network)\n",
        "\n",
        "logger.print(f\"Fluid model architecture:\")\n",
        "logger.print(fluid_model)\n",
        "logger.print(f\"Number of parameters: {sum(p.numel() for p in fluid_model.parameters())}\")\n",
        "\n",
        "logger.print(f\"Solid model architecture:\")\n",
        "logger.print(solid_model)\n",
        "logger.print(f\"Number of parameters: {sum(p.numel() for p in solid_model.parameters())}\")\n"
      ]
    },
    {
      "cell_type": "code",
      "execution_count": 9,
      "metadata": {},
      "outputs": [
        {
          "name": "stderr",
          "output_type": "stream",
          "text": [
            "/home/vlq26735/anaconda3/envs/pinn_ibm4fsi/lib/python3.10/site-packages/torch/optim/lr_scheduler.py:28: UserWarning: The verbose parameter is deprecated. Please use get_last_lr() to access the learning rate.\n",
            "  warnings.warn(\"The verbose parameter is deprecated. Please use get_last_lr() \"\n",
            "INFO:src.utils.logger:Epoch 100/10000, Total: 2.2e+00, Physics: 5.8e-03, Boundary: 1.6e+00, FSI: 4.6e-01, Initial: 1.6e-01, LR: 1.00e-03\n",
            "INFO:src.utils.logger:Epoch 200/10000, Total: 2.0e+00, Physics: 2.3e-02, Boundary: 1.4e+00, FSI: 4.6e-01, Initial: 1.5e-01, LR: 1.00e-03\n",
            "INFO:src.utils.logger:Epoch 300/10000, Total: 9.5e-01, Physics: 2.5e-02, Boundary: 5.8e-01, FSI: 2.1e-01, Initial: 1.2e-01, LR: 1.00e-03\n",
            "INFO:src.utils.logger:Epoch 400/10000, Total: 8.1e-01, Physics: 3.0e-02, Boundary: 4.7e-01, FSI: 1.9e-01, Initial: 1.1e-01, LR: 1.00e-03\n",
            "INFO:src.utils.logger:Epoch 500/10000, Total: 6.9e-01, Physics: 2.8e-02, Boundary: 3.9e-01, FSI: 1.7e-01, Initial: 1.0e-01, LR: 1.00e-03\n",
            "INFO:src.utils.logger:Final losses:\n",
            "INFO:src.utils.logger:Final left: 9.808e-02 |  Final right: 1.051e-01 |  Final bottom: 7.441e-03 |  Final up: 1.834e-01 |  Final fluid: 2.791e-02 |  Final interface: 1.674e-01 |  Final initial: 1.007e-01 |  Final total: 6.901e-01 | \n",
            "INFO:src.utils.logger:_save_checkpoint: Epoch 500 | Training checkpoint saved at ./checkpoints/2025-04-30_11-21-30-658507/model.pth\n",
            "INFO:src.utils.logger:Epoch 600/10000, Total: 5.7e-01, Physics: 2.2e-02, Boundary: 3.3e-01, FSI: 1.4e-01, Initial: 7.6e-02, LR: 1.00e-03\n",
            "INFO:src.utils.logger:Epoch 700/10000, Total: 4.8e-01, Physics: 2.3e-02, Boundary: 2.5e-01, FSI: 1.3e-01, Initial: 7.8e-02, LR: 1.00e-03\n",
            "INFO:src.utils.logger:Epoch 800/10000, Total: 4.4e-01, Physics: 2.2e-02, Boundary: 2.3e-01, FSI: 1.2e-01, Initial: 6.6e-02, LR: 1.00e-03\n",
            "INFO:src.utils.logger:Epoch 900/10000, Total: 4.3e-01, Physics: 2.5e-02, Boundary: 2.2e-01, FSI: 1.2e-01, Initial: 6.5e-02, LR: 1.00e-03\n",
            "INFO:src.utils.logger:Epoch 1000/10000, Total: 4.2e-01, Physics: 2.6e-02, Boundary: 2.1e-01, FSI: 1.2e-01, Initial: 5.6e-02, LR: 1.00e-03\n",
            "INFO:src.utils.logger:Final losses:\n",
            "INFO:src.utils.logger:Final left: 5.468e-02 |  Final right: 6.139e-02 |  Final bottom: 3.847e-03 |  Final up: 9.486e-02 |  Final fluid: 2.644e-02 |  Final interface: 1.211e-01 |  Final initial: 5.635e-02 |  Final total: 4.186e-01 | \n",
            "INFO:src.utils.logger:_save_checkpoint: Epoch 1000 | Training checkpoint saved at ./checkpoints/2025-04-30_11-21-30-658507/model.pth\n",
            "INFO:src.utils.logger:Epoch 1100/10000, Total: 4.0e-01, Physics: 2.9e-02, Boundary: 2.0e-01, FSI: 1.1e-01, Initial: 5.3e-02, LR: 1.00e-03\n",
            "INFO:src.utils.logger:Epoch 1200/10000, Total: 3.8e-01, Physics: 2.8e-02, Boundary: 2.0e-01, FSI: 1.1e-01, Initial: 4.8e-02, LR: 1.00e-03\n"
          ]
        },
        {
          "ename": "KeyboardInterrupt",
          "evalue": "",
          "output_type": "error",
          "traceback": [
            "\u001b[0;31m---------------------------------------------------------------------------\u001b[0m",
            "\u001b[0;31mKeyboardInterrupt\u001b[0m                         Traceback (most recent call last)",
            "Cell \u001b[0;32mIn[9], line 19\u001b[0m\n\u001b[1;32m      2\u001b[0m trainer \u001b[38;5;241m=\u001b[39m PINNTrainer(\n\u001b[1;32m      3\u001b[0m     fluid_model\u001b[38;5;241m=\u001b[39mfluid_model,\n\u001b[1;32m      4\u001b[0m     solid_model\u001b[38;5;241m=\u001b[39msolid_model,\n\u001b[0;32m   (...)\u001b[0m\n\u001b[1;32m     14\u001b[0m     model\u001b[38;5;241m=\u001b[39mconfig[\u001b[38;5;124m'\u001b[39m\u001b[38;5;124mmodel\u001b[39m\u001b[38;5;124m'\u001b[39m]\n\u001b[1;32m     15\u001b[0m )\n\u001b[1;32m     18\u001b[0m \u001b[38;5;66;03m# Train model\u001b[39;00m\n\u001b[0;32m---> 19\u001b[0m loss_history \u001b[38;5;241m=\u001b[39m \u001b[43mtrainer\u001b[49m\u001b[38;5;241;43m.\u001b[39;49m\u001b[43mtrain\u001b[49m\u001b[43m(\u001b[49m\n\u001b[1;32m     20\u001b[0m \u001b[43m    \u001b[49m\u001b[43mnum_epochs\u001b[49m\u001b[38;5;241;43m=\u001b[39;49m\u001b[43mconfig\u001b[49m\u001b[43m[\u001b[49m\u001b[38;5;124;43m'\u001b[39;49m\u001b[38;5;124;43mnum_epochs\u001b[39;49m\u001b[38;5;124;43m'\u001b[39;49m\u001b[43m]\u001b[49m\u001b[43m,\u001b[49m\n\u001b[1;32m     21\u001b[0m \u001b[43m    \u001b[49m\u001b[43mbatch_size\u001b[49m\u001b[38;5;241;43m=\u001b[39;49m\u001b[43mconfig\u001b[49m\u001b[43m[\u001b[49m\u001b[38;5;124;43m'\u001b[39;49m\u001b[38;5;124;43mbatch_size\u001b[39;49m\u001b[38;5;124;43m'\u001b[39;49m\u001b[43m]\u001b[49m\u001b[43m,\u001b[49m\n\u001b[1;32m     22\u001b[0m \u001b[43m    \u001b[49m\u001b[43mdata_weight\u001b[49m\u001b[38;5;241;43m=\u001b[39;49m\u001b[43mconfig\u001b[49m\u001b[43m[\u001b[49m\u001b[38;5;124;43m'\u001b[39;49m\u001b[38;5;124;43mdata_weight\u001b[39;49m\u001b[38;5;124;43m'\u001b[39;49m\u001b[43m]\u001b[49m\u001b[43m,\u001b[49m\n\u001b[1;32m     23\u001b[0m \u001b[43m    \u001b[49m\u001b[43mphysics_weight\u001b[49m\u001b[38;5;241;43m=\u001b[39;49m\u001b[43mconfig\u001b[49m\u001b[43m[\u001b[49m\u001b[38;5;124;43m'\u001b[39;49m\u001b[38;5;124;43mphysics_weight\u001b[39;49m\u001b[38;5;124;43m'\u001b[39;49m\u001b[43m]\u001b[49m\u001b[43m,\u001b[49m\n\u001b[1;32m     24\u001b[0m \u001b[43m    \u001b[49m\u001b[43mboundary_weight\u001b[49m\u001b[38;5;241;43m=\u001b[39;49m\u001b[43mconfig\u001b[49m\u001b[43m[\u001b[49m\u001b[38;5;124;43m'\u001b[39;49m\u001b[38;5;124;43mboundary_weight\u001b[39;49m\u001b[38;5;124;43m'\u001b[39;49m\u001b[43m]\u001b[49m\u001b[43m,\u001b[49m\n\u001b[1;32m     25\u001b[0m \u001b[43m    \u001b[49m\u001b[43mfsi_weight\u001b[49m\u001b[38;5;241;43m=\u001b[39;49m\u001b[43mconfig\u001b[49m\u001b[43m[\u001b[49m\u001b[38;5;124;43m'\u001b[39;49m\u001b[38;5;124;43mfsi_weight\u001b[39;49m\u001b[38;5;124;43m'\u001b[39;49m\u001b[43m]\u001b[49m\u001b[43m,\u001b[49m\n\u001b[1;32m     26\u001b[0m \u001b[43m    \u001b[49m\u001b[43minitial_weight\u001b[49m\u001b[38;5;241;43m=\u001b[39;49m\u001b[43mconfig\u001b[49m\u001b[43m[\u001b[49m\u001b[38;5;124;43m'\u001b[39;49m\u001b[38;5;124;43minitial_weight\u001b[39;49m\u001b[38;5;124;43m'\u001b[39;49m\u001b[43m]\u001b[49m\u001b[43m)\u001b[49m\n",
            "File \u001b[0;32m~/saiful/afrah/code/pinn_ibm4fsi2/src/models/m2.py:275\u001b[0m, in \u001b[0;36mPINNTrainer.train\u001b[0;34m(self, num_epochs, batch_size, data_weight, physics_weight, boundary_weight, fsi_weight, initial_weight)\u001b[0m\n\u001b[1;32m    273\u001b[0m loss \u001b[38;5;241m=\u001b[39m torch\u001b[38;5;241m.\u001b[39mtensor(\u001b[38;5;241m0.0\u001b[39m, requires_grad\u001b[38;5;241m=\u001b[39m\u001b[38;5;28;01mTrue\u001b[39;00m)\u001b[38;5;241m.\u001b[39mto(\u001b[38;5;28mself\u001b[39m\u001b[38;5;241m.\u001b[39mdevice)\n\u001b[1;32m    274\u001b[0m solid_loss \u001b[38;5;241m=\u001b[39m torch\u001b[38;5;241m.\u001b[39mtensor(\u001b[38;5;241m0.0\u001b[39m, requires_grad\u001b[38;5;241m=\u001b[39m\u001b[38;5;28;01mTrue\u001b[39;00m)\u001b[38;5;241m.\u001b[39mto(\u001b[38;5;28mself\u001b[39m\u001b[38;5;241m.\u001b[39mdevice)\n\u001b[0;32m--> 275\u001b[0m total_solid_loss \u001b[38;5;241m=\u001b[39m \u001b[43mtorch\u001b[49m\u001b[38;5;241;43m.\u001b[39;49m\u001b[43mtensor\u001b[49m\u001b[43m(\u001b[49m\u001b[38;5;241;43m0.0\u001b[39;49m\u001b[43m,\u001b[49m\u001b[43m \u001b[49m\u001b[43mrequires_grad\u001b[49m\u001b[38;5;241;43m=\u001b[39;49m\u001b[38;5;28;43;01mTrue\u001b[39;49;00m\u001b[43m)\u001b[49m\u001b[38;5;241;43m.\u001b[39;49m\u001b[43mto\u001b[49m\u001b[43m(\u001b[49m\u001b[38;5;28;43mself\u001b[39;49m\u001b[38;5;241;43m.\u001b[39;49m\u001b[43mdevice\u001b[49m\u001b[43m)\u001b[49m\n\u001b[1;32m    277\u001b[0m \u001b[38;5;66;03m# if domain_type in ['fluid_points']:  # these are non-interface points\u001b[39;00m\n\u001b[1;32m    278\u001b[0m \u001b[38;5;66;03m#     fluid_outputs = self.fluid_model(inputs)\u001b[39;00m\n\u001b[1;32m    279\u001b[0m     \n\u001b[0;32m   (...)\u001b[0m\n\u001b[1;32m    294\u001b[0m \u001b[38;5;66;03m#     )\u001b[39;00m\n\u001b[1;32m    295\u001b[0m \u001b[38;5;66;03m#     epoch_losses[domain_type] += solid_loss\u001b[39;00m\n\u001b[1;32m    297\u001b[0m \u001b[38;5;28;01mif\u001b[39;00m domain_type \u001b[38;5;241m==\u001b[39m \u001b[38;5;124m'\u001b[39m\u001b[38;5;124mfluid\u001b[39m\u001b[38;5;124m'\u001b[39m:\n\u001b[1;32m    298\u001b[0m     \u001b[38;5;66;03m# NS loss using PDE residuals at non interface points (fluid points)\u001b[39;00m\n",
            "\u001b[0;31mKeyboardInterrupt\u001b[0m: "
          ]
        }
      ],
      "source": [
        "\n",
        "# Create trainer\n",
        "trainer = PINNTrainer(\n",
        "    fluid_model=fluid_model,\n",
        "    solid_model=solid_model,\n",
        "    training_data=training_data,\n",
        "    learning_rate=config['learning_rate'],\n",
        "    logger=logger,\n",
        "    device=config['device'],\n",
        "    fluid_density=config['fluid_density'],\n",
        "    fluid_viscosity=config['fluid_viscosity'],\n",
        "    print_every=config['print_every'],\n",
        "    save_every=config['save_every'],\n",
        "    solver=config['solver'],\n",
        "    model=config['model']\n",
        ")\n",
        "\n",
        "\n",
        "# Train model\n",
        "loss_history = trainer.train(\n",
        "    num_epochs=config['num_epochs'],\n",
        "    batch_size=config['batch_size'],\n",
        "    data_weight=config['data_weight'],\n",
        "    physics_weight=config['physics_weight'],\n",
        "    boundary_weight=config['boundary_weight'],\n",
        "    fsi_weight=config['fsi_weight'],\n",
        "    initial_weight=config['initial_weight'])\n",
        "\n"
      ]
    },
    {
      "cell_type": "code",
      "execution_count": 10,
      "metadata": {},
      "outputs": [
        {
          "name": "stderr",
          "output_type": "stream",
          "text": [
            "INFO:src.utils.logger:Number of parameters: 20903\n",
            "/home/vlq26735/saiful/afrah/code/pinn_ibm4fsi2/src/utils/plot_losses.py:141: UserWarning: Attempt to set non-positive ylim on a log-scaled axis will be ignored.\n",
            "  ax.set_ylim(bottom=y_min)\n"
          ]
        },
        {
          "name": "stdout",
          "output_type": "stream",
          "text": [
            "final loss BC: 2.15e-01\n",
            "final loss Physics: 2.64e-02\n",
            "final loss FSI: 1.21e-01\n",
            "final loss Initial: 5.63e-02\n",
            "final loss Total: 4.19e-01\n"
          ]
        },
        {
          "data": {
            "image/png": "[encoded data removed]",
            "text/plain": [
              "<Figure size 1200x800 with 1 Axes>"
            ]
          },
          "metadata": {},
          "output_type": "display_data"
        }
      ],
      "source": [
        "model_path = os.path.join(trainer.logger.get_output_dir(), \"model.pth\")\n",
        "model_state = torch.load(model_path)\n",
        "\n",
        "solver = model_state['solver']\n",
        "\n",
        "if solver == 'mlp':\n",
        "    fluid_model = MLP( model_state['fluid_network']).to(\"cpu\")\n",
        "else:\n",
        "    fluid_model = KAN( model_state['fluid_network']).to(\"cpu\")\n",
        "\n",
        "\n",
        "fluid_model.load_state_dict(model_state[\"fluid_model_state_dict\"])\n",
        "\n",
        "fluid_model.eval()\n",
        "\n",
        "logger.print(f\"Number of parameters: {sum(p.numel() for p in fluid_model.parameters())}\")\n",
        "\n",
        "loss_history = model_state['loss_history']\n",
        "\n",
        "save_path = os.path.join(logger.get_output_dir(), \"loss_history_M1.png\")\n",
        "\n",
        "plot_M1_loss_history(loss_history, save_path, y_max=20, y_min=0, figsize=(12, 8))\n"
      ]
    },
    {
      "cell_type": "code",
      "execution_count": 11,
      "metadata": {},
      "outputs": [],
      "source": [
        "\n",
        "animations_reference_dir = os.path.join(logger.get_output_dir(), \"animations_reference\")\n",
        "\n",
        "\n",
        "try:\n",
        "    testing_dataset = load_fluid_testing_dataset(config['dataset_type'])\n",
        "except Exception as e:\n",
        "    logger.print(f\"Testing dataset not found\")\n",
        "    raise e\n",
        "\n",
        "skip = 1\n",
        "time = testing_dataset[: , 0:1][::skip]\n",
        "x = testing_dataset[: , 1:2][::skip]\n",
        "y = testing_dataset[: , 2:3][::skip]\n",
        "u_ref = testing_dataset[: , 3:4][::skip]\n",
        "v_ref = testing_dataset[: , 4:5][::skip]\n",
        "p_ref = testing_dataset[: , 5:6][::skip]\n"
      ]
    },
    {
      "cell_type": "code",
      "execution_count": null,
      "metadata": {},
      "outputs": [],
      "source": []
    },
    {
      "cell_type": "code",
      "execution_count": 12,
      "metadata": {},
      "outputs": [
        {
          "name": "stderr",
          "output_type": "stream",
          "text": [
            "INFO:src.utils.logger:Relative L2 error for u: 4.02e+01 %\n",
            "INFO:src.utils.logger:Relative L2 error for v: 7.76e+01 %\n",
            "INFO:src.utils.logger:Relative L2 error for p: 9.06e+01 %\n"
          ]
        }
      ],
      "source": [
        "\n",
        "\n",
        "with torch.no_grad():\n",
        "    outputs = fluid_model(torch.cat([time, x, y], dim=1).squeeze(1))\n",
        "\n",
        "u_pred = outputs[:, 0:1]\n",
        "v_pred = outputs[:, 1:2]\n",
        "p_pred = outputs[:, 2:3]\n",
        "\n",
        "\n",
        "velocity_magnitude_pred= torch.sqrt(u_pred**2 + v_pred**2)\n",
        "\n",
        "rel_u_l2_error = torch.sqrt(torch.mean((u_pred - u_ref)**2) / torch.mean(u_ref**2))* 100\n",
        "rel_v_l2_error = torch.sqrt(torch.mean((v_pred - v_ref)**2) / torch.mean(v_ref**2))* 100\n",
        "rel_p_l2_error = torch.sqrt(torch.mean((p_pred - p_ref)**2) / torch.mean(p_ref**2))* 100\n",
        "\n",
        "logger.print(f\"Relative L2 error for u: {rel_u_l2_error:.2e} %\")\n",
        "logger.print(f\"Relative L2 error for v: {rel_v_l2_error:.2e} %\")\n",
        "logger.print(f\"Relative L2 error for p: {rel_p_l2_error:.2e} %\")\n",
        "\n"
      ]
    },
    {
      "cell_type": "code",
      "execution_count": 26,
      "metadata": {},
      "outputs": [
        {
          "name": "stdout",
          "output_type": "stream",
          "text": [
            "  Processing time step 0.00 (1/11)\n",
            "  Processing time step 0.10 (2/11)\n",
            "  Processing time step 0.20 (3/11)\n",
            "  Processing time step 0.30 (4/11)\n",
            "  Processing time step 0.41 (5/11)\n",
            "  Processing time step 0.51 (6/11)\n",
            "  Processing time step 0.61 (7/11)\n",
            "  Processing time step 0.71 (8/11)\n",
            "  Processing time step 0.81 (9/11)\n",
            "  Processing time step 0.91 (10/11)\n",
            "  Processing time step 1.00 (11/11)\n",
            "Saved frames to ./checkpoints/2025-04-29_16-02-17-989197/animations_pred/pressure\n",
            "  Processing time step 0.00 (1/11)\n",
            "  Processing time step 0.10 (2/11)\n",
            "  Processing time step 0.20 (3/11)\n",
            "  Processing time step 0.30 (4/11)\n",
            "  Processing time step 0.41 (5/11)\n",
            "  Processing time step 0.51 (6/11)\n",
            "  Processing time step 0.61 (7/11)\n",
            "  Processing time step 0.71 (8/11)\n",
            "  Processing time step 0.81 (9/11)\n",
            "  Processing time step 0.91 (10/11)\n",
            "  Processing time step 1.00 (11/11)\n",
            "Saved frames to ./checkpoints/2025-04-29_16-02-17-989197/animations_pred/velocity_magnitude\n",
            "  Processing time step 0.00 (1/11)\n",
            "  Processing time step 0.10 (2/11)\n",
            "  Processing time step 0.20 (3/11)\n",
            "  Processing time step 0.30 (4/11)\n",
            "  Processing time step 0.41 (5/11)\n",
            "  Processing time step 0.51 (6/11)\n",
            "  Processing time step 0.61 (7/11)\n",
            "  Processing time step 0.71 (8/11)\n",
            "  Processing time step 0.81 (9/11)\n",
            "  Processing time step 0.91 (10/11)\n",
            "  Processing time step 1.00 (11/11)\n",
            "Saved frames to ./checkpoints/2025-04-29_16-02-17-989197/animations_pred/u_x\n",
            "  Processing time step 0.00 (1/11)\n",
            "  Processing time step 0.10 (2/11)\n",
            "  Processing time step 0.20 (3/11)\n",
            "  Processing time step 0.30 (4/11)\n",
            "  Processing time step 0.41 (5/11)\n",
            "  Processing time step 0.51 (6/11)\n",
            "  Processing time step 0.61 (7/11)\n",
            "  Processing time step 0.71 (8/11)\n",
            "  Processing time step 0.81 (9/11)\n",
            "  Processing time step 0.91 (10/11)\n",
            "  Processing time step 1.00 (11/11)\n",
            "Saved frames to ./checkpoints/2025-04-29_16-02-17-989197/animations_pred/v_y\n",
            "All frames created successfully!\n",
            "Individual frames are saved in subdirectories of ./checkpoints/2025-04-29_16-02-17-989197/animations_pred\n"
          ]
        }
      ],
      "source": [
        "animations_pred_dir = os.path.join(logger.get_output_dir(), \"animations_pred\")\n",
        "\n",
        "prediction_df = pd.DataFrame({\n",
        "    'time': time.detach().numpy().flatten(),\n",
        "    'x': x.detach().numpy().flatten(),\n",
        "    'y': y.detach().numpy().flatten(),\n",
        "    'pressure': p_pred.detach().numpy().flatten(),\n",
        "    'u_x': u_pred.detach().numpy().flatten(),\n",
        "    'v_y': v_pred.detach().numpy().flatten(),\n",
        "    'velocity_magnitude': np.sqrt(u_pred.detach().numpy().flatten()**2 + v_pred.detach().numpy().flatten()**2)\n",
        "})\n",
        "\n",
        "create_frames(prediction_df, output_dir=animations_pred_dir, sample_rate=10)\n"
      ]
    },
    {
      "cell_type": "code",
      "execution_count": 27,
      "metadata": {},
      "outputs": [
        {
          "name": "stdout",
          "output_type": "stream",
          "text": [
            "  Processing time step 0.00 (1/11)\n",
            "  Processing time step 0.10 (2/11)\n",
            "  Processing time step 0.20 (3/11)\n",
            "  Processing time step 0.30 (4/11)\n",
            "  Processing time step 0.41 (5/11)\n",
            "  Processing time step 0.51 (6/11)\n",
            "  Processing time step 0.61 (7/11)\n",
            "  Processing time step 0.71 (8/11)\n",
            "  Processing time step 0.81 (9/11)\n",
            "  Processing time step 0.91 (10/11)\n",
            "  Processing time step 1.00 (11/11)\n",
            "Saved frames to ./checkpoints/2025-04-29_16-02-17-989197/animations_reference/pressure\n",
            "  Processing time step 0.00 (1/11)\n",
            "  Processing time step 0.10 (2/11)\n",
            "  Processing time step 0.20 (3/11)\n",
            "  Processing time step 0.30 (4/11)\n",
            "  Processing time step 0.41 (5/11)\n",
            "  Processing time step 0.51 (6/11)\n",
            "  Processing time step 0.61 (7/11)\n",
            "  Processing time step 0.71 (8/11)\n",
            "  Processing time step 0.81 (9/11)\n",
            "  Processing time step 0.91 (10/11)\n",
            "  Processing time step 1.00 (11/11)\n",
            "Saved frames to ./checkpoints/2025-04-29_16-02-17-989197/animations_reference/velocity_magnitude\n",
            "  Processing time step 0.00 (1/11)\n",
            "  Processing time step 0.10 (2/11)\n",
            "  Processing time step 0.20 (3/11)\n",
            "  Processing time step 0.30 (4/11)\n",
            "  Processing time step 0.41 (5/11)\n",
            "  Processing time step 0.51 (6/11)\n",
            "  Processing time step 0.61 (7/11)\n",
            "  Processing time step 0.71 (8/11)\n",
            "  Processing time step 0.81 (9/11)\n",
            "  Processing time step 0.91 (10/11)\n",
            "  Processing time step 1.00 (11/11)\n",
            "Saved frames to ./checkpoints/2025-04-29_16-02-17-989197/animations_reference/u_x\n",
            "  Processing time step 0.00 (1/11)\n",
            "  Processing time step 0.10 (2/11)\n",
            "  Processing time step 0.20 (3/11)\n",
            "  Processing time step 0.30 (4/11)\n",
            "  Processing time step 0.41 (5/11)\n",
            "  Processing time step 0.51 (6/11)\n",
            "  Processing time step 0.61 (7/11)\n",
            "  Processing time step 0.71 (8/11)\n",
            "  Processing time step 0.81 (9/11)\n",
            "  Processing time step 0.91 (10/11)\n",
            "  Processing time step 1.00 (11/11)\n",
            "Saved frames to ./checkpoints/2025-04-29_16-02-17-989197/animations_reference/v_y\n",
            "All frames created successfully!\n",
            "Individual frames are saved in subdirectories of ./checkpoints/2025-04-29_16-02-17-989197/animations_reference\n"
          ]
        }
      ],
      "source": [
        "\n",
        "\n",
        "testing_df = pd.DataFrame({\n",
        "    'time': time.detach().numpy().flatten(),\n",
        "    'x': x.detach().numpy().flatten(),\n",
        "    'y': y.detach().numpy().flatten(),\n",
        "    'pressure': p_ref.detach().numpy().flatten(),\n",
        "    'u_x': u_ref.detach().numpy().flatten(),\n",
        "    'v_y': v_ref.detach().numpy().flatten(),\n",
        "    'velocity_magnitude': np.sqrt(u_ref.detach().numpy().flatten()**2 + v_ref.detach().numpy().flatten()**2)\n",
        "})\n",
        "create_frames(testing_df, output_dir=animations_reference_dir, sample_rate=10)\n"
      ]
    },
    {
      "cell_type": "code",
      "execution_count": 28,
      "metadata": {},
      "outputs": [
        {
          "name": "stdout",
          "output_type": "stream",
          "text": [
            "Found 11 frames for pressure\n",
            "Creating animation for pressure...\n",
            "Saving animation to ./checkpoints/2025-04-29_16-02-17-989197/animations_reference/gif/pressure_animation.gif...\n",
            "Saving frame 11/11\n",
            "Animation saved to ./checkpoints/2025-04-29_16-02-17-989197/animations_reference/gif/pressure_animation.gif\n",
            "Found 11 frames for u_x\n",
            "Creating animation for u_x...\n",
            "Saving animation to ./checkpoints/2025-04-29_16-02-17-989197/animations_reference/gif/u_x_animation.gif...\n",
            "Saving frame 11/11\n",
            "Animation saved to ./checkpoints/2025-04-29_16-02-17-989197/animations_reference/gif/u_x_animation.gif\n",
            "Found 11 frames for v_y\n",
            "Creating animation for v_y...\n",
            "Saving animation to ./checkpoints/2025-04-29_16-02-17-989197/animations_reference/gif/v_y_animation.gif...\n",
            "Saving frame 11/11\n",
            "Animation saved to ./checkpoints/2025-04-29_16-02-17-989197/animations_reference/gif/v_y_animation.gif\n",
            "No PNG files found in ./checkpoints/2025-04-29_16-02-17-989197/animations_reference/w_z\n",
            "Found 11 frames for velocity_magnitude\n",
            "Creating animation for velocity_magnitude...\n",
            "Saving animation to ./checkpoints/2025-04-29_16-02-17-989197/animations_reference/gif/velocity_magnitude_animation.gif...\n",
            "Saving frame 11/11\n",
            "Animation saved to ./checkpoints/2025-04-29_16-02-17-989197/animations_reference/gif/velocity_magnitude_animation.gif\n"
          ]
        }
      ],
      "source": [
        "\n",
        "create_animations_from_existing_frames(\n",
        "    frames_dirs=[\n",
        "        os.path.join(animations_reference_dir, \"pressure\"),\n",
        "        os.path.join(animations_reference_dir, \"u_x\"),\n",
        "        os.path.join(animations_reference_dir, \"v_y\"),\n",
        "        os.path.join(animations_reference_dir, \"velocity_magnitude\")\n",
        "    ],\n",
        "    output_dir=os.path.join(animations_reference_dir, \"gif\")\n",
        ")\n"
      ]
    },
    {
      "cell_type": "code",
      "execution_count": 29,
      "metadata": {},
      "outputs": [
        {
          "name": "stdout",
          "output_type": "stream",
          "text": [
            "Found 11 frames for pressure\n",
            "Creating animation for pressure...\n",
            "Saving animation to ./checkpoints/2025-04-29_16-02-17-989197/animations_pred/gif/pressure_animation.gif...\n",
            "Saving frame 11/11\n",
            "Animation saved to ./checkpoints/2025-04-29_16-02-17-989197/animations_pred/gif/pressure_animation.gif\n",
            "Found 11 frames for u_x\n",
            "Creating animation for u_x...\n",
            "Saving animation to ./checkpoints/2025-04-29_16-02-17-989197/animations_pred/gif/u_x_animation.gif...\n",
            "Saving frame 11/11\n",
            "Animation saved to ./checkpoints/2025-04-29_16-02-17-989197/animations_pred/gif/u_x_animation.gif\n",
            "Found 11 frames for v_y\n",
            "Creating animation for v_y...\n",
            "Saving animation to ./checkpoints/2025-04-29_16-02-17-989197/animations_pred/gif/v_y_animation.gif...\n",
            "Saving frame 11/11\n",
            "Animation saved to ./checkpoints/2025-04-29_16-02-17-989197/animations_pred/gif/v_y_animation.gif\n",
            "Found 11 frames for velocity_magnitude\n",
            "Creating animation for velocity_magnitude...\n",
            "Saving animation to ./checkpoints/2025-04-29_16-02-17-989197/animations_pred/gif/velocity_magnitude_animation.gif...\n",
            "Saving frame 11/11\n",
            "Animation saved to ./checkpoints/2025-04-29_16-02-17-989197/animations_pred/gif/velocity_magnitude_animation.gif\n"
          ]
        }
      ],
      "source": [
        "create_animations_from_existing_frames(\n",
        "    frames_dirs=[\n",
        "        os.path.join(animations_pred_dir, \"pressure\"),\n",
        "        os.path.join(animations_pred_dir, \"u_x\"),\n",
        "        os.path.join(animations_pred_dir, \"v_y\"),\n",
        "        os.path.join(animations_pred_dir, \"velocity_magnitude\")\n",
        "    ],\n",
        "    output_dir=os.path.join(animations_pred_dir, \"gif\")\n",
        ")\n"
      ]
    }
  ],
  "metadata": {
    "kernelspec": {
      "display_name": "pinn_ibm4fsi",
      "language": "python",
      "name": "python3"
    },
    "language_info": {
      "codemirror_mode": {
        "name": "ipython",
        "version": 3
      },
      "file_extension": ".py",
      "mimetype": "text/x-python",
      "name": "python",
      "nbconvert_exporter": "python",
      "pygments_lexer": "ipython3",
      "version": "3.10.16"
    }
  },
  "nbformat": 4,
  "nbformat_minor": 2
}
