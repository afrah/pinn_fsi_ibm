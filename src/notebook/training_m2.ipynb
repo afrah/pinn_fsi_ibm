{
 "cells": [
  {
   "cell_type": "code",
   "execution_count": 1,
   "id": "e539ba98",
   "metadata": {},
   "outputs": [],
   "source": [
    "%load_ext autoreload\n",
    "%autoreload 2\n"
   ]
  },
  {
   "cell_type": "code",
   "execution_count": null,
   "id": "89b895e5",
   "metadata": {},
   "outputs": [],
   "source": [
    "import torch\n",
    "\n",
    "\n",
    "\n",
    "from src.utils.utils import lp_error\n",
    "from src.utils.logger import Logging\n",
    "from src.utils.colors import model_color\n",
    "\n",
    "from src.nn.tanh2 import MLP2\n",
    "from src.nn.tanh import MLP\n",
    "from src.nn.bspline import KAN\n",
    "from src.nn.kan2 import KAN2\n",
    "from src.utils.utils import clear_gpu_memory\n",
    "from src.data.IBM_data_loader import prepare_training_data, visualize_tensor_datasets\n",
    "from src.data.IBM_data_loader import load_fluid_testing_dataset\n",
    "from src.models.m1_physics2 import PINNTrainer\n",
    "from src.utils.plot_losses import plot_M1_loss_history\n",
    "from src.utils.fsi_visualization import (\n",
    "    create_frames,\n",
    "    create_animations_from_existing_frames,\n",
    ")\n",
    "from src.data.IBM_data_loader import load_training_dataset\n"
   ]
  },
  {
   "cell_type": "code",
   "execution_count": 3,
   "id": "bace01ad",
   "metadata": {},
   "outputs": [
    {
     "name": "stderr",
     "output_type": "stream",
     "text": [
      "INFO:src.utils.logger:./checkpoints/2025-08-17_00-29-12-363506\n"
     ]
    }
   ],
   "source": [
    "\n",
    "CHECKPOINT_PATH = \"./checkpoints\"\n",
    "logger = Logging(CHECKPOINT_PATH)\n",
    "model_dirname = logger.get_output_dir()\n",
    "\n",
    "logger.print(model_dirname)"
   ]
  },
  {
   "cell_type": "code",
   "execution_count": 14,
   "id": "52006a4c",
   "metadata": {},
   "outputs": [
    {
     "name": "stdout",
     "output_type": "stream",
     "text": [
      "GPU memory cleared!\n"
     ]
    }
   ],
   "source": [
    "\n",
    "\n",
    "clear_gpu_memory()\n",
    "config = {\n",
    "    \"dataset_type\": \"old\",\n",
    "    \"training_selection_method\": \"Sobol\",\n",
    "    \"input_dim\": 3,  # (x, y, z, t)\n",
    "    \"hidden_dim\": 300,\n",
    "    \"hidden_layers_dim\": 3,\n",
    "    \"fluid_density\": 1.0,\n",
    "    \"fluid_viscosity\": 0.01,\n",
    "    \"num_epochs\": 60000,\n",
    "    \"batch_size\": 128,\n",
    "    \"learning_rate\": 1e-3,\n",
    "    \"data_weight\": 4.0,\n",
    "    \"physics_weight\": 0.01,\n",
    "    \"boundary_weight\": 2.0,\n",
    "    \"fsi_weight\": 0.5,\n",
    "    \"initial_weight\": 4.0,\n",
    "    \"checkpoint_dir\": \"./checkpoints\",\n",
    "    \"resume\": None,\n",
    "    \"print_every\": 100,\n",
    "    \"save_every\": 200,\n",
    "    \"fluid_sampling_ratio\": 0.01,\n",
    "    \"interface_sampling_ratio\": 0.07,\n",
    "    \"solid_sampling_ratio\": 0.0,\n",
    "    \"left_sampling_ratio\": 0.1,\n",
    "    \"right_sampling_ratio\": 0.15,\n",
    "    \"bottom_sampling_ratio\": 0.1,\n",
    "    \"top_sampling_ratio\": 0.1,\n",
    "    \"initial_sampling_ratio\": 0.1,\n",
    "    \"device\": torch.device(\"cuda\" if torch.cuda.is_available() else \"cpu\"),\n",
    "    \"solver\": \"mlp\",\n",
    "    \"model\": \"m1\",\n",
    "}\n"
   ]
  },
  {
   "cell_type": "code",
   "execution_count": 15,
   "id": "76735ee8",
   "metadata": {},
   "outputs": [
    {
     "name": "stderr",
     "output_type": "stream",
     "text": [
      "INFO:src.utils.logger:Config:\n",
      "INFO:src.utils.logger:dataset_type: old\n",
      "INFO:src.utils.logger:training_selection_method: Sobol\n",
      "INFO:src.utils.logger:input_dim: 3\n",
      "INFO:src.utils.logger:hidden_dim: 300\n",
      "INFO:src.utils.logger:hidden_layers_dim: 3\n",
      "INFO:src.utils.logger:fluid_density: 1.0\n",
      "INFO:src.utils.logger:fluid_viscosity: 0.01\n",
      "INFO:src.utils.logger:num_epochs: 60000\n",
      "INFO:src.utils.logger:batch_size: 128\n"
     ]
    },
    {
     "name": "stderr",
     "output_type": "stream",
     "text": [
      "INFO:src.utils.logger:learning_rate: 0.001\n",
      "INFO:src.utils.logger:data_weight: 4.0\n",
      "INFO:src.utils.logger:physics_weight: 0.01\n",
      "INFO:src.utils.logger:boundary_weight: 2.0\n",
      "INFO:src.utils.logger:fsi_weight: 0.5\n",
      "INFO:src.utils.logger:initial_weight: 4.0\n",
      "INFO:src.utils.logger:checkpoint_dir: ./checkpoints\n",
      "INFO:src.utils.logger:resume: None\n",
      "INFO:src.utils.logger:print_every: 100\n",
      "INFO:src.utils.logger:save_every: 200\n",
      "INFO:src.utils.logger:fluid_sampling_ratio: 0.01\n",
      "INFO:src.utils.logger:interface_sampling_ratio: 0.07\n",
      "INFO:src.utils.logger:solid_sampling_ratio: 0.0\n",
      "INFO:src.utils.logger:left_sampling_ratio: 0.1\n",
      "INFO:src.utils.logger:right_sampling_ratio: 0.15\n",
      "INFO:src.utils.logger:bottom_sampling_ratio: 0.1\n",
      "INFO:src.utils.logger:top_sampling_ratio: 0.1\n",
      "INFO:src.utils.logger:initial_sampling_ratio: 0.1\n",
      "INFO:src.utils.logger:device: cuda\n",
      "INFO:src.utils.logger:solver: mlp\n",
      "INFO:src.utils.logger:model: m1\n"
     ]
    },
    {
     "name": "stdout",
     "output_type": "stream",
     "text": [
      "Loaded fluid_points tensor from ./data/training_dataset/old/fluid_points_tensor.pt with shape torch.Size([3986, 8])\n",
      "Loaded right tensor from ./data/training_dataset/old/right_tensor.pt with shape torch.Size([1545, 8])\n",
      "Loaded solid tensor from ./data/training_dataset/old/solid_tensor.pt with shape torch.Size([1452, 8])\n",
      "Loaded initial tensor from ./data/training_dataset/old/initial_tensor.pt with shape torch.Size([1330, 8])\n",
      "Loaded bottom tensor from ./data/training_dataset/old/bottom_tensor.pt with shape torch.Size([1030, 8])\n",
      "Loaded fluid tensor from ./data/training_dataset/old/fluid_tensor.pt with shape torch.Size([10508, 8])\n",
      "Loaded up tensor from ./data/training_dataset/old/up_tensor.pt with shape torch.Size([1030, 8])\n",
      "Loaded interface tensor from ./data/training_dataset/old/interface_tensor.pt with shape torch.Size([10166, 11])\n",
      "Loaded left tensor from ./data/training_dataset/old/left_tensor.pt with shape torch.Size([1030, 8])\n",
      "Loaded training dataset from ./data/training_dataset/old successfully!\n"
     ]
    }
   ],
   "source": [
    "logger.print(\"Config:\")\n",
    "for key, value in config.items():\n",
    "    logger.print(f\"{key}: {value}\")\n",
    "\n",
    "training_data_path = \"./data/training_dataset/old\"\n",
    "\n",
    "training_data = load_training_dataset(training_data_path, device=config[\"device\"])\n",
    "\n",
    "if training_data is None:\n",
    "    training_data = prepare_training_data(\n",
    "        config[\"dataset_type\"],\n",
    "        fluid_sampling_ratio=config[\"fluid_sampling_ratio\"],\n",
    "        interface_sampling_ratio=config[\"interface_sampling_ratio\"],\n",
    "        solid_sampling_ratio=config[\"solid_sampling_ratio\"],\n",
    "        left_sampling_ratio=config[\"left_sampling_ratio\"],\n",
    "        right_sampling_ratio=config[\"right_sampling_ratio\"],\n",
    "        bottom_sampling_ratio=config[\"bottom_sampling_ratio\"],\n",
    "        top_sampling_ratio=config[\"top_sampling_ratio\"],\n",
    "        initial_sampling_ratio=config[\"initial_sampling_ratio\"],\n",
    "        training_selection_method=config[\"training_selection_method\"],\n",
    "        device=config[\"device\"],\n",
    "        save_dir=training_data_path,\n",
    "    )\n"
   ]
  },
  {
   "cell_type": "code",
   "execution_count": 16,
   "id": "31c8520c",
   "metadata": {},
   "outputs": [
    {
     "name": "stderr",
     "output_type": "stream",
     "text": [
      "INFO:src.utils.logger:Fluid model architecture:\n",
      "INFO:src.utils.logger:MLP(\n",
      "  (layers): ModuleList(\n",
      "    (0): Linear(in_features=3, out_features=300, bias=True)\n",
      "    (1-2): 2 x Linear(in_features=300, out_features=300, bias=True)\n",
      "    (3): Linear(in_features=300, out_features=3, bias=True)\n",
      "  )\n",
      ")\n",
      "INFO:src.utils.logger:Number of parameters: 182703\n"
     ]
    },
    {
     "name": "stdout",
     "output_type": "stream",
     "text": [
      "Saved tensor datasets scatter plot to ./data/training_dataset/old/tensor_datasets_scatter.png\n"
     ]
    }
   ],
   "source": [
    "\n",
    "visualize_tensor_datasets(training_data, save_dir=training_data_path)\n",
    "\n",
    "fluid_network = (\n",
    "    [config[\"input_dim\"]] + [config[\"hidden_dim\"]] * config[\"hidden_layers_dim\"] + [3]\n",
    ")\n",
    "if config[\"solver\"] == \"mlp\":\n",
    "    fluid_model = MLP(network=fluid_network)\n",
    "else:\n",
    "    fluid_model = KAN2(network=fluid_network)\n",
    "\n",
    "logger.print(\"Fluid model architecture:\")\n",
    "logger.print(fluid_model)\n",
    "logger.print(\n",
    "    f\"Number of parameters: {sum(p.numel() for p in fluid_model.parameters())}\"\n",
    ")\n"
   ]
  },
  {
   "cell_type": "code",
   "execution_count": 17,
   "id": "414b2ca4",
   "metadata": {},
   "outputs": [
    {
     "name": "stderr",
     "output_type": "stream",
     "text": [
      "INFO:src.utils.logger:Epoch 0/60000, Total: 2.0e+01, Data(F&S): 4.3e-01, Physics: 5.5e-03, Boundary: 4.2e+00, FSI: 1.5e+01, Initial: 1.5e-01, LR: 1.00e-03\n",
      "INFO:src.utils.logger:Epoch 100/60000, Total: 2.4e+00, Data(F&S): 3.2e-01, Physics: 1.2e-03, Boundary: 1.9e+00, FSI: 1.1e-01, Initial: 1.2e-01, LR: 1.00e-03\n",
      "INFO:src.utils.logger:Final losses:\n",
      "INFO:src.utils.logger:Final left: 2.524e-01 |  Final right: 4.318e-01 |  Final bottom: 5.111e-02 |  Final up: 1.126e+00 |  Final fluid: 1.182e-03 |  Final interface: 9.330e-02 |  Final initial: 1.061e-01 |  Final total: 2.384e+00 | \n",
      "INFO:src.utils.logger:_save_checkpoint: Epoch 200 | Training checkpoint saved at ./checkpoints/2025-08-17_00-29-12-363506/model.pth\n",
      "INFO:src.utils.logger:Epoch 200/60000, Total: 2.4e+00, Data(F&S): 3.2e-01, Physics: 1.2e-03, Boundary: 1.9e+00, FSI: 9.3e-02, Initial: 1.1e-01, LR: 1.00e-03\n",
      "INFO:src.utils.logger:Epoch 300/60000, Total: 1.5e+00, Data(F&S): 1.7e-01, Physics: 2.8e-03, Boundary: 1.2e+00, FSI: 9.7e-02, Initial: 7.3e-02, LR: 1.00e-03\n",
      "INFO:src.utils.logger:Final losses:\n",
      "INFO:src.utils.logger:Final left: 1.338e-01 |  Final right: 2.399e-01 |  Final bottom: 2.715e-03 |  Final up: 5.693e-01 |  Final fluid: 4.158e-03 |  Final interface: 7.100e-02 |  Final initial: 6.878e-02 |  Final total: 1.206e+00 | \n",
      "INFO:src.utils.logger:_save_checkpoint: Epoch 400 | Training checkpoint saved at ./checkpoints/2025-08-17_00-29-12-363506/model.pth\n",
      "INFO:src.utils.logger:Epoch 400/60000, Total: 1.2e+00, Data(F&S): 1.3e-01, Physics: 4.1e-03, Boundary: 8.9e-01, FSI: 7.0e-02, Initial: 6.9e-02, LR: 1.00e-03\n",
      "INFO:src.utils.logger:Epoch 500/60000, Total: 1.1e+00, Data(F&S): 1.0e-01, Physics: 5.9e-03, Boundary: 8.1e-01, FSI: 8.2e-02, Initial: 6.8e-02, LR: 1.00e-03\n",
      "INFO:src.utils.logger:Final losses:\n",
      "INFO:src.utils.logger:Final left: 1.102e-01 |  Final right: 1.810e-01 |  Final bottom: 2.189e-03 |  Final up: 4.004e-01 |  Final fluid: 8.810e-03 |  Final interface: 5.284e-02 |  Final initial: 5.441e-02 |  Final total: 9.050e-01 | \n",
      "INFO:src.utils.logger:_save_checkpoint: Epoch 600 | Training checkpoint saved at ./checkpoints/2025-08-17_00-29-12-363506/model.pth\n",
      "INFO:src.utils.logger:Epoch 600/60000, Total: 9.6e-01, Data(F&S): 9.4e-02, Physics: 8.6e-03, Boundary: 7.6e-01, FSI: 5.3e-02, Initial: 5.2e-02, LR: 1.00e-03\n",
      "INFO:src.utils.logger:Epoch 700/60000, Total: 8.3e-01, Data(F&S): 9.2e-02, Physics: 1.2e-02, Boundary: 6.2e-01, FSI: 6.1e-02, Initial: 5.1e-02, LR: 1.00e-03\n",
      "INFO:src.utils.logger:Final losses:\n",
      "INFO:src.utils.logger:Final left: 9.875e-02 |  Final right: 1.391e-01 |  Final bottom: 2.571e-03 |  Final up: 3.983e-01 |  Final fluid: 1.466e-02 |  Final interface: 4.578e-02 |  Final initial: 4.695e-02 |  Final total: 8.369e-01 | \n",
      "INFO:src.utils.logger:_save_checkpoint: Epoch 800 | Training checkpoint saved at ./checkpoints/2025-08-17_00-29-12-363506/model.pth\n",
      "INFO:src.utils.logger:Epoch 800/60000, Total: 7.4e-01, Data(F&S): 8.5e-02, Physics: 1.5e-02, Boundary: 5.5e-01, FSI: 4.6e-02, Initial: 4.9e-02, LR: 1.00e-03\n",
      "INFO:src.utils.logger:Epoch 900/60000, Total: 7.5e-01, Data(F&S): 9.9e-02, Physics: 1.9e-02, Boundary: 5.3e-01, FSI: 4.3e-02, Initial: 5.5e-02, LR: 1.00e-03\n",
      "INFO:src.utils.logger:Final losses:\n",
      "INFO:src.utils.logger:Final left: 8.065e-02 |  Final right: 1.080e-01 |  Final bottom: 1.346e-03 |  Final up: 2.682e-01 |  Final fluid: 2.033e-02 |  Final interface: 5.247e-02 |  Final initial: 3.969e-02 |  Final total: 6.513e-01 | \n",
      "INFO:src.utils.logger:_save_checkpoint: Epoch 1000 | Training checkpoint saved at ./checkpoints/2025-08-17_00-29-12-363506/model.pth\n",
      "INFO:src.utils.logger:Epoch 1000/60000, Total: 6.8e-01, Data(F&S): 7.8e-02, Physics: 2.0e-02, Boundary: 4.9e-01, FSI: 5.5e-02, Initial: 4.1e-02, LR: 1.00e-03\n",
      "INFO:src.utils.logger:Epoch 1100/60000, Total: 6.2e-01, Data(F&S): 7.7e-02, Physics: 2.4e-02, Boundary: 4.3e-01, FSI: 5.4e-02, Initial: 4.2e-02, LR: 1.00e-03\n",
      "INFO:src.utils.logger:Final losses:\n",
      "INFO:src.utils.logger:Final left: 7.601e-02 |  Final right: 8.574e-02 |  Final bottom: 3.473e-03 |  Final up: 2.339e-01 |  Final fluid: 2.555e-02 |  Final interface: 4.740e-02 |  Final initial: 4.099e-02 |  Final total: 5.905e-01 | \n",
      "INFO:src.utils.logger:_save_checkpoint: Epoch 1200 | Training checkpoint saved at ./checkpoints/2025-08-17_00-29-12-363506/model.pth\n",
      "INFO:src.utils.logger:Epoch 1200/60000, Total: 5.8e-01, Data(F&S): 7.3e-02, Physics: 2.5e-02, Boundary: 4.0e-01, FSI: 4.5e-02, Initial: 4.0e-02, LR: 1.00e-03\n",
      "INFO:src.utils.logger:Epoch 1300/60000, Total: 5.7e-01, Data(F&S): 6.9e-02, Physics: 2.6e-02, Boundary: 3.9e-01, FSI: 5.8e-02, Initial: 3.3e-02, LR: 1.00e-03\n",
      "INFO:src.utils.logger:Final losses:\n",
      "INFO:src.utils.logger:Final left: 6.026e-02 |  Final right: 7.059e-02 |  Final bottom: 4.928e-03 |  Final up: 2.139e-01 |  Final fluid: 2.929e-02 |  Final interface: 4.248e-02 |  Final initial: 3.619e-02 |  Final total: 5.263e-01 | \n",
      "INFO:src.utils.logger:_save_checkpoint: Epoch 1400 | Training checkpoint saved at ./checkpoints/2025-08-17_00-29-12-363506/model.pth\n",
      "INFO:src.utils.logger:Epoch 1400/60000, Total: 5.2e-01, Data(F&S): 7.3e-02, Physics: 3.0e-02, Boundary: 3.4e-01, FSI: 4.4e-02, Initial: 3.6e-02, LR: 1.00e-03\n",
      "INFO:src.utils.logger:Epoch 1500/60000, Total: 5.1e-01, Data(F&S): 6.4e-02, Physics: 3.0e-02, Boundary: 3.4e-01, FSI: 4.6e-02, Initial: 3.2e-02, LR: 1.00e-03\n",
      "INFO:src.utils.logger:Final losses:\n",
      "INFO:src.utils.logger:Final left: 6.492e-02 |  Final right: 6.321e-02 |  Final bottom: 1.571e-03 |  Final up: 2.020e-01 |  Final fluid: 3.176e-02 |  Final interface: 4.584e-02 |  Final initial: 3.162e-02 |  Final total: 5.062e-01 | \n",
      "INFO:src.utils.logger:_save_checkpoint: Epoch 1600 | Training checkpoint saved at ./checkpoints/2025-08-17_00-29-12-363506/model.pth\n",
      "INFO:src.utils.logger:Epoch 1600/60000, Total: 5.1e-01, Data(F&S): 6.6e-02, Physics: 3.1e-02, Boundary: 3.4e-01, FSI: 4.3e-02, Initial: 2.8e-02, LR: 1.00e-03\n",
      "INFO:src.utils.logger:Epoch 1700/60000, Total: 4.6e-01, Data(F&S): 6.4e-02, Physics: 3.3e-02, Boundary: 2.9e-01, FSI: 4.6e-02, Initial: 3.0e-02, LR: 1.00e-03\n",
      "INFO:src.utils.logger:Final losses:\n",
      "INFO:src.utils.logger:Final left: 5.018e-02 |  Final right: 4.390e-02 |  Final bottom: 2.498e-03 |  Final up: 1.780e-01 |  Final fluid: 3.481e-02 |  Final interface: 5.515e-02 |  Final initial: 2.804e-02 |  Final total: 4.522e-01 | \n",
      "INFO:src.utils.logger:_save_checkpoint: Epoch 1800 | Training checkpoint saved at ./checkpoints/2025-08-17_00-29-12-363506/model.pth\n",
      "INFO:src.utils.logger:Epoch 1800/60000, Total: 4.6e-01, Data(F&S): 6.3e-02, Physics: 3.7e-02, Boundary: 2.7e-01, FSI: 6.1e-02, Initial: 3.1e-02, LR: 1.00e-03\n",
      "INFO:src.utils.logger:Epoch 1900/60000, Total: 4.3e-01, Data(F&S): 5.9e-02, Physics: 3.5e-02, Boundary: 2.7e-01, FSI: 4.2e-02, Initial: 2.5e-02, LR: 1.00e-03\n",
      "INFO:src.utils.logger:Final losses:\n",
      "INFO:src.utils.logger:Final left: 4.686e-02 |  Final right: 3.666e-02 |  Final bottom: 3.428e-03 |  Final up: 1.626e-01 |  Final fluid: 3.451e-02 |  Final interface: 4.146e-02 |  Final initial: 2.504e-02 |  Final total: 4.093e-01 | \n",
      "INFO:src.utils.logger:_save_checkpoint: Epoch 2000 | Training checkpoint saved at ./checkpoints/2025-08-17_00-29-12-363506/model.pth\n",
      "INFO:src.utils.logger:Epoch 2000/60000, Total: 4.2e-01, Data(F&S): 5.8e-02, Physics: 3.4e-02, Boundary: 2.6e-01, FSI: 4.2e-02, Initial: 2.6e-02, LR: 1.00e-03\n",
      "INFO:src.utils.logger:Epoch 2100/60000, Total: 3.9e-01, Data(F&S): 5.2e-02, Physics: 3.6e-02, Boundary: 2.3e-01, FSI: 3.9e-02, Initial: 2.4e-02, LR: 1.00e-03\n",
      "INFO:src.utils.logger:Final losses:\n",
      "INFO:src.utils.logger:Final left: 4.750e-02 |  Final right: 3.230e-02 |  Final bottom: 1.491e-03 |  Final up: 1.498e-01 |  Final fluid: 3.530e-02 |  Final interface: 3.871e-02 |  Final initial: 2.205e-02 |  Final total: 3.800e-01 | \n",
      "INFO:src.utils.logger:_save_checkpoint: Epoch 2200 | Training checkpoint saved at ./checkpoints/2025-08-17_00-29-12-363506/model.pth\n",
      "INFO:src.utils.logger:Epoch 2200/60000, Total: 3.9e-01, Data(F&S): 5.1e-02, Physics: 3.6e-02, Boundary: 2.4e-01, FSI: 3.9e-02, Initial: 2.3e-02, LR: 1.00e-03\n",
      "INFO:src.utils.logger:Epoch 2300/60000, Total: 3.6e-01, Data(F&S): 4.9e-02, Physics: 3.6e-02, Boundary: 2.1e-01, FSI: 4.1e-02, Initial: 2.1e-02, LR: 1.00e-03\n",
      "INFO:src.utils.logger:Final losses:\n",
      "INFO:src.utils.logger:Final left: 4.605e-02 |  Final right: 2.911e-02 |  Final bottom: 8.020e-03 |  Final up: 1.838e-01 |  Final fluid: 3.571e-02 |  Final interface: 4.504e-02 |  Final initial: 3.075e-02 |  Final total: 4.370e-01 | \n",
      "INFO:src.utils.logger:_save_checkpoint: Epoch 2400 | Training checkpoint saved at ./checkpoints/2025-08-17_00-29-12-363506/model.pth\n",
      "INFO:src.utils.logger:Epoch 2400/60000, Total: 4.1e-01, Data(F&S): 6.2e-02, Physics: 3.3e-02, Boundary: 2.4e-01, FSI: 4.7e-02, Initial: 3.0e-02, LR: 1.00e-03\n",
      "INFO:src.utils.logger:Epoch 2500/60000, Total: 3.4e-01, Data(F&S): 4.9e-02, Physics: 3.5e-02, Boundary: 2.0e-01, FSI: 4.0e-02, Initial: 2.3e-02, LR: 1.00e-03\n",
      "INFO:src.utils.logger:Final losses:\n",
      "INFO:src.utils.logger:Final left: 3.341e-02 |  Final right: 2.440e-02 |  Final bottom: 3.077e-03 |  Final up: 1.430e-01 |  Final fluid: 3.665e-02 |  Final interface: 4.340e-02 |  Final initial: 2.479e-02 |  Final total: 3.563e-01 | \n",
      "INFO:src.utils.logger:_save_checkpoint: Epoch 2600 | Training checkpoint saved at ./checkpoints/2025-08-17_00-29-12-363506/model.pth\n",
      "INFO:src.utils.logger:Epoch 2600/60000, Total: 3.5e-01, Data(F&S): 4.8e-02, Physics: 3.7e-02, Boundary: 2.0e-01, FSI: 4.0e-02, Initial: 2.5e-02, LR: 1.00e-03\n",
      "INFO:src.utils.logger:Epoch 2700/60000, Total: 3.4e-01, Data(F&S): 4.3e-02, Physics: 4.0e-02, Boundary: 1.8e-01, FSI: 5.2e-02, Initial: 1.7e-02, LR: 1.00e-03\n",
      "INFO:src.utils.logger:Final losses:\n",
      "INFO:src.utils.logger:Final left: 3.193e-02 |  Final right: 2.320e-02 |  Final bottom: 3.399e-03 |  Final up: 1.183e-01 |  Final fluid: 3.614e-02 |  Final interface: 4.053e-02 |  Final initial: 2.316e-02 |  Final total: 3.240e-01 | \n",
      "INFO:src.utils.logger:_save_checkpoint: Epoch 2800 | Training checkpoint saved at ./checkpoints/2025-08-17_00-29-12-363506/model.pth\n",
      "INFO:src.utils.logger:Epoch 2800/60000, Total: 3.2e-01, Data(F&S): 4.4e-02, Physics: 3.5e-02, Boundary: 1.8e-01, FSI: 3.8e-02, Initial: 2.0e-02, LR: 1.00e-03\n",
      "INFO:src.utils.logger:Epoch 2900/60000, Total: 3.0e-01, Data(F&S): 4.1e-02, Physics: 3.5e-02, Boundary: 1.7e-01, FSI: 3.7e-02, Initial: 1.7e-02, LR: 1.00e-03\n",
      "INFO:src.utils.logger:Final losses:\n",
      "INFO:src.utils.logger:Final left: 2.656e-02 |  Final right: 1.985e-02 |  Final bottom: 6.152e-04 |  Final up: 1.136e-01 |  Final fluid: 3.549e-02 |  Final interface: 3.785e-02 |  Final initial: 1.468e-02 |  Final total: 2.880e-01 | \n",
      "INFO:src.utils.logger:_save_checkpoint: Epoch 3000 | Training checkpoint saved at ./checkpoints/2025-08-17_00-29-12-363506/model.pth\n",
      "INFO:src.utils.logger:Epoch 3000/60000, Total: 2.9e-01, Data(F&S): 4.0e-02, Physics: 3.5e-02, Boundary: 1.6e-01, FSI: 3.9e-02, Initial: 1.7e-02, LR: 1.00e-03\n",
      "INFO:src.utils.logger:Epoch 3100/60000, Total: 3.2e-01, Data(F&S): 4.0e-02, Physics: 3.7e-02, Boundary: 1.8e-01, FSI: 3.8e-02, Initial: 1.9e-02, LR: 1.00e-03\n",
      "INFO:src.utils.logger:Final losses:\n",
      "INFO:src.utils.logger:Final left: 2.466e-02 |  Final right: 1.782e-02 |  Final bottom: 1.793e-03 |  Final up: 1.088e-01 |  Final fluid: 3.530e-02 |  Final interface: 3.889e-02 |  Final initial: 1.560e-02 |  Final total: 2.821e-01 | \n",
      "INFO:src.utils.logger:_save_checkpoint: Epoch 3200 | Training checkpoint saved at ./checkpoints/2025-08-17_00-29-12-363506/model.pth\n",
      "INFO:src.utils.logger:Epoch 3200/60000, Total: 2.8e-01, Data(F&S): 3.9e-02, Physics: 3.7e-02, Boundary: 1.5e-01, FSI: 3.8e-02, Initial: 1.8e-02, LR: 1.00e-03\n",
      "INFO:src.utils.logger:Epoch 3300/60000, Total: 2.9e-01, Data(F&S): 3.7e-02, Physics: 3.6e-02, Boundary: 1.4e-01, FSI: 6.0e-02, Initial: 1.4e-02, LR: 1.00e-03\n",
      "INFO:src.utils.logger:Final losses:\n",
      "INFO:src.utils.logger:Final left: 2.570e-02 |  Final right: 1.626e-02 |  Final bottom: 1.672e-03 |  Final up: 9.734e-02 |  Final fluid: 3.488e-02 |  Final interface: 4.129e-02 |  Final initial: 1.490e-02 |  Final total: 2.701e-01 | \n",
      "INFO:src.utils.logger:_save_checkpoint: Epoch 3400 | Training checkpoint saved at ./checkpoints/2025-08-17_00-29-12-363506/model.pth\n",
      "INFO:src.utils.logger:Epoch 3400/60000, Total: 2.7e-01, Data(F&S): 3.7e-02, Physics: 3.5e-02, Boundary: 1.4e-01, FSI: 4.2e-02, Initial: 1.5e-02, LR: 1.00e-03\n",
      "INFO:src.utils.logger:Epoch 3500/60000, Total: 2.6e-01, Data(F&S): 3.6e-02, Physics: 3.3e-02, Boundary: 1.4e-01, FSI: 4.4e-02, Initial: 1.3e-02, LR: 1.00e-03\n",
      "INFO:src.utils.logger:Final losses:\n",
      "INFO:src.utils.logger:Final left: 3.025e-02 |  Final right: 1.487e-02 |  Final bottom: 3.670e-03 |  Final up: 9.352e-02 |  Final fluid: 3.346e-02 |  Final interface: 3.760e-02 |  Final initial: 1.630e-02 |  Final total: 2.677e-01 | \n",
      "INFO:src.utils.logger:_save_checkpoint: Epoch 3600 | Training checkpoint saved at ./checkpoints/2025-08-17_00-29-12-363506/model.pth\n",
      "INFO:src.utils.logger:Epoch 3600/60000, Total: 2.7e-01, Data(F&S): 4.0e-02, Physics: 3.3e-02, Boundary: 1.4e-01, FSI: 3.7e-02, Initial: 1.9e-02, LR: 1.00e-03\n"
     ]
    },
    {
     "ename": "KeyboardInterrupt",
     "evalue": "",
     "output_type": "error",
     "traceback": [
      "\u001b[31m---------------------------------------------------------------------------\u001b[39m",
      "\u001b[31mKeyboardInterrupt\u001b[39m                         Traceback (most recent call last)",
      "\u001b[36mCell\u001b[39m\u001b[36m \u001b[39m\u001b[32mIn[17]\u001b[39m\u001b[32m, line 16\u001b[39m\n\u001b[32m      1\u001b[39m trainer = PINNTrainer(\n\u001b[32m      2\u001b[39m     fluid_model=fluid_model,\n\u001b[32m      3\u001b[39m     training_data=training_data,\n\u001b[32m   (...)\u001b[39m\u001b[32m     12\u001b[39m     model=config[\u001b[33m\"\u001b[39m\u001b[33mmodel\u001b[39m\u001b[33m\"\u001b[39m],\n\u001b[32m     13\u001b[39m )\n\u001b[32m---> \u001b[39m\u001b[32m16\u001b[39m loss_history = \u001b[43mtrainer\u001b[49m\u001b[43m.\u001b[49m\u001b[43mtrain\u001b[49m\u001b[43m(\u001b[49m\n\u001b[32m     17\u001b[39m \u001b[43m    \u001b[49m\u001b[43mnum_epochs\u001b[49m\u001b[43m=\u001b[49m\u001b[43mconfig\u001b[49m\u001b[43m[\u001b[49m\u001b[33;43m\"\u001b[39;49m\u001b[33;43mnum_epochs\u001b[39;49m\u001b[33;43m\"\u001b[39;49m\u001b[43m]\u001b[49m\u001b[43m,\u001b[49m\n\u001b[32m     18\u001b[39m \u001b[43m    \u001b[49m\u001b[43mbatch_size\u001b[49m\u001b[43m=\u001b[49m\u001b[43mconfig\u001b[49m\u001b[43m[\u001b[49m\u001b[33;43m\"\u001b[39;49m\u001b[33;43mbatch_size\u001b[39;49m\u001b[33;43m\"\u001b[39;49m\u001b[43m]\u001b[49m\u001b[43m,\u001b[49m\n\u001b[32m     19\u001b[39m \u001b[43m    \u001b[49m\u001b[43mdata_weight\u001b[49m\u001b[43m=\u001b[49m\u001b[43mconfig\u001b[49m\u001b[43m[\u001b[49m\u001b[33;43m\"\u001b[39;49m\u001b[33;43mdata_weight\u001b[39;49m\u001b[33;43m\"\u001b[39;49m\u001b[43m]\u001b[49m\u001b[43m,\u001b[49m\n\u001b[32m     20\u001b[39m \u001b[43m    \u001b[49m\u001b[43mphysics_weight\u001b[49m\u001b[43m=\u001b[49m\u001b[43mconfig\u001b[49m\u001b[43m[\u001b[49m\u001b[33;43m\"\u001b[39;49m\u001b[33;43mphysics_weight\u001b[39;49m\u001b[33;43m\"\u001b[39;49m\u001b[43m]\u001b[49m\u001b[43m,\u001b[49m\n\u001b[32m     21\u001b[39m \u001b[43m    \u001b[49m\u001b[43mboundary_weight\u001b[49m\u001b[43m=\u001b[49m\u001b[43mconfig\u001b[49m\u001b[43m[\u001b[49m\u001b[33;43m\"\u001b[39;49m\u001b[33;43mboundary_weight\u001b[39;49m\u001b[33;43m\"\u001b[39;49m\u001b[43m]\u001b[49m\u001b[43m,\u001b[49m\n\u001b[32m     22\u001b[39m \u001b[43m    \u001b[49m\u001b[43mfsi_weight\u001b[49m\u001b[43m=\u001b[49m\u001b[43mconfig\u001b[49m\u001b[43m[\u001b[49m\u001b[33;43m\"\u001b[39;49m\u001b[33;43mfsi_weight\u001b[39;49m\u001b[33;43m\"\u001b[39;49m\u001b[43m]\u001b[49m\u001b[43m,\u001b[49m\n\u001b[32m     23\u001b[39m \u001b[43m    \u001b[49m\u001b[43minitial_weight\u001b[49m\u001b[43m=\u001b[49m\u001b[43mconfig\u001b[49m\u001b[43m[\u001b[49m\u001b[33;43m\"\u001b[39;49m\u001b[33;43minitial_weight\u001b[39;49m\u001b[33;43m\"\u001b[39;49m\u001b[43m]\u001b[49m\u001b[43m,\u001b[49m\n\u001b[32m     24\u001b[39m \u001b[43m)\u001b[49m\n",
      "\u001b[36mFile \u001b[39m\u001b[32m<string>:58\u001b[39m, in \u001b[36mtrain\u001b[39m\u001b[34m(self, num_epochs, batch_size, data_weight, physics_weight, boundary_weight, fsi_weight, initial_weight)\u001b[39m\n",
      "\u001b[36mFile \u001b[39m\u001b[32m~/miniconda3/envs/pinn-fsi-ibm/lib/python3.13/site-packages/torch/_tensor.py:648\u001b[39m, in \u001b[36mTensor.backward\u001b[39m\u001b[34m(self, gradient, retain_graph, create_graph, inputs)\u001b[39m\n\u001b[32m    638\u001b[39m \u001b[38;5;28;01mif\u001b[39;00m has_torch_function_unary(\u001b[38;5;28mself\u001b[39m):\n\u001b[32m    639\u001b[39m     \u001b[38;5;28;01mreturn\u001b[39;00m handle_torch_function(\n\u001b[32m    640\u001b[39m         Tensor.backward,\n\u001b[32m    641\u001b[39m         (\u001b[38;5;28mself\u001b[39m,),\n\u001b[32m   (...)\u001b[39m\u001b[32m    646\u001b[39m         inputs=inputs,\n\u001b[32m    647\u001b[39m     )\n\u001b[32m--> \u001b[39m\u001b[32m648\u001b[39m \u001b[43mtorch\u001b[49m\u001b[43m.\u001b[49m\u001b[43mautograd\u001b[49m\u001b[43m.\u001b[49m\u001b[43mbackward\u001b[49m\u001b[43m(\u001b[49m\n\u001b[32m    649\u001b[39m \u001b[43m    \u001b[49m\u001b[38;5;28;43mself\u001b[39;49m\u001b[43m,\u001b[49m\u001b[43m \u001b[49m\u001b[43mgradient\u001b[49m\u001b[43m,\u001b[49m\u001b[43m \u001b[49m\u001b[43mretain_graph\u001b[49m\u001b[43m,\u001b[49m\u001b[43m \u001b[49m\u001b[43mcreate_graph\u001b[49m\u001b[43m,\u001b[49m\u001b[43m \u001b[49m\u001b[43minputs\u001b[49m\u001b[43m=\u001b[49m\u001b[43minputs\u001b[49m\n\u001b[32m    650\u001b[39m \u001b[43m\u001b[49m\u001b[43m)\u001b[49m\n",
      "\u001b[36mFile \u001b[39m\u001b[32m~/miniconda3/envs/pinn-fsi-ibm/lib/python3.13/site-packages/torch/autograd/__init__.py:353\u001b[39m, in \u001b[36mbackward\u001b[39m\u001b[34m(tensors, grad_tensors, retain_graph, create_graph, grad_variables, inputs)\u001b[39m\n\u001b[32m    348\u001b[39m     retain_graph = create_graph\n\u001b[32m    350\u001b[39m \u001b[38;5;66;03m# The reason we repeat the same comment below is that\u001b[39;00m\n\u001b[32m    351\u001b[39m \u001b[38;5;66;03m# some Python versions print out the first line of a multi-line function\u001b[39;00m\n\u001b[32m    352\u001b[39m \u001b[38;5;66;03m# calls in the traceback and some print out the last line\u001b[39;00m\n\u001b[32m--> \u001b[39m\u001b[32m353\u001b[39m \u001b[43m_engine_run_backward\u001b[49m\u001b[43m(\u001b[49m\n\u001b[32m    354\u001b[39m \u001b[43m    \u001b[49m\u001b[43mtensors\u001b[49m\u001b[43m,\u001b[49m\n\u001b[32m    355\u001b[39m \u001b[43m    \u001b[49m\u001b[43mgrad_tensors_\u001b[49m\u001b[43m,\u001b[49m\n\u001b[32m    356\u001b[39m \u001b[43m    \u001b[49m\u001b[43mretain_graph\u001b[49m\u001b[43m,\u001b[49m\n\u001b[32m    357\u001b[39m \u001b[43m    \u001b[49m\u001b[43mcreate_graph\u001b[49m\u001b[43m,\u001b[49m\n\u001b[32m    358\u001b[39m \u001b[43m    \u001b[49m\u001b[43minputs\u001b[49m\u001b[43m,\u001b[49m\n\u001b[32m    359\u001b[39m \u001b[43m    \u001b[49m\u001b[43mallow_unreachable\u001b[49m\u001b[43m=\u001b[49m\u001b[38;5;28;43;01mTrue\u001b[39;49;00m\u001b[43m,\u001b[49m\n\u001b[32m    360\u001b[39m \u001b[43m    \u001b[49m\u001b[43maccumulate_grad\u001b[49m\u001b[43m=\u001b[49m\u001b[38;5;28;43;01mTrue\u001b[39;49;00m\u001b[43m,\u001b[49m\n\u001b[32m    361\u001b[39m \u001b[43m\u001b[49m\u001b[43m)\u001b[49m\n",
      "\u001b[36mFile \u001b[39m\u001b[32m~/miniconda3/envs/pinn-fsi-ibm/lib/python3.13/site-packages/torch/autograd/graph.py:824\u001b[39m, in \u001b[36m_engine_run_backward\u001b[39m\u001b[34m(t_outputs, *args, **kwargs)\u001b[39m\n\u001b[32m    822\u001b[39m     unregister_hooks = _register_logging_hooks_on_whole_graph(t_outputs)\n\u001b[32m    823\u001b[39m \u001b[38;5;28;01mtry\u001b[39;00m:\n\u001b[32m--> \u001b[39m\u001b[32m824\u001b[39m     \u001b[38;5;28;01mreturn\u001b[39;00m \u001b[43mVariable\u001b[49m\u001b[43m.\u001b[49m\u001b[43m_execution_engine\u001b[49m\u001b[43m.\u001b[49m\u001b[43mrun_backward\u001b[49m\u001b[43m(\u001b[49m\u001b[43m  \u001b[49m\u001b[38;5;66;43;03m# Calls into the C++ engine to run the backward pass\u001b[39;49;00m\n\u001b[32m    825\u001b[39m \u001b[43m        \u001b[49m\u001b[43mt_outputs\u001b[49m\u001b[43m,\u001b[49m\u001b[43m \u001b[49m\u001b[43m*\u001b[49m\u001b[43margs\u001b[49m\u001b[43m,\u001b[49m\u001b[43m \u001b[49m\u001b[43m*\u001b[49m\u001b[43m*\u001b[49m\u001b[43mkwargs\u001b[49m\n\u001b[32m    826\u001b[39m \u001b[43m    \u001b[49m\u001b[43m)\u001b[49m  \u001b[38;5;66;03m# Calls into the C++ engine to run the backward pass\u001b[39;00m\n\u001b[32m    827\u001b[39m \u001b[38;5;28;01mfinally\u001b[39;00m:\n\u001b[32m    828\u001b[39m     \u001b[38;5;28;01mif\u001b[39;00m attach_logging_hooks:\n",
      "\u001b[31mKeyboardInterrupt\u001b[39m: "
     ]
    }
   ],
   "source": [
    "\n",
    "trainer = PINNTrainer(\n",
    "    fluid_model=fluid_model,\n",
    "    training_data=training_data,\n",
    "    learning_rate=config[\"learning_rate\"],\n",
    "    logger=logger,\n",
    "    device=config[\"device\"],\n",
    "    fluid_density=config[\"fluid_density\"],\n",
    "    fluid_viscosity=config[\"fluid_viscosity\"],\n",
    "    print_every=config[\"print_every\"],\n",
    "    save_every=config[\"save_every\"],\n",
    "    solver=config[\"solver\"],\n",
    "    model=config[\"model\"],\n",
    ")\n",
    "\n",
    "\n",
    "loss_history = trainer.train(\n",
    "    num_epochs=config[\"num_epochs\"],\n",
    "    batch_size=config[\"batch_size\"],\n",
    "    data_weight=config[\"data_weight\"],\n",
    "    physics_weight=config[\"physics_weight\"],\n",
    "    boundary_weight=config[\"boundary_weight\"],\n",
    "    fsi_weight=config[\"fsi_weight\"],\n",
    "    initial_weight=config[\"initial_weight\"],\n",
    ")\n"
   ]
  },
  {
   "cell_type": "code",
   "execution_count": null,
   "id": "cc4f30a8",
   "metadata": {},
   "outputs": [],
   "source": []
  }
 ],
 "metadata": {
  "kernelspec": {
   "display_name": "pinn-fsi-ibm",
   "language": "python",
   "name": "python3"
  },
  "language_info": {
   "codemirror_mode": {
    "name": "ipython",
    "version": 3
   },
   "file_extension": ".py",
   "mimetype": "text/x-python",
   "name": "python",
   "nbconvert_exporter": "python",
   "pygments_lexer": "ipython3",
   "version": "3.13.5"
  }
 },
 "nbformat": 4,
 "nbformat_minor": 5
}
