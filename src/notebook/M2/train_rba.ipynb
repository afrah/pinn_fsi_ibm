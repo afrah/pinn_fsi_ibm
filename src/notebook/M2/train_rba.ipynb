{
  "cells": [
    {
      "cell_type": "code",
      "execution_count": 1,
      "metadata": {},
      "outputs": [],
      "source": [
        "%load_ext autoreload\n",
        "%autoreload 2"
      ]
    },
    {
      "cell_type": "code",
      "execution_count": 2,
      "metadata": {
        "colab": {
          "base_uri": "https://localhost:8080/"
        },
        "executionInfo": {
          "elapsed": 3961,
          "status": "ok",
          "timestamp": 1685488776776,
          "user": {
            "displayName": "Sokratis An",
            "userId": "06375667078137359429"
          },
          "user_tz": -120
        },
        "id": "_Evzz1__5oEu",
        "outputId": "133898c6-b95d-4ecd-c7f8-d1aced813c18"
      },
      "outputs": [],
      "source": [
        "import os\n",
        "import sys\n",
        "import time\n",
        "import torch\n",
        "import random\n",
        "import scipy.io\n",
        "import numpy as np\n",
        "from pyDOE import lhs\n",
        "import matplotlib as mpl\n",
        "import matplotlib.pyplot as plt\n",
        "\n",
        "mpl.rcParams.update(mpl.rcParamsDefault)\n",
        "np.set_printoptions(threshold=sys.maxsize)\n",
        "plt.rcParams[\"figure.max_open_warning\"] = 4"
      ]
    },
    {
      "cell_type": "code",
      "execution_count": 3,
      "metadata": {},
      "outputs": [],
      "source": [
        "### load local packages\n",
        "PROJECT_ROOT = os.path.abspath(os.path.join(os.getcwd(), \"../..\"))\n",
        "\n",
        "if PROJECT_ROOT not in sys.path:\n",
        "    sys.path.insert(0, PROJECT_ROOT)\n",
        "\n",
        "from src.data.helmholtz import generate_dataset\n",
        "from src.nn.dnn import DNN\n",
        "from src.nn.pinn import PINN"
      ]
    },
    {
      "cell_type": "markdown",
      "metadata": {},
      "source": [
        "## Global functions"
      ]
    },
    {
      "cell_type": "code",
      "execution_count": 4,
      "metadata": {
        "colab": {
          "base_uri": "https://localhost:8080/"
        },
        "executionInfo": {
          "elapsed": 7,
          "status": "ok",
          "timestamp": 1685488781959,
          "user": {
            "displayName": "Sokratis An",
            "userId": "06375667078137359429"
          },
          "user_tz": -120
        },
        "id": "CaIRR9De5oEx",
        "outputId": "58f4a290-8271-43b4-8702-7581d1e98620"
      },
      "outputs": [
        {
          "name": "stdout",
          "output_type": "stream",
          "text": [
            "cuda available\n"
          ]
        }
      ],
      "source": [
        "if torch.cuda.is_available():\n",
        "    \"\"\"Cuda support\"\"\"\n",
        "    print(\"cuda available\")\n",
        "    DEVICE = torch.device(\"cuda\")\n",
        "else:\n",
        "    print(\"cuda not avail\")\n",
        "    DEVICE = torch.device(\"cpu\")\n",
        "\n",
        "\n",
        "def seed_torch(seed):\n",
        "    \"\"\"Seed initialization\"\"\"\n",
        "    random.seed(seed)\n",
        "    np.random.seed(seed)\n",
        "    torch.manual_seed(seed)\n",
        "    torch.cuda.manual_seed(seed)\n",
        "\n",
        "\n",
        "seed_torch(2341)\n",
        "torch.cuda.empty_cache()"
      ]
    },
    {
      "cell_type": "code",
      "execution_count": 12,
      "metadata": {
        "id": "u4PChpa15oEz"
      },
      "outputs": [],
      "source": []
    },
    {
      "cell_type": "markdown",
      "metadata": {},
      "source": [
        "## Data generation"
      ]
    },
    {
      "cell_type": "code",
      "execution_count": 5,
      "metadata": {
        "colab": {
          "base_uri": "https://localhost:8080/",
          "height": 912
        },
        "executionInfo": {
          "elapsed": 44,
          "status": "ok",
          "timestamp": 1685488787332,
          "user": {
            "displayName": "Sokratis An",
            "userId": "06375667078137359429"
          },
          "user_tz": -120
        },
        "id": "npcOQYDw5oE0",
        "outputId": "9642bf84-2e92-4f9b-da42-8c2c98212b63",
        "scrolled": true
      },
      "outputs": [
        {
          "name": "stdout",
          "output_type": "stream",
          "text": [
            "X_r shape: (25600, 2)\n",
            "X_u shape: (200, 2)\n",
            "u shape: (200, 1)\n"
          ]
        }
      ],
      "source": [
        "nx, nt, t0, x0, X_r_train, X_u_train, u_train, Exact0, lbc, ubc = generate_dataset(\n",
        "    DEVICE\n",
        ")"
      ]
    },
    {
      "cell_type": "code",
      "execution_count": 6,
      "metadata": {
        "colab": {
          "base_uri": "https://localhost:8080/"
        },
        "executionInfo": {
          "elapsed": 39,
          "status": "ok",
          "timestamp": 1685488787332,
          "user": {
            "displayName": "Sokratis An",
            "userId": "06375667078137359429"
          },
          "user_tz": -120
        },
        "id": "tdlu03ND5oE1",
        "outputId": "a2f8315f-aa62-449d-d28c-296096800f60"
      },
      "outputs": [
        {
          "name": "stderr",
          "output_type": "stream",
          "text": [
            "/home/ubuntu/miniconda3/envs/pytorch-2.3.1-corona-pinn/lib/python3.9/site-packages/torch/optim/lr_scheduler.py:28: UserWarning: The verbose parameter is deprecated. Please use get_last_lr() to access the learning rate.\n",
            "  warnings.warn(\"The verbose parameter is deprecated. Please use get_last_lr() \"\n"
          ]
        }
      ],
      "source": [
        "model = PINN(X_u_train, u_train, X_r_train, nx, nt, t0, x0, Exact0, device=\"cpu\")"
      ]
    },
    {
      "cell_type": "markdown",
      "metadata": {},
      "source": [
        "## Training"
      ]
    },
    {
      "cell_type": "code",
      "execution_count": null,
      "metadata": {
        "scrolled": true
      },
      "outputs": [],
      "source": [
        "%%time\n",
        "model.train() # RBA"
      ]
    },
    {
      "cell_type": "code",
      "execution_count": null,
      "metadata": {},
      "outputs": [],
      "source": [
        "%%time\n",
        "model.train() # SA"
      ]
    },
    {
      "cell_type": "code",
      "execution_count": null,
      "metadata": {
        "scrolled": true
      },
      "outputs": [],
      "source": [
        "%%time\n",
        "model.train() # Vanilla"
      ]
    },
    {
      "cell_type": "code",
      "execution_count": 10,
      "metadata": {
        "colab": {
          "base_uri": "https://localhost:8080/",
          "height": 470
        },
        "executionInfo": {
          "elapsed": 4967,
          "status": "ok",
          "timestamp": 1685110007390,
          "user": {
            "displayName": "Sokratis An",
            "userId": "06375667078137359429"
          },
          "user_tz": -120
        },
        "id": "WyzJiQJS5oE1",
        "outputId": "2fc4e87f-449f-48fc-8860-ba6512704707"
      },
      "outputs": [
        {
          "ename": "AttributeError",
          "evalue": "'numpy.ndarray' object has no attribute 'device'",
          "output_type": "error",
          "traceback": [
            "\u001b[0;31m---------------------------------------------------------------------------\u001b[0m",
            "\u001b[0;31mAttributeError\u001b[0m                            Traceback (most recent call last)",
            "Cell \u001b[0;32mIn[10], line 5\u001b[0m\n\u001b[1;32m      3\u001b[0m X, T \u001b[38;5;241m=\u001b[39m np\u001b[38;5;241m.\u001b[39mmeshgrid(x0, t0)\n\u001b[1;32m      4\u001b[0m X_star \u001b[38;5;241m=\u001b[39m np\u001b[38;5;241m.\u001b[39mhstack((X\u001b[38;5;241m.\u001b[39mflatten()[:, \u001b[38;5;28;01mNone\u001b[39;00m], T\u001b[38;5;241m.\u001b[39mflatten()[:, \u001b[38;5;28;01mNone\u001b[39;00m]))\n\u001b[0;32m----> 5\u001b[0m u_pred \u001b[38;5;241m=\u001b[39m \u001b[43mmodel\u001b[49m\u001b[38;5;241;43m.\u001b[39;49m\u001b[43mpredict\u001b[49m\u001b[43m(\u001b[49m\u001b[43mX_star\u001b[49m\u001b[43m)\u001b[49m\n\u001b[1;32m      6\u001b[0m U_pred \u001b[38;5;241m=\u001b[39m np\u001b[38;5;241m.\u001b[39mreshape(u_pred, (Exact\u001b[38;5;241m.\u001b[39mshape[\u001b[38;5;241m1\u001b[39m], Exact\u001b[38;5;241m.\u001b[39mshape[\u001b[38;5;241m0\u001b[39m]))\u001b[38;5;241m.\u001b[39mT\n\u001b[1;32m      7\u001b[0m l2_rel \u001b[38;5;241m=\u001b[39m np\u001b[38;5;241m.\u001b[39mlinalg\u001b[38;5;241m.\u001b[39mnorm(Exact\u001b[38;5;241m.\u001b[39mflatten() \u001b[38;5;241m-\u001b[39m U_pred\u001b[38;5;241m.\u001b[39mflatten(), \u001b[38;5;241m2\u001b[39m) \u001b[38;5;241m/\u001b[39m np\u001b[38;5;241m.\u001b[39mlinalg\u001b[38;5;241m.\u001b[39mnorm(\n\u001b[1;32m      8\u001b[0m     Exact\u001b[38;5;241m.\u001b[39mflatten(), \u001b[38;5;241m2\u001b[39m\n\u001b[1;32m      9\u001b[0m )\n",
            "File \u001b[0;32m~/afrah/code/pinn_fsi_ibm/src/nn/pinn.py:224\u001b[0m, in \u001b[0;36mPINN.predict\u001b[0;34m(self, X)\u001b[0m\n\u001b[1;32m    223\u001b[0m \u001b[38;5;28;01mdef\u001b[39;00m \u001b[38;5;21mpredict\u001b[39m(\u001b[38;5;28mself\u001b[39m, X):\n\u001b[0;32m--> 224\u001b[0m     x \u001b[38;5;241m=\u001b[39m torch\u001b[38;5;241m.\u001b[39mtensor(X[:, \u001b[38;5;241m0\u001b[39m:\u001b[38;5;241m1\u001b[39m])\u001b[38;5;241m.\u001b[39mfloat()\u001b[38;5;241m.\u001b[39mto(\u001b[43mX\u001b[49m\u001b[38;5;241;43m.\u001b[39;49m\u001b[43mdevice\u001b[49m)\n\u001b[1;32m    225\u001b[0m     t \u001b[38;5;241m=\u001b[39m torch\u001b[38;5;241m.\u001b[39mtensor(X[:, \u001b[38;5;241m1\u001b[39m:\u001b[38;5;241m2\u001b[39m])\u001b[38;5;241m.\u001b[39mfloat()\u001b[38;5;241m.\u001b[39mto(X\u001b[38;5;241m.\u001b[39mdevice)\n\u001b[1;32m    226\u001b[0m     \u001b[38;5;28mself\u001b[39m\u001b[38;5;241m.\u001b[39mdnn\u001b[38;5;241m.\u001b[39meval()\n",
            "\u001b[0;31mAttributeError\u001b[0m: 'numpy.ndarray' object has no attribute 'device'"
          ]
        }
      ],
      "source": [
        "# Prediction\n",
        "Exact = Exact0\n",
        "X, T = np.meshgrid(x0, t0)\n",
        "X_star = np.hstack((X.flatten()[:, None], T.flatten()[:, None]))\n",
        "u_pred = model.predict(X_star)\n",
        "U_pred = np.reshape(u_pred, (Exact.shape[1], Exact.shape[0])).T\n",
        "l2_rel = np.linalg.norm(Exact.flatten() - U_pred.flatten(), 2) / np.linalg.norm(\n",
        "    Exact.flatten(), 2\n",
        ")\n",
        "print(\"L2:\", l2_rel)\n",
        "\n",
        "plt.figure(1)\n",
        "plt.title(\"Abs Error u\")\n",
        "plt.xlabel(\"y\")\n",
        "plt.ylabel(\"x\")\n",
        "plt.imshow(np.abs(Exact - U_pred), aspect=\"auto\", cmap=\"rainbow\")\n",
        "plt.colorbar()\n",
        "plt.show()"
      ]
    },
    {
      "cell_type": "code",
      "execution_count": null,
      "metadata": {},
      "outputs": [],
      "source": [
        "def load_data(Fluid_data, key):\n",
        "    return Fluid_data[key]\n",
        "\n",
        "\n",
        "Fluid_data = scipy.io.loadmat(path)\n",
        "\n",
        "# Load data\n",
        "fluid = load_data(Fluid_data, \"Fluid_training\")\n",
        "interface = load_data(Fluid_data, \"Solid_interface\")\n",
        "solid = load_data(Fluid_data, \"Solid_interface\")"
      ]
    },
    {
      "cell_type": "code",
      "execution_count": null,
      "metadata": {},
      "outputs": [],
      "source": [
        "INFO:src.utils.logger:MODEL_PATH /home/ubuntu/afrah/code/pinn_fsi_ibm/checkpoints/fsi/2024-10-15_17-36-49-818397/model.pth\n",
        "INFO:src.utils.logger:model loaded from /home/ubuntu/afrah/code/pinn_fsi_ibm/checkpoints/fsi/2024-10-15_17-36-49-818397/model.pth\n",
        "INFO:src.utils.logger:problem: fsi\n",
        "INFO:src.utils.logger:dataset_path:  , None\n",
        "INFO:src.utils.logger:batch size:  , 100\n",
        "INFO:src.utils.logger:network:  , [3, 400, 400, 400, 5]\n",
        "INFO:src.utils.logger:term loss weights :  , None\n",
        "INFO:src.utils.logger:method:  , RBA\n",
        "INFO:src.utils.logger:solver:  , xsig\n",
        "INFO:src.utils.logger:number of iterations:  , 50001\n",
        "INFO:src.utils.logger:RelL2_U%  : 3.294e+01 \n",
        "INFO:src.utils.logger:RelL2_V%  : 4.238e+01 \n",
        "INFO:src.utils.logger:RelL2_P%  : 7.043e+01 \n",
        "INFO:src.utils.logger:RelL2_Fx%  : 1.000e+02 \n",
        "INFO:src.utils.logger:RelL2_Fx%  : 1.000e+02 \n",
        "INFO:src.utils.logger:Final loss left: 1.683178e-03\n",
        "INFO:src.utils.logger:Final loss right: 4.221339e-03\n",
        "INFO:src.utils.logger:Final loss bottom: 1.297961e-05\n",
        "INFO:src.utils.logger:Final loss up: 9.127887e-03\n",
        "INFO:src.utils.logger:Final loss fluid_points: 7.133770e-03\n",
        "INFO:src.utils.logger:Final loss initial: 2.833534e-02\n",
        "INFO:src.utils.logger:Final loss fluid: 2.689436e-03\n",
        "INFO:src.utils.logger:final loss sum: 5.32e-02\n",
        "INFO:src.utils.logger:******************************\n",
        "\n",
        "INFO:src.utils.logger:MODEL_PATH /home/ubuntu/afrah/code/pinn_fsi_ibm/checkpoints/fsi/2024-10-15_18-20-15-632977/model.pth\n",
        "INFO:src.utils.logger:model loaded from /home/ubuntu/afrah/code/pinn_fsi_ibm/checkpoints/fsi/2024-10-15_18-20-15-632977/model.pth\n",
        "INFO:src.utils.logger:problem: fsi\n",
        "INFO:src.utils.logger:dataset_path:  , None\n",
        "INFO:src.utils.logger:batch size:  , 100\n",
        "INFO:src.utils.logger:network:  , [3, 200, 200, 200, 200, 5]\n",
        "INFO:src.utils.logger:term loss weights :  , None\n",
        "INFO:src.utils.logger:method:  , Fixed\n",
        "INFO:src.utils.logger:solver:  , xsig\n",
        "INFO:src.utils.logger:number of iterations:  , 10001\n",
        "INFO:src.utils.logger:RelL2_U%  : 1.409e+01 \n",
        "INFO:src.utils.logger:RelL2_V%  : 1.940e+01 \n",
        "INFO:src.utils.logger:RelL2_P%  : 4.182e+01 \n",
        "INFO:src.utils.logger:RelL2_Fx%  : 1.000e+02 \n",
        "INFO:src.utils.logger:RelL2_Fx%  : 1.000e+02 \n",
        "INFO:src.utils.logger:Final loss left: 2.806298e-03\n",
        "INFO:src.utils.logger:Final loss right: 3.064817e-04\n",
        "INFO:src.utils.logger:Final loss bottom: 1.725764e-05\n",
        "INFO:src.utils.logger:Final loss up: 8.084860e-04\n",
        "INFO:src.utils.logger:Final loss fluid_points: 3.315340e-03\n",
        "INFO:src.utils.logger:Final loss initial: 3.685336e-03\n",
        "INFO:src.utils.logger:Final loss fluid: 9.500139e-01\n",
        "INFO:src.utils.logger:final loss sum: 9.61e-01\n",
        "INFO:src.utils.logger:******************************\n",
        "\n",
        "INFO:src.utils.logger:MODEL_PATH /home/ubuntu/afrah/code/pinn_fsi_ibm/checkpoints/fsi/2024-10-15_17-37-33-081291/model.pth\n",
        "INFO:src.utils.logger:model loaded from /home/ubuntu/afrah/code/pinn_fsi_ibm/checkpoints/fsi/2024-10-15_17-37-33-081291/model.pth\n",
        "INFO:src.utils.logger:problem: fsi\n",
        "INFO:src.utils.logger:dataset_path:  , None\n",
        "INFO:src.utils.logger:batch size:  , 100\n",
        "INFO:src.utils.logger:network:  , [3, 400, 400, 400, 5]\n",
        "INFO:src.utils.logger:term loss weights :  , None\n",
        "INFO:src.utils.logger:method:  , SA\n",
        "INFO:src.utils.logger:solver:  , xsig\n",
        "INFO:src.utils.logger:number of iterations:  , 50001\n",
        "INFO:src.utils.logger:RelL2_U%  : 3.118e+01 \n",
        "INFO:src.utils.logger:RelL2_V%  : 3.967e+01 \n",
        "INFO:src.utils.logger:RelL2_P%  : 6.425e+01 \n",
        "INFO:src.utils.logger:RelL2_Fx%  : 1.000e+02 \n",
        "INFO:src.utils.logger:RelL2_Fx%  : 1.000e+02 \n",
        "INFO:src.utils.logger:Final loss left: 2.478776e-03\n",
        "INFO:src.utils.logger:Final loss right: 2.160316e-03\n",
        "INFO:src.utils.logger:Final loss bottom: 4.728580e-05\n",
        "INFO:src.utils.logger:Final loss up: 3.277555e-03\n",
        "INFO:src.utils.logger:Final loss fluid_points: 1.019266e-02\n",
        "INFO:src.utils.logger:Final loss initial: 4.375745e-02\n",
        "INFO:src.utils.logger:Final loss fluid: 4.457249e-03\n",
        "INFO:src.utils.logger:final loss sum: 6.64e-02\n",
        "INFO:src.utils.logger:******************************\n",
        "\n",
        "INFO:src.utils.logger:MODEL_PATH /home/ubuntu/afrah/code/pinn_fsi_ibm/checkpoints/fsi/2024-10-15_17-37-23-782676/model.pth\n",
        "INFO:src.utils.logger:model loaded from /home/ubuntu/afrah/code/pinn_fsi_ibm/checkpoints/fsi/2024-10-15_17-37-23-782676/model.pth\n",
        "INFO:src.utils.logger:problem: fsi\n",
        "INFO:src.utils.logger:dataset_path:  , None\n",
        "INFO:src.utils.logger:batch size:  , 100\n",
        "INFO:src.utils.logger:network:  , [3, 400, 400, 400, 5]\n",
        "INFO:src.utils.logger:term loss weights :  , None\n",
        "INFO:src.utils.logger:method:  , grad_stat\n",
        "INFO:src.utils.logger:solver:  , xsig\n",
        "INFO:src.utils.logger:number of iterations:  , 50001\n",
        "INFO:src.utils.logger:RelL2_U%  : 1.854e+01 \n",
        "INFO:src.utils.logger:RelL2_V%  : 2.666e+01 \n",
        "INFO:src.utils.logger:RelL2_P%  : 4.321e+01 \n",
        "INFO:src.utils.logger:RelL2_Fx%  : 1.000e+02 \n",
        "INFO:src.utils.logger:RelL2_Fx%  : 1.000e+02 \n",
        "INFO:src.utils.logger:Final loss left: 1.840389e-04\n",
        "INFO:src.utils.logger:Final loss right: 9.571897e-05\n",
        "INFO:src.utils.logger:Final loss bottom: 1.398892e-07\n",
        "INFO:src.utils.logger:Final loss up: 5.822193e-03\n",
        "INFO:src.utils.logger:Final loss fluid_points: 2.536351e-03\n",
        "INFO:src.utils.logger:Final loss initial: 7.254026e-03\n",
        "INFO:src.utils.logger:Final loss fluid: 8.639111e-01\n",
        "INFO:src.utils.logger:final loss sum: 8.80e-01\n",
        "INFO:src.utils.logger:******************************\n",
        "\n",
        "INFO:src.utils.logger:file directory:\n",
        "INFO:src.utils.logger:/home/ubuntu/afrah/code/pinn_fsi_ibm/result/fsi/2024-10-15_16-23-57-095513\n"
      ]
    },
    {
      "cell_type": "code",
      "execution_count": null,
      "metadata": {},
      "outputs": [],
      "source": []
    }
  ],
  "metadata": {
    "accelerator": "GPU",
    "colab": {
      "gpuType": "T4",
      "provenance": []
    },
    "kernelspec": {
      "display_name": "pytorch-2.3.1-corona-pinn",
      "language": "python",
      "name": "python3"
    },
    "language_info": {
      "codemirror_mode": {
        "name": "ipython",
        "version": 3
      },
      "file_extension": ".py",
      "mimetype": "text/x-python",
      "name": "python",
      "nbconvert_exporter": "python",
      "pygments_lexer": "ipython3",
      "version": "3.9.19"
    }
  },
  "nbformat": 4,
  "nbformat_minor": 1
}
