{
  "cells": [
    {
      "cell_type": "code",
      "execution_count": 1,
      "metadata": {},
      "outputs": [],
      "source": [
        "%load_ext autoreload\n",
        "%autoreload 2"
      ]
    },
    {
      "cell_type": "code",
      "execution_count": 2,
      "metadata": {},
      "outputs": [],
      "source": [
        "import sys\n",
        "import os\n",
        "import torch\n",
        "import numpy as np\n",
        "import scipy"
      ]
    },
    {
      "cell_type": "code",
      "execution_count": 3,
      "metadata": {},
      "outputs": [],
      "source": [
        "PROJECT_ROOT = os.path.abspath(os.path.join(os.getcwd(), \"../../..\"))\n",
        "\n",
        "PRINT_EVERY = 1000\n",
        "\n",
        "## Start: Importing local packages. As I don't know how to run it as module\n",
        "## with torchrun  (e.g., python -m trainer.Coronary_ddp_trainer)\n",
        "\n",
        "if PROJECT_ROOT not in sys.path:\n",
        "    sys.path.insert(0, PROJECT_ROOT)\n",
        "\n",
        "from src.data.IBM_data_loader import generate_fluid_testing_dataset\n",
        "from src.utils.utils import lp_error\n",
        "from src.utils.logger import Logging\n",
        "from src.utils.color import model_color\n",
        "from src.utils.plot_loss import plot_loss_history\n",
        "from src.utils.plotting_regular_2D import plot_time_profile_regular_data_IBM\n",
        "from src.utils.plotting_regular_2D import draw_contourf_regular_2D\n",
        "from src.utils.plotting_irregular_2D_interface import draw_contourf_irregular_2D\n",
        "\n",
        "DEVICE = \"cpu\"  # torch.device(\"cuda\" if torch.cuda.is_available() else \"cpu\")\n",
        "\n",
        "# file_path = \"/home/vlq26735/saiful/afrah/datasets/IBM/IB_PINN3.mat\"\n",
        "\n",
        "# h=  0.498715\n",
        "# k=  0.6851750000000001\n",
        "# rx=  0.209685\n",
        "# ry=  0.21008499999999997"
      ]
    },
    {
      "cell_type": "code",
      "execution_count": 4,
      "metadata": {},
      "outputs": [
        {
          "name": "stderr",
          "output_type": "stream",
          "text": [
            "INFO:src.utils.logger:Device used cpu\n"
          ]
        }
      ],
      "source": [
        "TEST_CHECKPOINT_PATH = os.path.join(PROJECT_ROOT, \"testing_checkpoints/fsi\")\n",
        "logger = Logging(TEST_CHECKPOINT_PATH)\n",
        "model_dirname = logger.get_output_dir()\n",
        "\n",
        "logger.print(f\"Device used {DEVICE}\")"
      ]
    },
    {
      "cell_type": "markdown",
      "metadata": {},
      "source": [
        "### Load  and reshape the Testing Dataset if required"
      ]
    },
    {
      "cell_type": "code",
      "execution_count": 5,
      "metadata": {},
      "outputs": [],
      "source": [
        "def load_data(Fluid_data, key):\n",
        "    return Fluid_data[key]\n",
        "\n",
        "\n",
        "DATA_FILE = \"../../../data/Fluid_trainingData.mat\"\n",
        "\n",
        "TEST_DATA_PATH = \"../../../data/IB_PINN3.mat\"\n",
        "\n",
        "\n",
        "[time_fluid, x_fluid, y_fluid, u_fluid, v_fluid, p_fluid, fx_fluid, fy_fluid] = (\n",
        "    generate_fluid_testing_dataset(TEST_DATA_PATH)\n",
        ")\n",
        "\n",
        "test_torch_data = torch.tensor(\n",
        "    np.concatenate([time_fluid, x_fluid, y_fluid, u_fluid, v_fluid, p_fluid], axis=1),\n",
        "    dtype=torch.float32,\n",
        ").to(DEVICE)\n",
        "\n",
        "\n",
        "Fluid_data = scipy.io.loadmat(DATA_FILE)\n",
        "\n",
        "interface_np = load_data(Fluid_data, \"Solid_interface\")\n",
        "\n",
        "# Calculate mean and std for all columns in interface\n",
        "mean_interface = interface_np.mean(axis=0, keepdims=True)[0]\n",
        "std_interface = interface_np.std(axis=0, keepdims=True)[0]\n",
        "mean_interface = torch.tensor(mean_interface, dtype=torch.float32).to(DEVICE)\n",
        "std_interface = torch.tensor(std_interface, dtype=torch.float32).to(DEVICE)\n",
        "\n",
        "\n",
        "time_interface = interface_np[:, 0].flatten()[:, None]  # test_data[0]\n",
        "x_interface = interface_np[:, 1].flatten()[:, None]  # test_data[1]\n",
        "y_interface = interface_np[:, 2].flatten()[:, None]  # test_data[2]\n",
        "u_interface = interface_np[:, 3].flatten()[:, None]  # test_data[2]\n",
        "v_interface = interface_np[:, 4].flatten()[:, None]  # test_data[2]\n",
        "p_interface = interface_np[:, 5].flatten()[:, None]  # test_data[2]\n",
        "fx_interface = interface_np[:, 6].flatten()[:, None]  # test_data[3]\n",
        "fy_interface = interface_np[:, 7].flatten()[:, None]  # test_data[4]\n",
        "\n",
        "\n",
        "time_interface_tensor = torch.tensor(time_interface, dtype=torch.float32).to(DEVICE)\n",
        "x_interface_tensor = torch.tensor(x_interface, dtype=torch.float32).to(DEVICE)\n",
        "y_interface_tensor = torch.tensor(y_interface, dtype=torch.float32).to(DEVICE)\n",
        "\n",
        "# Ensure input is on the same device (GPU)\n",
        "input_interface = torch.cat(\n",
        "    [time_interface_tensor, x_interface_tensor, y_interface_tensor], axis=1\n",
        ")"
      ]
    },
    {
      "cell_type": "code",
      "execution_count": 33,
      "metadata": {},
      "outputs": [],
      "source": [
        "Bspline_MODEL_PATH = os.path.join(\n",
        "    PROJECT_ROOT, \"checkpoints/fsi/2024-10-25_20-41-08-372085/model.pth\"\n",
        ")"
      ]
    },
    {
      "cell_type": "markdown",
      "metadata": {},
      "source": [
        "### Load B-spline Model"
      ]
    },
    {
      "cell_type": "code",
      "execution_count": 27,
      "metadata": {},
      "outputs": [
        {
          "name": "stderr",
          "output_type": "stream",
          "text": [
            "INFO:src.utils.logger:_summary of the model _\n",
            "INFO:src.utils.logger:model path:\n",
            "INFO:src.utils.logger:/home/ubuntu/afrah/code/pinn_fsi_ibm/checkpoints/fsi/2024-10-25_15-13-49-857138/model.pth\n",
            "INFO:src.utils.logger:model configuration:\n"
          ]
        },
        {
          "name": "stderr",
          "output_type": "stream",
          "text": [
            "INFO:src.utils.logger:batch_size : 256\n",
            "INFO:src.utils.logger:network_fluid : [3, 100, 100, 100, 5]\n",
            "INFO:src.utils.logger:network_force : [3, 100, 100, 100, 5]\n",
            "INFO:src.utils.logger:activation : bspline\n",
            "INFO:src.utils.logger:solver : bspline\n",
            "INFO:src.utils.logger:weighting : Fixed\n",
            "INFO:src.utils.logger:problem : fsi\n",
            "INFO:src.utils.logger:total_epochs : 100000\n",
            "INFO:src.utils.logger:print_every : 20000\n",
            "INFO:src.utils.logger:save_every : 1000\n",
            "INFO:src.utils.logger:loss_list : ['left', 'right', 'bottom', 'up', 'fluid_points', 'initial', 'fluid', 'vCoupling', 'lint_pts', 'int_initial']\n",
            "INFO:src.utils.logger:log_path : ./checkpoints/fsi\n"
          ]
        },
        {
          "data": {
            "text/plain": [
              "<All keys matched successfully>"
            ]
          },
          "execution_count": 27,
          "metadata": {},
          "output_type": "execute_result"
        }
      ],
      "source": [
        "# Initialize models to None\n",
        "\n",
        "\n",
        "fluid_model = None\n",
        "\n",
        "# Load the state from the saved model\n",
        "state = torch.load(Bspline_MODEL_PATH)\n",
        "config = state.get(\"config\", {})\n",
        "loss_history = state.get(\"loss_history\", [])\n",
        "solver = config.get(\"solver\")\n",
        "\n",
        "\n",
        "# Log model summary and configuration\n",
        "logger.print(\"_summary of the model _\")\n",
        "logger.print(\"model path:\", Bspline_MODEL_PATH)\n",
        "logger.print(\"model configuration:\")\n",
        "for key, value in config.items():\n",
        "    logger.print(f\"{key} : {value}\")\n",
        "\n",
        "# Extract model configuration from state\n",
        "model_activation_name = config.get(\"activation\", \"Tanh\")\n",
        "network_fluid = config.get(\"network_fluid\")\n",
        "network_force = config.get(\"network_force\")\n",
        "loss_history = state.get(\"loss_history\")\n",
        "\n",
        "fluid_data_mean = state.get(\"fluid_data_mean\").to(DEVICE)\n",
        "fluid_data_std = state.get(\"fluid_data_std\").to(DEVICE)\n",
        "solid_data_mean = state.get(\"solid_data_mean\").to(DEVICE)\n",
        "solid_data_std = state.get(\"solid_data_std\").to(DEVICE)\n",
        "\n",
        "\n",
        "SOLVER_TO_MODULE = {\n",
        "    \"tanh\": \"src.nn.tanh\",\n",
        "    \"xsig\": \"src.nn.xsigmoid\",\n",
        "    \"bspline\": \"src.nn.bspline\",\n",
        "}\n",
        "\n",
        "# Dynamically import the correct module and class\n",
        "if solver in SOLVER_TO_MODULE:\n",
        "    module = __import__(SOLVER_TO_MODULE[solver], fromlist=[\"PINNKAN\"])\n",
        "    PINNKAN = getattr(module, \"PINNKAN\")\n",
        "\n",
        "    # Initialize fluid and solid models\n",
        "    bspline_model_fluid = PINNKAN(network_fluid, model_activation_name).to(DEVICE)\n",
        "    bspline_model_force = PINNKAN(network_force, model_activation_name).to(DEVICE)\n",
        "\n",
        "# Plot the loss history if available\n",
        "\n",
        "# Load the saved state dictionaries into the models\n",
        "bspline_model_fluid.load_state_dict(state[\"model_fluid_state_dict\"])\n",
        "bspline_model_force.load_state_dict(state[\"model_force_state_dict\"])"
      ]
    },
    {
      "cell_type": "code",
      "execution_count": 28,
      "metadata": {},
      "outputs": [
        {
          "data": {
            "image/png": "[encoded data removed]",
            "text/plain": [
              "<Figure size 1500x600 with 1 Axes>"
            ]
          },
          "metadata": {},
          "output_type": "display_data"
        }
      ],
      "source": [
        "trim_len = 100\n",
        "bc_loss = (\n",
        "    np.array(loss_history[\"left\"][trim_len:])\n",
        "    + np.array(loss_history[\"right\"][trim_len:])\n",
        "    + np.array(loss_history[\"bottom\"][trim_len:])\n",
        "    + np.array(loss_history[\"up\"][trim_len:])\n",
        "    + np.array(loss_history[\"initial\"][trim_len:])\n",
        ")\n",
        "\n",
        "data_list = [\n",
        "    {\n",
        "        \"data\": bc_loss,\n",
        "        \"color\": model_color[\"bspline\"],\n",
        "        \"name\": \"left\",\n",
        "        \"alpha\": 0.9,\n",
        "        \"window\": 100,\n",
        "        \"show_avg\": False,\n",
        "        \"show_lower\": False,\n",
        "    },\n",
        "    {\n",
        "        \"data\": loss_history[\"int_initial\"][trim_len:],\n",
        "        \"color\": model_color[\"tanh\"],\n",
        "        \"name\": \"int_initial\",\n",
        "        \"alpha\": 0.5,\n",
        "        \"window\": 100,\n",
        "        \"show_avg\": False,\n",
        "        \"show_lower\": False,\n",
        "    },\n",
        "    {\n",
        "        \"data\": loss_history[\"vCoupling\"][trim_len:],\n",
        "        \"color\": model_color[\"grbf\"],\n",
        "        \"name\": \"vCoupling\",\n",
        "        \"alpha\": 0.5,\n",
        "        \"window\": 100,\n",
        "        \"show_avg\": False,\n",
        "        \"show_lower\": False,\n",
        "    },\n",
        "    {\n",
        "        \"data\": loss_history[\"lint_pts\"][trim_len:],\n",
        "        \"color\": model_color[\"fourier\"],\n",
        "        \"name\": \"lint_pts\",\n",
        "        \"alpha\": 0.9,\n",
        "        \"window\": 100,\n",
        "        \"show_avg\": False,\n",
        "        \"show_lower\": False,\n",
        "    },\n",
        "    {\n",
        "        \"data\": loss_history[\"fluid\"][trim_len:],\n",
        "        \"color\": model_color[\"param_tanh\"],\n",
        "        \"name\": \"fluid\",\n",
        "        \"alpha\": 0.5,\n",
        "        \"window\": 100,\n",
        "        \"show_avg\": False,\n",
        "        \"show_lower\": False,\n",
        "    },\n",
        "    {\n",
        "        \"data\": loss_history[\"fluid_points\"][trim_len:],\n",
        "        \"color\": model_color[\"chebyshev\"],\n",
        "        \"name\": \"fluid_points\",\n",
        "        \"alpha\": 0.5,\n",
        "        \"window\": 100,\n",
        "        \"show_avg\": False,\n",
        "        \"show_lower\": False,\n",
        "    },\n",
        "]\n",
        "\n",
        "\n",
        "plot_loss_history(\n",
        "    data_list,\n",
        "    os.path.join(logger.get_output_dir(), \"loss_history_fsi.png\"),\n",
        "    y_max=1000,\n",
        ")"
      ]
    },
    {
      "cell_type": "markdown",
      "metadata": {},
      "source": [
        "## Precition on the Fluid and the Solid using BSpline Model"
      ]
    },
    {
      "cell_type": "code",
      "execution_count": 34,
      "metadata": {},
      "outputs": [
        {
          "name": "stderr",
          "output_type": "stream",
          "text": [
            "INFO:src.utils.logger:RelL2_U%  : 89.86 \n",
            "INFO:src.utils.logger:RelL2_V%  : 85.25 \n",
            "INFO:src.utils.logger:RelL2_P%  : 90.18 \n",
            "INFO:src.utils.logger:RelL2_Fx%  : 100.00 \n",
            "INFO:src.utils.logger:RelL2_Fy%  : 100.00 \n"
          ]
        },
        {
          "name": "stdout",
          "output_type": "stream",
          "text": [
            "mean velocity: 8.755e+01\n",
            "mean_force: 1.000e+02\n",
            "p_error2: 9.018e+01\n"
          ]
        }
      ],
      "source": [
        "with torch.no_grad():\n",
        "    bspline_fluid_predictions = bspline_model_fluid.forward(\n",
        "        test_torch_data[:, :3], fluid_data_mean[:3], fluid_data_std[:3]\n",
        "    )\n",
        "if bspline_fluid_predictions.is_cuda:\n",
        "    bspline_fluid_predictions = bspline_fluid_predictions.cpu()\n",
        "u_pred_fluid = bspline_fluid_predictions[:, 0:1].numpy()\n",
        "v_pred_fluid = bspline_fluid_predictions[:, 1:2].numpy()\n",
        "p_pred_fluid = bspline_fluid_predictions[:, 2:3].numpy()\n",
        "fx_pred_fluid = bspline_fluid_predictions[:, 3:4].numpy()\n",
        "fy_pred_fluid = bspline_fluid_predictions[:, 4:5].numpy()\n",
        "\n",
        "#\n",
        "\n",
        "text = \"RelL2_\"\n",
        "# logger.print(\"\\n Relative L2 ERROR:\")\n",
        "u_error2 = lp_error(u_pred_fluid, u_fluid, (text + \"U%\"), logger, 2)\n",
        "v_error2 = lp_error(v_pred_fluid, v_fluid, (text + \"V%\"), logger, 2)\n",
        "p_error2 = lp_error(p_pred_fluid, p_fluid, (text + \"P%\"), logger, 2)\n",
        "fx_error2 = lp_error(fx_pred_fluid, fx_fluid, (text + \"Fx%\"), logger, 2)\n",
        "fy_error2 = lp_error(fy_pred_fluid, fy_fluid, (text + \"Fy%\"), logger, 2)\n",
        "\n",
        "mean_velocity = (u_error2 + v_error2) / 2\n",
        "print(f\"mean velocity: {mean_velocity:0.3e}\")\n",
        "\n",
        "mean_force = (fx_error2 + fy_error2) / 2\n",
        "print(f\"mean_force: {mean_force:0.3e}\")\n",
        "\n",
        "print(f\"p_error2: {p_error2:0.3e}\")"
      ]
    },
    {
      "cell_type": "markdown",
      "metadata": {},
      "source": [
        "### Prediction on the Interface using BSpline Model"
      ]
    },
    {
      "cell_type": "code",
      "execution_count": 30,
      "metadata": {},
      "outputs": [
        {
          "name": "stderr",
          "output_type": "stream",
          "text": [
            "INFO:src.utils.logger:on the interface : RelL2_U%  : 1132.51 \n",
            "INFO:src.utils.logger:on the interface : RelL2_V%  : 1052.75 \n",
            "INFO:src.utils.logger:on the interface : RelL2_P%  : 253.60 \n",
            "INFO:src.utils.logger:on the interface : RelL2_Fx%  : 76.09 \n",
            "INFO:src.utils.logger:on the interface : RelL2_Fy%  : 98.54 \n"
          ]
        },
        {
          "name": "stdout",
          "output_type": "stream",
          "text": [
            "on the interface\n"
          ]
        }
      ],
      "source": [
        "# Forward pass through the fluid model (assuming it's already on the GPU)\n",
        "with torch.no_grad():\n",
        "    bspline_prediction_interface = bspline_model_force.forward(\n",
        "        input_interface, mean_interface[:3], std_interface[:3]\n",
        "    )\n",
        "if bspline_prediction_interface.is_cuda:\n",
        "    bspline_prediction_interface = bspline_prediction_interface.cpu()\n",
        "\n",
        "u_pred_interface = bspline_prediction_interface[:, 0:1].numpy()\n",
        "v_pred_interface = bspline_prediction_interface[:, 1:2].numpy()\n",
        "p_pred_interface = bspline_prediction_interface[:, 2:3].numpy()\n",
        "fx_pred_interface = bspline_prediction_interface[:, 3:4].numpy()\n",
        "fy_pred_interface = bspline_prediction_interface[:, 4:5].numpy()\n",
        "\n",
        "\n",
        "text = \"on the interface : RelL2_\"\n",
        "print(\"on the interface\")\n",
        "\n",
        "# Calculate relative L2 errors\n",
        "\n",
        "bspline_u_error_interface = lp_error(\n",
        "    u_pred_interface, u_interface, (text + \"U%\"), logger, 2\n",
        ")\n",
        "bspline_v_error_interface = lp_error(\n",
        "    v_pred_interface, v_interface, (text + \"V%\"), logger, 2\n",
        ")\n",
        "bspline_p_pred_error_interface = lp_error(\n",
        "    p_pred_interface, p_interface, (text + \"P%\"), logger, 2\n",
        ")\n",
        "bspline_fx_error_interface = lp_error(\n",
        "    fx_pred_interface, fx_interface, (text + \"Fx%\"), logger, 2\n",
        ")\n",
        "bspline_fy_error_interface = lp_error(\n",
        "    fy_pred_interface, fy_interface, (text + \"Fy%\"), logger, 2\n",
        ")"
      ]
    },
    {
      "cell_type": "markdown",
      "metadata": {},
      "source": [
        "### Load MLP model"
      ]
    },
    {
      "cell_type": "markdown",
      "metadata": {},
      "source": []
    },
    {
      "cell_type": "code",
      "execution_count": 17,
      "metadata": {},
      "outputs": [],
      "source": [
        "MLP_MODEL_PATH = os.path.join(\n",
        "    PROJECT_ROOT, \"checkpoints/fsi/2024-10-25_20-24-32-270475/model.pth\"\n",
        ")"
      ]
    },
    {
      "cell_type": "code",
      "execution_count": 18,
      "metadata": {},
      "outputs": [
        {
          "name": "stderr",
          "output_type": "stream",
          "text": [
            "INFO:src.utils.logger:_summary of the model _\n",
            "INFO:src.utils.logger:model path:\n",
            "INFO:src.utils.logger:/home/ubuntu/afrah/code/pinn_fsi_ibm/checkpoints/fsi/2024-10-25_15-14-37-333028/model.pth\n",
            "INFO:src.utils.logger:model configuration:\n",
            "INFO:src.utils.logger:batch_size : 256\n",
            "INFO:src.utils.logger:network_fluid : [3, 300, 300, 300, 5]\n",
            "INFO:src.utils.logger:network_force : [3, 300, 300, 300, 5]\n",
            "INFO:src.utils.logger:activation : tanh\n",
            "INFO:src.utils.logger:solver : tanh\n",
            "INFO:src.utils.logger:weighting : Fixed\n",
            "INFO:src.utils.logger:problem : fsi\n",
            "INFO:src.utils.logger:total_epochs : 100000\n",
            "INFO:src.utils.logger:print_every : 10000\n",
            "INFO:src.utils.logger:save_every : 2000\n",
            "INFO:src.utils.logger:loss_list : ['left', 'right', 'bottom', 'up', 'fluid_points', 'initial', 'fluid', 'vCoupling', 'lint_pts', 'int_initial']\n",
            "INFO:src.utils.logger:log_path : ./checkpoints/fsi\n"
          ]
        },
        {
          "data": {
            "text/plain": [
              "<All keys matched successfully>"
            ]
          },
          "execution_count": 18,
          "metadata": {},
          "output_type": "execute_result"
        }
      ],
      "source": [
        "# Initialize models to None\n",
        "\n",
        "\n",
        "# Load the state from the saved model\n",
        "state = torch.load(MLP_MODEL_PATH)\n",
        "config = state.get(\"config\", {})\n",
        "loss_history = state.get(\"loss_history\", [])\n",
        "solver = config.get(\"solver\")\n",
        "\n",
        "# Log model summary and configuration\n",
        "logger.print(\"_summary of the model _\")\n",
        "logger.print(\"model path:\", MLP_MODEL_PATH)\n",
        "logger.print(\"model configuration:\")\n",
        "for key, value in config.items():\n",
        "    logger.print(f\"{key} : {value}\")\n",
        "\n",
        "# Extract model configuration from state\n",
        "model_activation_name = config.get(\"activation\", \"Tanh\")\n",
        "network_fluid = config.get(\"network_fluid\")\n",
        "network_force = config.get(\"network_force\")\n",
        "loss_history = state.get(\"loss_history\")\n",
        "\n",
        "fluid_data_mean = state.get(\"fluid_data_mean\").to(DEVICE)\n",
        "fluid_data_std = state.get(\"fluid_data_std\").to(DEVICE)\n",
        "solid_data_mean = state.get(\"solid_data_mean\").to(DEVICE)\n",
        "solid_data_std = state.get(\"solid_data_std\").to(DEVICE)\n",
        "\n",
        "\n",
        "SOLVER_TO_MODULE = {\n",
        "    \"tanh\": \"src.nn.tanh\",\n",
        "    \"xsig\": \"src.nn.xsigmoid\",\n",
        "    \"bspline\": \"src.nn.bspline\",\n",
        "}\n",
        "\n",
        "# Dynamically import the correct module and class\n",
        "if solver in SOLVER_TO_MODULE:\n",
        "    module = __import__(SOLVER_TO_MODULE[solver], fromlist=[\"PINNKAN\"])\n",
        "    PINNKAN = getattr(module, \"PINNKAN\")\n",
        "\n",
        "    # Initialize fluid and solid models\n",
        "    mlp_model_fluid = PINNKAN(network_fluid, model_activation_name).to(DEVICE)\n",
        "    mlp_model_force = PINNKAN(network_force, model_activation_name).to(DEVICE)\n",
        "\n",
        "# Plot the loss history if available\n",
        "\n",
        "# Load the saved state dictionaries into the models\n",
        "mlp_model_fluid.load_state_dict(state[\"model_fluid_state_dict\"])\n",
        "mlp_model_force.load_state_dict(state[\"model_force_state_dict\"])"
      ]
    },
    {
      "cell_type": "code",
      "execution_count": 25,
      "metadata": {},
      "outputs": [
        {
          "data": {
            "image/png": "[encoded data removed]",
            "text/plain": [
              "<Figure size 1500x600 with 1 Axes>"
            ]
          },
          "metadata": {},
          "output_type": "display_data"
        }
      ],
      "source": [
        "trim_len = 0\n",
        "bc_loss = (\n",
        "    np.array(loss_history[\"left\"][trim_len:])\n",
        "    + np.array(loss_history[\"right\"][trim_len:])\n",
        "    + np.array(loss_history[\"bottom\"][trim_len:])\n",
        "    + np.array(loss_history[\"up\"][trim_len:])\n",
        "    + np.array(loss_history[\"initial\"][trim_len:])\n",
        ")\n",
        "\n",
        "data_list = [\n",
        "    {\n",
        "        \"data\": bc_loss,\n",
        "        \"color\": model_color[\"bspline\"],\n",
        "        \"name\": \"left\",\n",
        "        \"alpha\": 0.9,\n",
        "        \"window\": 100,\n",
        "        \"show_avg\": False,\n",
        "        \"show_lower\": False,\n",
        "    },\n",
        "    {\n",
        "        \"data\": loss_history[\"int_initial\"][trim_len:],\n",
        "        \"color\": model_color[\"tanh\"],\n",
        "        \"name\": \"int_initial\",\n",
        "        \"alpha\": 0.5,\n",
        "        \"window\": 100,\n",
        "        \"show_avg\": False,\n",
        "        \"show_lower\": False,\n",
        "    },\n",
        "    {\n",
        "        \"data\": loss_history[\"vCoupling\"][trim_len:],\n",
        "        \"color\": model_color[\"grbf\"],\n",
        "        \"name\": \"vCoupling\",\n",
        "        \"alpha\": 0.5,\n",
        "        \"window\": 100,\n",
        "        \"show_avg\": False,\n",
        "        \"show_lower\": False,\n",
        "    },\n",
        "    {\n",
        "        \"data\": loss_history[\"lint_pts\"][trim_len:],\n",
        "        \"color\": model_color[\"fourier\"],\n",
        "        \"name\": \"lint_pts\",\n",
        "        \"alpha\": 0.9,\n",
        "        \"window\": 100,\n",
        "        \"show_avg\": False,\n",
        "        \"show_lower\": False,\n",
        "    },\n",
        "    {\n",
        "        \"data\": loss_history[\"fluid\"][trim_len:],\n",
        "        \"color\": model_color[\"param_tanh\"],\n",
        "        \"name\": \"fluid\",\n",
        "        \"alpha\": 0.5,\n",
        "        \"window\": 100,\n",
        "        \"show_avg\": False,\n",
        "        \"show_lower\": False,\n",
        "    },\n",
        "    {\n",
        "        \"data\": loss_history[\"fluid_points\"][trim_len:],\n",
        "        \"color\": model_color[\"chebyshev\"],\n",
        "        \"name\": \"fluid_points\",\n",
        "        \"alpha\": 0.5,\n",
        "        \"window\": 100,\n",
        "        \"show_avg\": False,\n",
        "        \"show_lower\": False,\n",
        "    },\n",
        "]\n",
        "\n",
        "\n",
        "plot_loss_history(\n",
        "    data_list,\n",
        "    os.path.join(logger.get_output_dir(), \"loss_history_fsi.png\"),\n",
        "    y_max=100,\n",
        ")"
      ]
    },
    {
      "cell_type": "code",
      "execution_count": 20,
      "metadata": {},
      "outputs": [
        {
          "name": "stderr",
          "output_type": "stream",
          "text": [
            "INFO:src.utils.logger:RelL2_U%  : 81.70 \n",
            "INFO:src.utils.logger:RelL2_V%  : 74.58 \n",
            "INFO:src.utils.logger:RelL2_P%  : 96.67 \n",
            "INFO:src.utils.logger:RelL2_Fx%  : 174.21 \n",
            "INFO:src.utils.logger:RelL2_Fy%  : 103.45 \n"
          ]
        },
        {
          "name": "stdout",
          "output_type": "stream",
          "text": [
            "mean velocity: 7.814e+01\n",
            "mean_force: 1.388e+02\n",
            "p_error2: 9.667e+01\n"
          ]
        }
      ],
      "source": [
        "with torch.no_grad():\n",
        "    mlp_prediction_fluid = mlp_model_fluid.forward(\n",
        "        test_torch_data[:, :3], fluid_data_mean[:3], fluid_data_std[:3]\n",
        "    )\n",
        "\n",
        "\n",
        "if mlp_prediction_fluid.is_cuda:\n",
        "    mlp_prediction_fluid = mlp_prediction_fluid.cpu()\n",
        "u_pred_fluid = mlp_prediction_fluid[:, 0:1].numpy()\n",
        "v_pred_fluid = mlp_prediction_fluid[:, 1:2].numpy()\n",
        "p_pred_fluid = mlp_prediction_fluid[:, 2:3].numpy()\n",
        "fx_pred_fluid = mlp_prediction_fluid[:, 3:4].numpy()\n",
        "fy_pred_fluid = mlp_prediction_fluid[:, 4:5].numpy()\n",
        "\n",
        "#\n",
        "\n",
        "text = \"RelL2_\"\n",
        "# logger.print(\"\\n Relative L2 ERROR:\")\n",
        "u_error2 = lp_error(u_pred_fluid, u_fluid, (text + \"U%\"), logger, 2)\n",
        "v_error2 = lp_error(v_pred_fluid, v_fluid, (text + \"V%\"), logger, 2)\n",
        "p_error2 = lp_error(p_pred_fluid, p_fluid, (text + \"P%\"), logger, 2)\n",
        "fx_error2 = lp_error(fx_pred_fluid, fx_fluid, (text + \"Fx%\"), logger, 2)\n",
        "fy_error2 = lp_error(fy_pred_fluid, fy_fluid, (text + \"Fy%\"), logger, 2)\n",
        "\n",
        "\n",
        "mean_velocity = (u_error2 + v_error2) / 2\n",
        "print(f\"mean velocity: {mean_velocity:0.3e}\")\n",
        "\n",
        "mean_force = (fx_error2 + fy_error2) / 2\n",
        "print(f\"mean_force: {mean_force:0.3e}\")\n",
        "\n",
        "print(f\"p_error2: {p_error2:0.3e}\")"
      ]
    },
    {
      "cell_type": "markdown",
      "metadata": {},
      "source": [
        "### Prediction on the Interface using MLP model"
      ]
    },
    {
      "cell_type": "code",
      "execution_count": 21,
      "metadata": {},
      "outputs": [
        {
          "ename": "SyntaxError",
          "evalue": "invalid syntax (3256322945.py, line 1)",
          "output_type": "error",
          "traceback": [
            "\u001b[0;36m  Cell \u001b[0;32mIn[21], line 1\u001b[0;36m\u001b[0m\n\u001b[0;31m    INFO:src.utils.logger:RelL2_U%  :  8.39\u001b[0m\n\u001b[0m                         ^\u001b[0m\n\u001b[0;31mSyntaxError\u001b[0m\u001b[0;31m:\u001b[0m invalid syntax\n"
          ]
        }
      ],
      "source": [
        "INFO:src.utils.logger:RelL2_U%  :  8.39 \n",
        "INFO:src.utils.logger:RelL2_V%  : 11.76 \n",
        "INFO:src.utils.logger:RelL2_P%  : 34.68 \n",
        "INFO:src.utils.logger:RelL2_Fx%  : 100.00 \n",
        "INFO:src.utils.logger:RelL2_Fy%  : 100.00 \n",
        "mean velocity: 1.008e+01\n",
        "mean_force: 1.000e+02\n",
        "p_error2: 3.468e+01\n"
      ]
    },
    {
      "cell_type": "code",
      "execution_count": 22,
      "metadata": {},
      "outputs": [
        {
          "name": "stderr",
          "output_type": "stream",
          "text": [
            "INFO:src.utils.logger:on the interface : RelL2_U%  : 66.61 \n",
            "INFO:src.utils.logger:on the interface : RelL2_V%  : 45.89 \n",
            "INFO:src.utils.logger:on the interface : RelL2_P%  : 95.60 \n",
            "INFO:src.utils.logger:on the interface : RelL2_Fx%  : 100.01 \n",
            "INFO:src.utils.logger:on the interface : RelL2_Fy%  : 100.00 \n"
          ]
        },
        {
          "name": "stdout",
          "output_type": "stream",
          "text": [
            "on the interface\n"
          ]
        }
      ],
      "source": [
        "# Forward pass through the fluid model (assuming it's already on the GPU)\n",
        "with torch.no_grad():\n",
        "    mlp_prediction_interface = mlp_model_force.forward(\n",
        "        input_interface, mean_interface[:3], std_interface[:3]\n",
        "    )\n",
        "if mlp_prediction_interface.is_cuda:\n",
        "    mlp_prediction_interface = mlp_prediction_interface.cpu()\n",
        "u_pred_interface = mlp_prediction_interface[:, 0:1].numpy()\n",
        "v_pred_interface = mlp_prediction_interface[:, 1:2].numpy()\n",
        "p_pred_interface = mlp_prediction_interface[:, 2:3].numpy()\n",
        "fx_pred_interface = mlp_prediction_interface[:, 3:4].numpy()\n",
        "fy_pred_interface = mlp_prediction_interface[:, 4:5].numpy()\n",
        "\n",
        "\n",
        "text = \"on the interface : RelL2_\"\n",
        "print(\"on the interface\")\n",
        "\n",
        "# Calculate relative L2 errors\n",
        "\n",
        "u_error_interface = lp_error(u_pred_interface, u_interface, (text + \"U%\"), logger, 2)\n",
        "v_error_interface = lp_error(v_pred_interface, v_interface, (text + \"V%\"), logger, 2)\n",
        "p_pred_error_interface = lp_error(\n",
        "    p_pred_interface, p_interface, (text + \"P%\"), logger, 2\n",
        ")\n",
        "fx_error_interface = lp_error(\n",
        "    fx_pred_interface, fx_interface, (text + \"Fx%\"), logger, 2\n",
        ")\n",
        "fy_error_interface = lp_error(\n",
        "    fy_pred_interface, fy_interface, (text + \"Fy%\"), logger, 2\n",
        ")"
      ]
    },
    {
      "cell_type": "code",
      "execution_count": null,
      "metadata": {},
      "outputs": [],
      "source": []
    },
    {
      "cell_type": "markdown",
      "metadata": {},
      "source": [
        "### Combine the precitions of MLP and BSpline if required"
      ]
    },
    {
      "cell_type": "code",
      "execution_count": 16,
      "metadata": {},
      "outputs": [
        {
          "name": "stderr",
          "output_type": "stream",
          "text": [
            "INFO:src.utils.logger:Fluid RelL2_U%  : 49.12 \n",
            "INFO:src.utils.logger:Fluid RelL2_V%  : 87.61 \n",
            "INFO:src.utils.logger:Fluid RelL2_P%  : 85.84 \n",
            "INFO:src.utils.logger:Fluid RelL2_Fx%  : 87.67 \n",
            "INFO:src.utils.logger:Fluid RelL2_Fy%  : 78.76 \n",
            "INFO:src.utils.logger:Interface : RelL2_U%  : 56.21 \n",
            "INFO:src.utils.logger:Interface : RelL2_V%  : 67.86 \n",
            "INFO:src.utils.logger:Interface : RelL2_P%  : 43.62 \n",
            "INFO:src.utils.logger:Interface : RelL2_Fx%  : 66.58 \n",
            "INFO:src.utils.logger:Interface : RelL2_Fy%  : 70.18 \n"
          ]
        },
        {
          "name": "stdout",
          "output_type": "stream",
          "text": [
            "mean velocity: 6.837e+01\n",
            "mean_force: 8.321e+01\n",
            "p_error2: 8.584e+01\n"
          ]
        }
      ],
      "source": [
        "combine_fluid = True\n",
        "if combine_fluid:\n",
        "    fluid_predictions = (mlp_prediction_fluid + bspline_fluid_predictions) / 2\n",
        "\n",
        "    u_pred_fluid = fluid_predictions[:, 0:1].numpy()\n",
        "    v_pred_fluid = fluid_predictions[:, 1:2].numpy()\n",
        "    p_pred_fluid = fluid_predictions[:, 2:3].numpy()\n",
        "    fx_pred_fluid = fluid_predictions[:, 3:4].numpy()\n",
        "    fy_pred_fluid = fluid_predictions[:, 4:5].numpy()\n",
        "\n",
        "    text = \"Fluid RelL2_\"\n",
        "    # logger.print(\"\\n Relative L2 ERROR:\")\n",
        "    u_error2 = lp_error(u_pred_fluid, u_fluid, (text + \"U%\"), logger, 2)\n",
        "    v_error2 = lp_error(v_pred_fluid, v_fluid, (text + \"V%\"), logger, 2)\n",
        "    p_error2 = lp_error(p_pred_fluid, p_fluid, (text + \"P%\"), logger, 2)\n",
        "    fx_error2 = lp_error(fx_pred_fluid, fx_fluid, (text + \"Fx%\"), logger, 2)\n",
        "    fy_error2 = lp_error(fy_pred_fluid, fy_fluid, (text + \"Fy%\"), logger, 2)\n",
        "\n",
        "    mean_velocity = (u_error2 + v_error2) / 2\n",
        "    print(f\"mean velocity: {mean_velocity:0.3e}\")\n",
        "\n",
        "    mean_force = (fx_error2 + fy_error2) / 2\n",
        "    print(f\"mean_force: {mean_force:0.3e}\")\n",
        "\n",
        "    print(f\"p_error2: {p_error2:0.3e}\")\n",
        "\n",
        "\n",
        "combine_interface = True\n",
        "if combine_fluid:\n",
        "    interface_predictions = (\n",
        "        mlp_prediction_interface + bspline_prediction_interface\n",
        "    ) / 2\n",
        "\n",
        "    u_pred_interface = interface_predictions[:, 0:1].numpy()\n",
        "    v_pred_interface = interface_predictions[:, 1:2].numpy()\n",
        "    p_pred_interface = interface_predictions[:, 2:3].numpy()\n",
        "    fx_pred_interface = interface_predictions[:, 3:4].numpy()\n",
        "    fy_pred_interface = interface_predictions[:, 4:5].numpy()\n",
        "    text = \"Interface : RelL2_\"\n",
        "\n",
        "    # Calculate relative L2 errors\n",
        "\n",
        "    u_error_interface = lp_error(\n",
        "        u_pred_interface, u_interface, (text + \"U%\"), logger, 2\n",
        "    )\n",
        "    v_error_interface = lp_error(\n",
        "        v_pred_interface, v_interface, (text + \"V%\"), logger, 2\n",
        "    )\n",
        "    p_pred_error_interface = lp_error(\n",
        "        p_pred_interface, p_interface, (text + \"P%\"), logger, 2\n",
        "    )\n",
        "    fx_error_interface = lp_error(\n",
        "        fx_pred_interface, fx_interface, (text + \"Fx%\"), logger, 2\n",
        "    )\n",
        "    fy_error_interface = lp_error(\n",
        "        fy_pred_interface, fy_interface, (text + \"Fy%\"), logger, 2\n",
        "    )"
      ]
    },
    {
      "cell_type": "markdown",
      "metadata": {},
      "source": [
        "### Draw the solid and the fluid prediction"
      ]
    },
    {
      "cell_type": "code",
      "execution_count": 35,
      "metadata": {},
      "outputs": [],
      "source": [
        "tstep = 101\n",
        "xstep = 102\n",
        "ystep = 102\n",
        "part = \"Fluid\"\n",
        "N_data = xstep * ystep\n",
        "\n",
        "steps = [tstep, xstep, ystep]\n",
        "txy = [x_fluid, y_fluid, time_fluid]\n",
        "\n",
        "plot_time_profile_regular_data_IBM(\n",
        "    logger.get_output_dir(), steps, txy, u_fluid, u_pred_fluid, \"$u$\"\n",
        ")\n",
        "plot_time_profile_regular_data_IBM(\n",
        "    logger.get_output_dir(), steps, txy, v_fluid, v_pred_fluid, \"$v$\"\n",
        ")\n",
        "plot_time_profile_regular_data_IBM(\n",
        "    logger.get_output_dir(), steps, txy, p_fluid, p_pred_fluid, \"$p$\"\n",
        ")\n",
        "plot_time_profile_regular_data_IBM(\n",
        "    logger.get_output_dir(), steps, txy, fx_fluid, fx_pred_fluid, \"_$Fx$_\"\n",
        ")\n",
        "plot_time_profile_regular_data_IBM(\n",
        "    logger.get_output_dir(), steps, txy, fy_fluid, fy_pred_fluid, \"_$Fy$_\"\n",
        ")\n",
        "\n",
        "\n",
        "tstep = 101\n",
        "xstep = 102\n",
        "ystep = 102\n",
        "\n",
        "#  t = tf.reshape(tstep,N_data)[:,0].T\n",
        "tf100 = time_fluid.reshape(tstep, xstep, ystep)[:, 0, 0]\n",
        "fluid_x = x_fluid.reshape(tstep, xstep, ystep)[0, :, 0]  # .reshape(100,100)[0,:]\n",
        "fluid_y = y_fluid.reshape(tstep, xstep, ystep)[0, 0, :]  # .reshape(100,100)[:,0]\n",
        "\n",
        "u_fluid_cfd_reshape = u_fluid.reshape(tstep, xstep, ystep).transpose((0, 2, 1))\n",
        "v_fluid_cfd_reshape = v_fluid.reshape(tstep, xstep, ystep).transpose((0, 2, 1))\n",
        "p_fluid_cfd_reshape = p_fluid.reshape(tstep, xstep, ystep).transpose((0, 2, 1))\n",
        "fx_fluid_cfd_reshape = fx_fluid.reshape(tstep, xstep, ystep).transpose((0, 2, 1))\n",
        "fy_fluid_cfd_reshape = fy_fluid.reshape(tstep, xstep, ystep).transpose((0, 2, 1))\n",
        "\n",
        "u_fluid_pred_reshape = u_pred_fluid.reshape(tstep, xstep, ystep).transpose((0, 2, 1))\n",
        "v_fluid_pred_reshape = v_pred_fluid.reshape(tstep, xstep, ystep).transpose((0, 2, 1))\n",
        "p_fluid_pred_reshape = p_pred_fluid.reshape(tstep, xstep, ystep).transpose((0, 2, 1))\n",
        "fx_fluid_pred_reshape = fx_pred_fluid.reshape(tstep, xstep, ystep).transpose((0, 2, 1))\n",
        "fy_fluid_pred_reshape = fy_pred_fluid.reshape(tstep, xstep, ystep).transpose((0, 2, 1))\n",
        "\n",
        "u_error_fluid = np.abs(u_fluid_cfd_reshape - u_fluid_pred_reshape)\n",
        "v_error_fluid = np.abs(v_fluid_cfd_reshape - v_fluid_pred_reshape)\n",
        "p_error_fluid = np.abs(p_fluid_cfd_reshape - p_fluid_pred_reshape)\n",
        "fx_error_fluid = np.abs(fx_fluid_cfd_reshape - fx_fluid_pred_reshape)\n",
        "fy_error_fluid = np.abs(fy_fluid_cfd_reshape - fy_fluid_pred_reshape)\n",
        "\n",
        "fluid_data = [\n",
        "    u_fluid_pred_reshape,\n",
        "    v_fluid_pred_reshape,\n",
        "    p_fluid_pred_reshape,\n",
        "    fx_fluid_pred_reshape,\n",
        "    fy_fluid_pred_reshape,\n",
        "    u_fluid_cfd_reshape,\n",
        "    v_fluid_cfd_reshape,\n",
        "    p_fluid_cfd_reshape,\n",
        "    fx_fluid_cfd_reshape,\n",
        "    fy_fluid_cfd_reshape,\n",
        "    u_error_fluid,\n",
        "    v_error_fluid,\n",
        "    p_error_fluid,\n",
        "    fx_error_fluid,\n",
        "    fy_error_fluid,\n",
        "]\n",
        "\n",
        "nrows_ncols = (3, 5)\n",
        "time_values = [99, 90, 70, 50, 20, 0]\n",
        "titles = [\n",
        "    \"u_pinn\",\n",
        "    \"v_pinn\",\n",
        "    \"p_pinn\",\n",
        "    \"fx_pinn\",\n",
        "    \"fy_pinn\",\n",
        "    \"u_cfd\",\n",
        "    \"v_cfd\",\n",
        "    \"p_cfd\",\n",
        "    \"fx_cfd\",\n",
        "    \"fy_cfd\",\n",
        "    \"error_u\",\n",
        "    \"error_v\",\n",
        "    \"error_p\",\n",
        "    \"error_fx\",\n",
        "    \"error_fy\",\n",
        "]\n",
        "\n",
        "draw_contourf_regular_2D(\n",
        "    tf100,\n",
        "    fluid_x,\n",
        "    fluid_y,\n",
        "    fluid_data,\n",
        "    titles,\n",
        "    nrows_ncols,\n",
        "    time_values,\n",
        "    1.0,\n",
        "    1.0,\n",
        "    model_dirname,\n",
        "    15,\n",
        "    12,\n",
        "    5,\n",
        "    fontsize=9.5,\n",
        "    labelsize=9.5,\n",
        "    axes_pad=1.0,\n",
        ")"
      ]
    },
    {
      "cell_type": "markdown",
      "metadata": {},
      "source": [
        "### Draw Interface Data"
      ]
    },
    {
      "cell_type": "code",
      "execution_count": 36,
      "metadata": {},
      "outputs": [],
      "source": [
        "tstep = 101\n",
        "N_data = int(time_interface.shape[0] / tstep)\n",
        "\n",
        "#  t = tf.reshape(tstep,N_data)[:,0].T\n",
        "tf100 = time_interface.reshape(tstep, N_data)[:, 0].T\n",
        "interface_x = x_interface.reshape(tstep, N_data)[0, :]\n",
        "interface_y = y_interface.reshape(tstep, N_data)[0, :]\n",
        "\n",
        "u_interface_reshape = u_interface.reshape(tstep, N_data)\n",
        "v_interface_reshape = v_interface.reshape(tstep, N_data)\n",
        "p_interface_reshape = p_interface.reshape(tstep, N_data)\n",
        "fx_interface_reshape = fx_interface.reshape(tstep, N_data)\n",
        "fy_interface_reshape = fy_interface.reshape(tstep, N_data)\n",
        "\n",
        "\n",
        "u_pred_interface_reshape = u_pred_interface.reshape(tstep, N_data)\n",
        "v_pred_interface_reshape = v_pred_interface.reshape(tstep, N_data)\n",
        "p_pred_interface_reshape = p_pred_interface.reshape(tstep, N_data)\n",
        "fx_pred_interface_reshape = fx_pred_interface.reshape(tstep, N_data)\n",
        "fy_pred_interface_reshape = fy_pred_interface.reshape(tstep, N_data)\n",
        "\n",
        "u_error_interface = np.abs(u_interface_reshape - u_pred_interface_reshape)\n",
        "v_error_interface = np.abs(v_interface_reshape - v_pred_interface_reshape)\n",
        "p_error_interface = np.abs(p_interface_reshape - p_pred_interface_reshape)\n",
        "fx_error_interface = np.abs(fx_interface_reshape - fx_pred_interface_reshape)\n",
        "fy_error_interface = np.abs(fy_interface_reshape - fy_pred_interface_reshape)\n",
        "\n",
        "nrows_ncols = (3, 5)\n",
        "time_values = [0, 50, 99]\n",
        "interface_data = [\n",
        "    u_pred_interface_reshape,\n",
        "    v_pred_interface_reshape,\n",
        "    p_pred_interface_reshape,\n",
        "    fx_pred_interface_reshape,\n",
        "    fy_pred_interface_reshape,\n",
        "    u_interface_reshape,\n",
        "    v_interface_reshape,\n",
        "    p_interface_reshape,\n",
        "    fx_interface_reshape,\n",
        "    fy_interface_reshape,\n",
        "    u_error_interface,\n",
        "    v_error_interface,\n",
        "    p_error_interface,\n",
        "    fx_error_interface,\n",
        "    fy_error_interface,\n",
        "]\n",
        "\n",
        "titles = [\n",
        "    \"u_pinn\",\n",
        "    \"v_pinn\",\n",
        "    \"p_pinn\",\n",
        "    \"fx_pinn\",\n",
        "    \"fy_pinn\",\n",
        "    \"u_cfd\",\n",
        "    \"v_cfd\",\n",
        "    \"p_cfd\",\n",
        "    \"fx_cfd\",\n",
        "    \"fy_cfd\",\n",
        "    \"u_error\",\n",
        "    \"v_error\",\n",
        "    \"p_error\",\n",
        "    \"fx_error\",\n",
        "    \"fy_error\",\n",
        "]\n",
        "\n",
        "fig_size = (25, 25)\n",
        "draw_contourf_irregular_2D(\n",
        "    tf100,\n",
        "    interface_x,\n",
        "    interface_y,\n",
        "    interface_data,\n",
        "    titles,\n",
        "    model_dirname,\n",
        "    nrows_ncols,\n",
        "    time_values,\n",
        "    ticks=5,\n",
        "    fontsize=10.5,\n",
        "    labelsize=7,\n",
        "    axes_pad=1,\n",
        ")"
      ]
    },
    {
      "cell_type": "code",
      "execution_count": null,
      "metadata": {},
      "outputs": [],
      "source": []
    },
    {
      "cell_type": "code",
      "execution_count": null,
      "metadata": {},
      "outputs": [],
      "source": []
    },
    {
      "cell_type": "code",
      "execution_count": null,
      "metadata": {},
      "outputs": [],
      "source": []
    },
    {
      "cell_type": "code",
      "execution_count": null,
      "metadata": {},
      "outputs": [],
      "source": []
    },
    {
      "cell_type": "code",
      "execution_count": null,
      "metadata": {},
      "outputs": [],
      "source": []
    }
  ],
  "metadata": {
    "kernelspec": {
      "display_name": "pytorch_2.3.1_kanpinn",
      "language": "python",
      "name": "python3"
    },
    "language_info": {
      "codemirror_mode": {
        "name": "ipython",
        "version": 3
      },
      "file_extension": ".py",
      "mimetype": "text/x-python",
      "name": "python",
      "nbconvert_exporter": "python",
      "pygments_lexer": "ipython3",
      "version": "3.9.19"
    }
  },
  "nbformat": 4,
  "nbformat_minor": 2
}
