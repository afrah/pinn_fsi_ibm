{
 "cells": [
  {
   "cell_type": "code",
   "execution_count": 1,
   "metadata": {},
   "outputs": [],
   "source": [
    "%load_ext autoreload\n",
    "%autoreload 2\n"
   ]
  },
  {
   "cell_type": "code",
   "execution_count": 2,
   "metadata": {},
   "outputs": [],
   "source": [
    "import sys\n",
    "import os\n",
    "import torch\n",
    "import numpy as np\n",
    "import torch.nn as nn\n",
    "from matplotlib import pyplot as plt"
   ]
  },
  {
   "cell_type": "code",
   "execution_count": 3,
   "metadata": {},
   "outputs": [],
   "source": [
    "import pickle\n",
    "from dotenv import load_dotenv\n",
    "\n",
    "load_dotenv()\n",
    "\n",
    "PROJECT_ROOT = os.path.abspath(os.path.join(os.getcwd(), \"../..\"))\n",
    "\n",
    "PRINT_EVERY = 1000\n",
    "\n",
    "## Start: Importing local packages. As I don't know how to run it as module\n",
    "## with torchrun  (e.g., python -m trainer.Coronary_ddp_trainer)\n",
    "\n",
    "if PROJECT_ROOT not in sys.path:\n",
    "    sys.path.insert(0, PROJECT_ROOT)\n",
    "\n",
    "from src.data.IBM_data_loader import generate_fluid_testing_dataset\n",
    "from src.utils.utils import lp_error\n",
    "from src.utils.logger import Logging\n",
    "\n",
    "device = \"cpu\"  # torch.device(\"cuda\" if torch.cuda.is_available() else \"cpu\")\n",
    "\n",
    "# file_path = \"/home/vlq26735/saiful/afrah/datasets/IBM/IB_PINN3.mat\"\n",
    "\n",
    "# h=  0.498715\n",
    "# k=  0.6851750000000001\n",
    "# rx=  0.209685\n",
    "# ry=  0.21008499999999997"
   ]
  },
  {
   "cell_type": "code",
   "execution_count": 4,
   "metadata": {},
   "outputs": [],
   "source": [
    "import scipy.io\n",
    "\n",
    "DATASET_PATH = \"/home/ubuntu/afrah/code/pinn_fsi_ibm/data/Fluid_trainingData.mat\"\n",
    "\n",
    "Fluid_data = scipy.io.loadmat(DATASET_PATH)\n",
    "\n",
    "# Load data\n",
    "fluid = Fluid_data[\"Fluid_training\"]\n",
    "interface = Fluid_data[\"Solid_interface\"]\n",
    "solid = Fluid_data[\"Solid_points\"]"
   ]
  },
  {
   "cell_type": "code",
   "execution_count": 5,
   "metadata": {},
   "outputs": [
    {
     "data": {
      "text/plain": [
       "array([[0.    , 0.    , 0.    , ..., 0.    , 0.    , 0.    ],\n",
       "       [0.    , 0.    , 0.01  , ..., 0.    , 0.    , 0.    ],\n",
       "       [0.    , 0.    , 0.02  , ..., 0.    , 0.    , 0.    ],\n",
       "       ...,\n",
       "       [1.    , 1.    , 0.98  , ..., 1.5701, 0.    , 0.    ],\n",
       "       [1.    , 1.    , 0.99  , ..., 2.3611, 0.    , 0.    ],\n",
       "       [1.    , 1.    , 1.    , ..., 2.8702, 0.    , 0.    ]])"
      ]
     },
     "execution_count": 5,
     "metadata": {},
     "output_type": "execute_result"
    }
   ],
   "source": [
    "interface"
   ]
  },
  {
   "cell_type": "code",
   "execution_count": 8,
   "metadata": {},
   "outputs": [
    {
     "name": "stdout",
     "output_type": "stream",
     "text": [
      "FluidData: self.txy_fluid.shape=torch.Size([5254, 3]),  self.mean_x=tensor([0.4999, 0.4989, 0.4996], device='cuda:0'), self.std_x=tensor([0.2916, 0.2899, 0.2891], device='cuda:0')\n",
      "SolidData: self.txy_solid_points.shape=torch.Size([5751, 3]),  self.mean_x=tensor([0.5044, 0.4681, 0.6500], device='cuda:0'), self.std_x=tensor([0.2904, 0.1507, 0.1432], device='cuda:0')\n",
      "FluidSolidInterfaceData: self.txy_interface.shape=torch.Size([1272, 3]),  self.mean_x=tensor([0.4999, 0.4714, 0.6549], device='cuda:0'), self.std_x=tensor([0.2915, 0.1800, 0.1731], device='cuda:0')\n"
     ]
    }
   ],
   "source": [
    "from src.data import IBM_data_loader\n",
    "from src.data.IBM_data_loader import IBM_data_loader\n",
    "\n",
    "\n",
    "train_dataloader = IBM_data_loader(DATASET_PATH, \"cuda:0\")"
   ]
  },
  {
   "cell_type": "code",
   "execution_count": null,
   "metadata": {},
   "outputs": [],
   "source": []
  }
 ],
 "metadata": {
  "kernelspec": {
   "display_name": "pytorch-2.3.1-corona-pinn",
   "language": "python",
   "name": "python3"
  },
  "language_info": {
   "codemirror_mode": {
    "name": "ipython",
    "version": 3
   },
   "file_extension": ".py",
   "mimetype": "text/x-python",
   "name": "python",
   "nbconvert_exporter": "python",
   "pygments_lexer": "ipython3",
   "version": "3.9.19"
  }
 },
 "nbformat": 4,
 "nbformat_minor": 2
}
