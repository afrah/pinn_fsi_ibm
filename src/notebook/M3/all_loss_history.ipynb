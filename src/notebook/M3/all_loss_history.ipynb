{
  "cells": [
    {
      "cell_type": "markdown",
      "metadata": {},
      "source": [
        "# Plot Training Loss History of FSI Problem\n",
        "\n",
        "We already saved the training loss history in the saved checkpoints.\n"
      ]
    },
    {
      "cell_type": "code",
      "execution_count": 5,
      "metadata": {},
      "outputs": [
        {
          "name": "stdout",
          "output_type": "stream",
          "text": [
            "The autoreload extension is already loaded. To reload it, use:\n",
            "  %reload_ext autoreload\n"
          ]
        }
      ],
      "source": [
        "%load_ext autoreload\n",
        "%autoreload 2"
      ]
    },
    {
      "cell_type": "code",
      "execution_count": 6,
      "metadata": {},
      "outputs": [],
      "source": [
        "import sys\n",
        "import os\n",
        "import torch\n",
        "import numpy as np\n",
        "from matplotlib import pyplot as plt"
      ]
    },
    {
      "cell_type": "markdown",
      "metadata": {},
      "source": [
        "Import local packages\n"
      ]
    },
    {
      "cell_type": "code",
      "execution_count": 7,
      "metadata": {},
      "outputs": [],
      "source": [
        "PROJECT_ROOT = os.path.abspath(os.path.join(os.getcwd(), \"../../..\"))\n",
        "\n",
        "if PROJECT_ROOT not in sys.path:\n",
        "    sys.path.insert(0, PROJECT_ROOT)\n",
        "\n",
        "from src.utils.logger import Logging\n",
        "from src.utils.plot_loss import plot_loss_history\n",
        "from src.utils.color import model_color"
      ]
    },
    {
      "cell_type": "markdown",
      "metadata": {},
      "source": [
        "Set various constant variables: model path, name, etc. We choose the best performing models from each architecture."
      ]
    },
    {
      "cell_type": "markdown",
      "metadata": {},
      "source": [
        "## Create logger\n"
      ]
    },
    {
      "cell_type": "code",
      "execution_count": 8,
      "metadata": {},
      "outputs": [],
      "source": [
        "TEST_CHECKPOINT_PATH = os.path.join(PROJECT_ROOT, \"result/fsi\")\n",
        "\n",
        "logger = Logging(TEST_CHECKPOINT_PATH)\n",
        "model_dirname = logger.get_output_dir()"
      ]
    },
    {
      "cell_type": "code",
      "execution_count": 9,
      "metadata": {},
      "outputs": [],
      "source": [
        "RBA = \"/home/ubuntu/afrah/code/pinn_fsi_ibm/checkpoints/fsi/2024-10-17_20-04-44-730747/model.pth\"  # \"/home/ubuntu/afrah/code/pinn_fsi_ibm/checkpoints/fsi/2024-10-15_17-36-49-818397/model.pth\"\n",
        "FIXED_WEIGHT = \"/home/ubuntu/afrah/code/pinn_fsi_ibm/checkpoints/fsi/2024-10-17_19-42-31-747885/model.pth\"  # \"/home/ubuntu/afrah/code/pinn_fsi_ibm/checkpoints/fsi/2024-10-15_17-11-45-691256/model.pth\"\n",
        "SA = \"/home/ubuntu/afrah/code/pinn_fsi_ibm/checkpoints/fsi/2024-10-17_19-47-51-266733/model.pth\"  # \"/home/ubuntu/afrah/code/pinn_fsi_ibm/checkpoints/fsi/2024-10-15_17-37-33-081291/model.pth\"\n",
        "Grad_stat = \"/home/ubuntu/afrah/code/pinn_fsi_ibm/checkpoints/fsi/2024-10-17_20-23-54-015832/model.pth\"\n",
        "\n",
        "MODEL_PATH_LIST = {\n",
        "    \"RBA\": RBA,\n",
        "    \"Fixed\": FIXED_WEIGHT,\n",
        "    \"SA\": SA,\n",
        "    \"grad_stat\": Grad_stat,\n",
        "}\n",
        "\n",
        "\n",
        "SOLVER_TO_MODULE = {\n",
        "    \"tanh\": \"src.nn.tanh\",\n",
        "    \"xsig\": \"src.nn.xsigmoid\",\n",
        "}"
      ]
    },
    {
      "cell_type": "markdown",
      "metadata": {},
      "source": []
    },
    {
      "cell_type": "code",
      "execution_count": 48,
      "metadata": {},
      "outputs": [],
      "source": []
    },
    {
      "cell_type": "markdown",
      "metadata": {},
      "source": [
        "## Plot Training Loss History\n",
        "\n",
        "I saved the training loss in a pickle file during training so that I can plot it later as needed.\n"
      ]
    },
    {
      "cell_type": "markdown",
      "metadata": {},
      "source": [
        "### Load Saved Model\n"
      ]
    },
    {
      "cell_type": "code",
      "execution_count": 15,
      "metadata": {},
      "outputs": [
        {
          "name": "stderr",
          "output_type": "stream",
          "text": [
            "INFO:src.utils.logger:loss: left , final loss: 7.70e-03\n",
            "INFO:src.utils.logger:loss: right , final loss: 5.68e-03\n",
            "INFO:src.utils.logger:loss: bottom , final loss: 3.35e-05\n",
            "INFO:src.utils.logger:loss: up , final loss: 1.35e-02\n",
            "INFO:src.utils.logger:loss: fluid_points , final loss: 1.38e-02\n",
            "INFO:src.utils.logger:loss: initial , final loss: 3.05e-02\n",
            "INFO:src.utils.logger:loss: fluid , final loss: 8.13e-04\n",
            "INFO:src.utils.logger:final loss sum: 7.20e-02\n",
            "INFO:src.utils.logger:problem: fsi\n",
            "INFO:src.utils.logger:dataset_path:  , None\n",
            "INFO:src.utils.logger:batch size:  , 128\n",
            "INFO:src.utils.logger:network:  , None\n",
            "INFO:src.utils.logger:term loss weights :  , None\n",
            "INFO:src.utils.logger:weighting:  , RBA\n",
            "INFO:src.utils.logger:solver:  , xsig\n",
            "INFO:src.utils.logger:number of iterations:  , 30001\n",
            "INFO:src.utils.logger:model path:\n",
            "INFO:src.utils.logger:/home/ubuntu/afrah/code/pinn_fsi_ibm/checkpoints/fsi/2024-10-17_20-04-44-730747/model.pth\n"
          ]
        },
        {
          "name": "stderr",
          "output_type": "stream",
          "text": [
            "INFO:src.utils.logger:loss: left , final loss: 3.60e-05\n",
            "INFO:src.utils.logger:loss: right , final loss: 1.97e-05\n",
            "INFO:src.utils.logger:loss: bottom , final loss: 3.45e-06\n",
            "INFO:src.utils.logger:loss: up , final loss: 4.90e-05\n",
            "INFO:src.utils.logger:loss: fluid_points , final loss: 4.07e+00\n",
            "INFO:src.utils.logger:loss: initial , final loss: 1.73e-03\n",
            "INFO:src.utils.logger:loss: fluid , final loss: 6.02e-01\n",
            "INFO:src.utils.logger:final loss sum: 4.67e+00\n",
            "INFO:src.utils.logger:problem: fsi\n",
            "INFO:src.utils.logger:dataset_path:  , None\n",
            "INFO:src.utils.logger:batch size:  , 128\n",
            "INFO:src.utils.logger:network:  , None\n",
            "INFO:src.utils.logger:term loss weights :  , None\n",
            "INFO:src.utils.logger:weighting:  , Fixed\n",
            "INFO:src.utils.logger:solver:  , xsig\n",
            "INFO:src.utils.logger:number of iterations:  , 60001\n",
            "INFO:src.utils.logger:model path:\n",
            "INFO:src.utils.logger:/home/ubuntu/afrah/code/pinn_fsi_ibm/checkpoints/fsi/2024-10-17_19-42-31-747885/model.pth\n",
            "INFO:src.utils.logger:loss: left , final loss: 1.19e-02\n",
            "INFO:src.utils.logger:loss: right , final loss: 6.50e-03\n",
            "INFO:src.utils.logger:loss: bottom , final loss: 1.72e-04\n",
            "INFO:src.utils.logger:loss: up , final loss: 9.23e-03\n",
            "INFO:src.utils.logger:loss: fluid_points , final loss: 1.57e-02\n",
            "INFO:src.utils.logger:loss: initial , final loss: 4.13e-02\n",
            "INFO:src.utils.logger:loss: fluid , final loss: 4.14e-02\n",
            "INFO:src.utils.logger:final loss sum: 1.26e-01\n",
            "INFO:src.utils.logger:problem: fsi\n",
            "INFO:src.utils.logger:dataset_path:  , None\n",
            "INFO:src.utils.logger:batch size:  , 128\n",
            "INFO:src.utils.logger:network:  , None\n",
            "INFO:src.utils.logger:term loss weights :  , None\n",
            "INFO:src.utils.logger:weighting:  , SA\n",
            "INFO:src.utils.logger:solver:  , xsig\n",
            "INFO:src.utils.logger:number of iterations:  , 50001\n",
            "INFO:src.utils.logger:model path:\n",
            "INFO:src.utils.logger:/home/ubuntu/afrah/code/pinn_fsi_ibm/checkpoints/fsi/2024-10-17_19-47-51-266733/model.pth\n",
            "INFO:src.utils.logger:loss: left , final loss: 1.70e-02\n",
            "INFO:src.utils.logger:loss: right , final loss: 7.81e-03\n",
            "INFO:src.utils.logger:loss: bottom , final loss: 3.33e-03\n",
            "INFO:src.utils.logger:loss: up , final loss: 4.23e-01\n",
            "INFO:src.utils.logger:loss: fluid_points , final loss: 4.80e-02\n",
            "INFO:src.utils.logger:loss: initial , final loss: 1.01e-02\n",
            "INFO:src.utils.logger:loss: fluid , final loss: 2.43e+01\n",
            "INFO:src.utils.logger:final loss sum: 2.48e+01\n",
            "INFO:src.utils.logger:problem: fsi\n",
            "INFO:src.utils.logger:dataset_path:  , None\n",
            "INFO:src.utils.logger:batch size:  , 128\n",
            "INFO:src.utils.logger:network:  , None\n",
            "INFO:src.utils.logger:term loss weights :  , None\n",
            "INFO:src.utils.logger:weighting:  , grad_stat\n",
            "INFO:src.utils.logger:solver:  , xsig\n",
            "INFO:src.utils.logger:number of iterations:  , 20001\n",
            "INFO:src.utils.logger:model path:\n",
            "INFO:src.utils.logger:/home/ubuntu/afrah/code/pinn_fsi_ibm/checkpoints/fsi/2024-10-17_20-23-54-015832/model.pth\n"
          ]
        }
      ],
      "source": [
        "all_loss_history = {}\n",
        "\n",
        "for method, model_path in MODEL_PATH_LIST.items():\n",
        "    # Load the state from the saved model\n",
        "    state = torch.load(\n",
        "        model_path,\n",
        "    )\n",
        "    config = state.get(\"config\", {})\n",
        "    solver = config.get(\"solver\")\n",
        "\n",
        "    # Extract model configuration from state\n",
        "    model_activation_name = config.get(\"activation\")\n",
        "    model_architecture = config.get(\"network\")\n",
        "    loss_history = state.get(\"loss_history\")\n",
        "\n",
        "    for lkey, lvalue in loss_history.items():\n",
        "        logger.print(f\"loss: {lkey} , final loss: {lvalue[-1]:.2e}\")\n",
        "\n",
        "    final_loss_sum = sum([l[-1] for l in loss_history.values()])\n",
        "    logger.print(f\"final loss sum: {final_loss_sum:.2e}\")\n",
        "    # Dynamically import the correct module and class\n",
        "\n",
        "    logger.print(f\"problem: {config.get('problem')}\")\n",
        "    logger.print(f\"dataset_path:  , {config.get('dataset_path')}\")\n",
        "    logger.print(f\"batch size:  , {config.get('batch_size')}\")\n",
        "    logger.print(f\"network:  , {config.get('network')}\")\n",
        "    logger.print(f\"term loss weights :  , {config.get('weights')}\")\n",
        "    logger.print(f\"weighting:  , {config.get('weighting')}\")\n",
        "    logger.print(f\"solver:  , {config.get('solver')}\")\n",
        "    logger.print(\n",
        "        f\"number of iterations:  , {len(loss_history[next(iter(loss_history))])}\"\n",
        "    )\n",
        "    logger.print(\"model path:\", model_path)\n",
        "\n",
        "    all_loss_history[method] = loss_history"
      ]
    },
    {
      "cell_type": "markdown",
      "metadata": {},
      "source": [
        "Pre-process the loss data for plotting. See the Helmholtz notebook to understand the data structure.\n"
      ]
    },
    {
      "cell_type": "code",
      "execution_count": 12,
      "metadata": {},
      "outputs": [
        {
          "name": "stdout",
          "output_type": "stream",
          "text": [
            "model='RBA', #iter=20001\n",
            "model='Fixed', #iter=40001\n",
            "model='SA', #iter=40001\n",
            "model='grad_stat', #iter=1\n",
            "Truncated model_summed_loss_dict: dict_keys(['RBA', 'Fixed', 'SA', 'grad_stat'])\n",
            "Truncated model_summed_loss_dict: 1\n"
          ]
        }
      ],
      "source": [
        "keys = all_loss_history.keys()\n",
        "values = all_loss_history.values()\n",
        "\n",
        "# Dictionary to store model and its summed loss\n",
        "model_summed_loss_dict = {}\n",
        "\n",
        "# Calculate summed loss\n",
        "# Iterate over each model, e.g., tanh and sum their losses, e.g, lbcs, phy, ...\n",
        "for model, loss_dict in zip(keys, values):\n",
        "    total_loss = np.zeros(\n",
        "        len(\n",
        "            next(iter(loss_dict.values()))\n",
        "        )  # Assume each loss history is of equal length\n",
        "    )  # Initialize total_loss with zeros\n",
        "\n",
        "    print(f\"{model=}, #iter={len(total_loss)}\")\n",
        "\n",
        "    # Sum all losses across keys for each model\n",
        "    # Exclude the physics loss for Helmholtz\n",
        "    for key in loss_dict:\n",
        "        if key not in [\"fluid\"]:\n",
        "            total_loss += np.array(loss_dict[key])\n",
        "\n",
        "    model_summed_loss_dict[model] = total_loss\n",
        "\n",
        "# Determine the minimum length across all summed losses\n",
        "min_length = min([len(x) for x in model_summed_loss_dict.values()])\n",
        "# Truncate the lists in model_summed_loss_dict to the minimum length\n",
        "for key in model_summed_loss_dict:\n",
        "    model_summed_loss_dict[key] = model_summed_loss_dict[key][0:min_length]\n",
        "\n",
        "print(\"Truncated model_summed_loss_dict:\", model_summed_loss_dict.keys())\n",
        "print(\"Truncated model_summed_loss_dict:\", len(model_summed_loss_dict.get(\"Fixed\")))"
      ]
    },
    {
      "cell_type": "markdown",
      "metadata": {},
      "source": [
        "### Plot Loss History"
      ]
    },
    {
      "cell_type": "code",
      "execution_count": 13,
      "metadata": {},
      "outputs": [
        {
          "ename": "ValueError",
          "evalue": "polyorder must be less than window_length.",
          "output_type": "error",
          "traceback": [
            "\u001b[0;31m---------------------------------------------------------------------------\u001b[0m",
            "\u001b[0;31mValueError\u001b[0m                                Traceback (most recent call last)",
            "Cell \u001b[0;32mIn[13], line 68\u001b[0m\n\u001b[1;32m      1\u001b[0m data_list \u001b[38;5;241m=\u001b[39m [\n\u001b[1;32m      2\u001b[0m     {\n\u001b[1;32m      3\u001b[0m         \u001b[38;5;124m\"\u001b[39m\u001b[38;5;124mdata\u001b[39m\u001b[38;5;124m\"\u001b[39m: model_summed_loss_dict[\u001b[38;5;124m\"\u001b[39m\u001b[38;5;124mFixed\u001b[39m\u001b[38;5;124m\"\u001b[39m],\n\u001b[0;32m   (...)\u001b[0m\n\u001b[1;32m     64\u001b[0m     \u001b[38;5;66;03m# },\u001b[39;00m\n\u001b[1;32m     65\u001b[0m ]\n\u001b[0;32m---> 68\u001b[0m \u001b[43mplot_loss_history\u001b[49m\u001b[43m(\u001b[49m\n\u001b[1;32m     69\u001b[0m \u001b[43m    \u001b[49m\u001b[43mdata_list\u001b[49m\u001b[43m,\u001b[49m\n\u001b[1;32m     70\u001b[0m \u001b[43m    \u001b[49m\u001b[43mos\u001b[49m\u001b[38;5;241;43m.\u001b[39;49m\u001b[43mpath\u001b[49m\u001b[38;5;241;43m.\u001b[39;49m\u001b[43mjoin\u001b[49m\u001b[43m(\u001b[49m\u001b[43mlogger\u001b[49m\u001b[38;5;241;43m.\u001b[39;49m\u001b[43mget_output_dir\u001b[49m\u001b[43m(\u001b[49m\u001b[43m)\u001b[49m\u001b[43m,\u001b[49m\u001b[43m \u001b[49m\u001b[38;5;124;43m\"\u001b[39;49m\u001b[38;5;124;43mloss_history_cavity.png\u001b[39;49m\u001b[38;5;124;43m\"\u001b[39;49m\u001b[43m)\u001b[49m\u001b[43m,\u001b[49m\n\u001b[1;32m     71\u001b[0m \u001b[43m    \u001b[49m\u001b[43my_max\u001b[49m\u001b[38;5;241;43m=\u001b[39;49m\u001b[38;5;241;43m25\u001b[39;49m\u001b[43m,\u001b[49m\n\u001b[1;32m     72\u001b[0m \u001b[43m)\u001b[49m\n",
            "File \u001b[0;32m~/afrah/code/pinn_fsi_ibm/src/utils/plot_loss.py:73\u001b[0m, in \u001b[0;36mplot_loss_history\u001b[0;34m(data_list, save_path, y_max)\u001b[0m\n\u001b[1;32m     71\u001b[0m smooth_alpha \u001b[38;5;241m=\u001b[39m \u001b[38;5;241m0.1\u001b[39m\n\u001b[1;32m     72\u001b[0m polyorder \u001b[38;5;241m=\u001b[39m \u001b[38;5;241m1\u001b[39m\n\u001b[0;32m---> 73\u001b[0m smoothed_data \u001b[38;5;241m=\u001b[39m \u001b[43msmooth_loss\u001b[49m\u001b[43m(\u001b[49m\u001b[43mdata\u001b[49m\u001b[43m,\u001b[49m\u001b[43m \u001b[49m\u001b[43msmooth_alpha\u001b[49m\u001b[43m,\u001b[49m\u001b[43m \u001b[49m\u001b[43mwindow\u001b[49m\u001b[43m,\u001b[49m\u001b[43m \u001b[49m\u001b[43mpolyorder\u001b[49m\u001b[43m)\u001b[49m\n\u001b[1;32m     75\u001b[0m \u001b[38;5;66;03m# Plot the original data\u001b[39;00m\n\u001b[1;32m     76\u001b[0m sns\u001b[38;5;241m.\u001b[39mlineplot(\n\u001b[1;32m     77\u001b[0m     x\u001b[38;5;241m=\u001b[39mnp\u001b[38;5;241m.\u001b[39marange(\u001b[38;5;28mlen\u001b[39m(data)),\n\u001b[1;32m     78\u001b[0m     y\u001b[38;5;241m=\u001b[39msmoothed_data,\n\u001b[0;32m   (...)\u001b[0m\n\u001b[1;32m     83\u001b[0m     alpha\u001b[38;5;241m=\u001b[39malpha,\n\u001b[1;32m     84\u001b[0m )\n",
            "File \u001b[0;32m~/afrah/code/pinn_fsi_ibm/src/utils/plot_loss.py:22\u001b[0m, in \u001b[0;36msmooth_loss\u001b[0;34m(data, alpha, window_length, polyorder)\u001b[0m\n\u001b[1;32m     20\u001b[0m \u001b[38;5;28;01mif\u001b[39;00m \u001b[38;5;28mlen\u001b[39m(ema_data) \u001b[38;5;241m<\u001b[39m window_length:  \u001b[38;5;66;03m# Avoid issues with short data\u001b[39;00m\n\u001b[1;32m     21\u001b[0m     window_length \u001b[38;5;241m=\u001b[39m \u001b[38;5;28mlen\u001b[39m(ema_data) \u001b[38;5;241m-\u001b[39m \u001b[38;5;241m1\u001b[39m \u001b[38;5;28;01mif\u001b[39;00m \u001b[38;5;28mlen\u001b[39m(ema_data) \u001b[38;5;241m%\u001b[39m \u001b[38;5;241m2\u001b[39m \u001b[38;5;241m==\u001b[39m \u001b[38;5;241m0\u001b[39m \u001b[38;5;28;01melse\u001b[39;00m \u001b[38;5;28mlen\u001b[39m(ema_data)\n\u001b[0;32m---> 22\u001b[0m smoothed_data \u001b[38;5;241m=\u001b[39m \u001b[43msavgol_filter\u001b[49m\u001b[43m(\u001b[49m\n\u001b[1;32m     23\u001b[0m \u001b[43m    \u001b[49m\u001b[43mema_data\u001b[49m\u001b[43m,\u001b[49m\u001b[43m \u001b[49m\u001b[43mwindow_length\u001b[49m\u001b[38;5;241;43m=\u001b[39;49m\u001b[43mwindow_length\u001b[49m\u001b[43m,\u001b[49m\u001b[43m \u001b[49m\u001b[43mpolyorder\u001b[49m\u001b[38;5;241;43m=\u001b[39;49m\u001b[43mpolyorder\u001b[49m\n\u001b[1;32m     24\u001b[0m \u001b[43m\u001b[49m\u001b[43m)\u001b[49m\n\u001b[1;32m     25\u001b[0m \u001b[38;5;28;01mreturn\u001b[39;00m smoothed_data\n",
            "File \u001b[0;32m~/miniconda3/envs/pytorch-2.3.1-corona-pinn/lib/python3.9/site-packages/scipy/signal/_savitzky_golay.py:341\u001b[0m, in \u001b[0;36msavgol_filter\u001b[0;34m(x, window_length, polyorder, deriv, delta, axis, mode, cval)\u001b[0m\n\u001b[1;32m    338\u001b[0m \u001b[38;5;28;01mif\u001b[39;00m x\u001b[38;5;241m.\u001b[39mdtype \u001b[38;5;241m!=\u001b[39m np\u001b[38;5;241m.\u001b[39mfloat64 \u001b[38;5;129;01mand\u001b[39;00m x\u001b[38;5;241m.\u001b[39mdtype \u001b[38;5;241m!=\u001b[39m np\u001b[38;5;241m.\u001b[39mfloat32:\n\u001b[1;32m    339\u001b[0m     x \u001b[38;5;241m=\u001b[39m x\u001b[38;5;241m.\u001b[39mastype(np\u001b[38;5;241m.\u001b[39mfloat64)\n\u001b[0;32m--> 341\u001b[0m coeffs \u001b[38;5;241m=\u001b[39m \u001b[43msavgol_coeffs\u001b[49m\u001b[43m(\u001b[49m\u001b[43mwindow_length\u001b[49m\u001b[43m,\u001b[49m\u001b[43m \u001b[49m\u001b[43mpolyorder\u001b[49m\u001b[43m,\u001b[49m\u001b[43m \u001b[49m\u001b[43mderiv\u001b[49m\u001b[38;5;241;43m=\u001b[39;49m\u001b[43mderiv\u001b[49m\u001b[43m,\u001b[49m\u001b[43m \u001b[49m\u001b[43mdelta\u001b[49m\u001b[38;5;241;43m=\u001b[39;49m\u001b[43mdelta\u001b[49m\u001b[43m)\u001b[49m\n\u001b[1;32m    343\u001b[0m \u001b[38;5;28;01mif\u001b[39;00m mode \u001b[38;5;241m==\u001b[39m \u001b[38;5;124m\"\u001b[39m\u001b[38;5;124minterp\u001b[39m\u001b[38;5;124m\"\u001b[39m:\n\u001b[1;32m    344\u001b[0m     \u001b[38;5;28;01mif\u001b[39;00m window_length \u001b[38;5;241m>\u001b[39m x\u001b[38;5;241m.\u001b[39mshape[axis]:\n",
            "File \u001b[0;32m~/miniconda3/envs/pytorch-2.3.1-corona-pinn/lib/python3.9/site-packages/scipy/signal/_savitzky_golay.py:101\u001b[0m, in \u001b[0;36msavgol_coeffs\u001b[0;34m(window_length, polyorder, deriv, delta, pos, use)\u001b[0m\n\u001b[1;32m     88\u001b[0m \u001b[38;5;66;03m# An alternative method for finding the coefficients when deriv=0 is\u001b[39;00m\n\u001b[1;32m     89\u001b[0m \u001b[38;5;66;03m#    t = np.arange(window_length)\u001b[39;00m\n\u001b[1;32m     90\u001b[0m \u001b[38;5;66;03m#    unit = (t == pos).astype(int)\u001b[39;00m\n\u001b[0;32m   (...)\u001b[0m\n\u001b[1;32m     97\u001b[0m \u001b[38;5;66;03m#    pos = nL + 1\u001b[39;00m\n\u001b[1;32m     98\u001b[0m \u001b[38;5;66;03m#    c = savgol_coeffs(window_length, M, pos=pos, use='dot')\u001b[39;00m\n\u001b[1;32m    100\u001b[0m \u001b[38;5;28;01mif\u001b[39;00m polyorder \u001b[38;5;241m>\u001b[39m\u001b[38;5;241m=\u001b[39m window_length:\n\u001b[0;32m--> 101\u001b[0m     \u001b[38;5;28;01mraise\u001b[39;00m \u001b[38;5;167;01mValueError\u001b[39;00m(\u001b[38;5;124m\"\u001b[39m\u001b[38;5;124mpolyorder must be less than window_length.\u001b[39m\u001b[38;5;124m\"\u001b[39m)\n\u001b[1;32m    103\u001b[0m halflen, rem \u001b[38;5;241m=\u001b[39m \u001b[38;5;28mdivmod\u001b[39m(window_length, \u001b[38;5;241m2\u001b[39m)\n\u001b[1;32m    105\u001b[0m \u001b[38;5;28;01mif\u001b[39;00m pos \u001b[38;5;129;01mis\u001b[39;00m \u001b[38;5;28;01mNone\u001b[39;00m:\n",
            "\u001b[0;31mValueError\u001b[0m: polyorder must be less than window_length."
          ]
        },
        {
          "data": {
            "image/png": "[encoded data removed]",
            "text/plain": [
              "<Figure size 1500x600 with 1 Axes>"
            ]
          },
          "metadata": {},
          "output_type": "display_data"
        }
      ],
      "source": [
        "data_list = [\n",
        "    {\n",
        "        \"data\": model_summed_loss_dict[\"Fixed\"],\n",
        "        \"color\": model_color[\"tanh\"],\n",
        "        \"name\": \"Fixed\",\n",
        "        \"alpha\": 0.9,\n",
        "        \"window\": 100,\n",
        "        \"show_avg\": False,\n",
        "        \"show_lower\": False,\n",
        "    },\n",
        "    {\n",
        "        \"data\": model_summed_loss_dict[\"RBA\"],\n",
        "        \"color\": model_color[\"bspline\"],\n",
        "        \"name\": \"RBA\",\n",
        "        \"alpha\": 0.9,\n",
        "        \"window\": 100,\n",
        "        \"show_avg\": False,\n",
        "        \"show_lower\": False,\n",
        "    },\n",
        "    {\n",
        "        \"data\": model_summed_loss_dict[\"SA\"],\n",
        "        \"color\": model_color[\"param_tanh\"],\n",
        "        \"name\": \"SA\",\n",
        "        \"alpha\": 0.9,\n",
        "        \"window\": 100,\n",
        "        \"show_avg\": False,\n",
        "        \"show_lower\": False,\n",
        "    },\n",
        "    {\n",
        "        \"data\": model_summed_loss_dict[\"grad_stat\"],\n",
        "        \"color\": model_color[\"grbf\"],\n",
        "        \"name\": \"Grad_stat\",\n",
        "        \"alpha\": 0.9,\n",
        "        \"window\": 100,\n",
        "        \"show_avg\": False,\n",
        "        \"show_lower\": False,\n",
        "    },\n",
        "    # {\n",
        "    #     \"data\": model_summed_loss_dict[\"fourier\"],\n",
        "    #     \"color\": model_color[\"fourier\"],\n",
        "    #     \"name\": \"Fourier(A1)\",\n",
        "    #     \"alpha\": 0.1,\n",
        "    #     \"window\": 100,\n",
        "    #     \"show_avg\": False,\n",
        "    #     \"show_lower\": False,\n",
        "    # },\n",
        "    # {\n",
        "    #     \"data\": model_summed_loss_dict[\"chebyshev\"],\n",
        "    #     \"color\": model_color[\"chebyshev\"],\n",
        "    #     \"name\": \"Chebyshev(A2)\",\n",
        "    #     \"alpha\": 0.1,\n",
        "    #     \"window\": 100,\n",
        "    #     \"show_avg\": False,\n",
        "    #     \"show_lower\": False,\n",
        "    # },\n",
        "    # {\n",
        "    #     \"data\": model_summed_loss_dict[\"jacobi\"],\n",
        "    #     \"color\": model_color[\"jacobi\"],\n",
        "    #     \"name\": \"Jacobi(A1)\",\n",
        "    #     \"alpha\": 0.1,\n",
        "    #     \"window\": 100,\n",
        "    #     \"show_avg\": False,\n",
        "    #     \"show_lower\": False,\n",
        "    # },\n",
        "]\n",
        "\n",
        "\n",
        "plot_loss_history(\n",
        "    data_list,\n",
        "    os.path.join(logger.get_output_dir(), \"loss_history_cavity.png\"),\n",
        "    y_max=25,\n",
        ")"
      ]
    },
    {
      "cell_type": "code",
      "execution_count": null,
      "metadata": {},
      "outputs": [],
      "source": []
    }
  ],
  "metadata": {
    "kernelspec": {
      "display_name": "pytorch-2.3.1-corona-pinn",
      "language": "python",
      "name": "python3"
    },
    "language_info": {
      "codemirror_mode": {
        "name": "ipython",
        "version": 3
      },
      "file_extension": ".py",
      "mimetype": "text/x-python",
      "name": "python",
      "nbconvert_exporter": "python",
      "pygments_lexer": "ipython3",
      "version": "3.9.19"
    }
  },
  "nbformat": 4,
  "nbformat_minor": 2
}
