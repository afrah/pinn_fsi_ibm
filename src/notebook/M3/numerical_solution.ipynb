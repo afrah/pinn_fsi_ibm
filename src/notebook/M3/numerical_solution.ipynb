{
 "cells": [
  {
   "cell_type": "code",
   "execution_count": 1,
   "metadata": {},
   "outputs": [],
   "source": [
    "%load_ext autoreload\n",
    "%autoreload 2\n"
   ]
  },
  {
   "cell_type": "code",
   "execution_count": 2,
   "metadata": {},
   "outputs": [],
   "source": [
    "import sys\n",
    "import os\n",
    "import torch\n",
    "import numpy as np\n",
    "import torch.nn as nn\n",
    "import scipy.io"
   ]
  },
  {
   "cell_type": "code",
   "execution_count": 3,
   "metadata": {},
   "outputs": [],
   "source": [
    "import pickle\n",
    "from dotenv import load_dotenv\n",
    "\n",
    "load_dotenv()\n",
    "\n",
    "PROJECT_ROOT = os.path.abspath(os.path.join(os.getcwd(), \"../../..\"))\n",
    "\n",
    "PRINT_EVERY = 1000\n",
    "\n",
    "## Start: Importing local packages. As I don't know how to run it as module\n",
    "## with torchrun  (e.g., python -m trainer.Coronary_ddp_trainer)\n",
    "\n",
    "if PROJECT_ROOT not in sys.path:\n",
    "    sys.path.insert(0, PROJECT_ROOT)\n",
    "\n",
    "from src.utils.utils import lp_error\n",
    "from src.data import IBM_data_loader\n",
    "from src.data.IBM_data_loader import IBM_data_loader\n",
    "\n",
    "device = \"cpu\"  # torch.device(\"cuda\" if torch.cuda.is_available() else \"cpu\")\n",
    "\n",
    "# file_path = \"/home/vlq26735/saiful/afrah/datasets/IBM/IB_PINN3.mat\"\n",
    "\n",
    "# h=  0.498715\n",
    "# k=  0.6851750000000001\n",
    "# rx=  0.209685\n",
    "# ry=  0.21008499999999997"
   ]
  },
  {
   "cell_type": "code",
   "execution_count": 4,
   "metadata": {},
   "outputs": [],
   "source": [
    "DATASET_PATH = \"../../../data/Fluid_trainingData.mat\"\n",
    "\n",
    "Fluid_data = scipy.io.loadmat(DATASET_PATH)\n",
    "\n",
    "# Load data\n",
    "fluid = Fluid_data[\"Fluid_training\"]\n",
    "interface = Fluid_data[\"Solid_interface\"]\n",
    "solid = Fluid_data[\"Solid_points\"]"
   ]
  },
  {
   "cell_type": "code",
   "execution_count": 5,
   "metadata": {},
   "outputs": [
    {
     "name": "stdout",
     "output_type": "stream",
     "text": [
      "FluidData: self.txy_fluid.shape=torch.Size([1050804, 3]),  self.mean_x=tensor([ 5.0000e-01,  5.0000e-01,  4.9998e-01,  4.4984e-03,  1.5413e-04,\n",
      "         3.8639e-03, -8.2371e-04, -4.6937e-04], device='cuda:0'), self.std_x=tensor([0.2915, 0.2901, 0.2901, 0.1987, 0.1269, 0.1122, 1.2655, 1.2822],\n",
      "       device='cuda:0')\n",
      "SolidData: self.txy_solid_points.shape=torch.Size([143780, 3]),  self.mean_x=tensor([ 0.5044,  0.4678,  0.6521, -0.0124,  0.0204, -0.0232,  0.0282,  0.0481],\n",
      "       device='cuda:0'), self.std_x=tensor([0.2904, 0.1506, 0.1444, 0.1219, 0.1065, 0.0854, 2.8319, 3.0344],\n",
      "       device='cuda:0')\n",
      "FluidSolidInterfaceData: self.txy_interface.shape=torch.Size([25452, 3]),  self.mean_x=tensor([ 5.0001e-01,  4.6873e-01,  6.5305e-01, -1.0230e-02,  1.8494e-02,\n",
      "        -6.9603e-03, -7.7546e+01,  5.0739e+01], device='cuda:0'), self.std_x=tensor([2.9155e-01, 1.7971e-01, 1.7300e-01, 1.4451e-01, 1.3330e-01, 1.8181e-01,\n",
      "        9.7830e+02, 7.2563e+02], device='cuda:0')\n"
     ]
    }
   ],
   "source": [
    "train_dataloader = IBM_data_loader(DATASET_PATH, \"cuda:0\")\n",
    "\n",
    "\n",
    "tstep = 101\n",
    "xstep = 102\n",
    "ystep = 102"
   ]
  },
  {
   "cell_type": "code",
   "execution_count": 54,
   "metadata": {},
   "outputs": [],
   "source": []
  },
  {
   "cell_type": "code",
   "execution_count": 7,
   "metadata": {},
   "outputs": [],
   "source": [
    "# Initialize fluid velocity (u, v) and pressure (p)\n",
    "txy_fluid = train_dataloader.fluid_data.txy_fluid_points[:, 0:3].cpu().numpy()\n",
    "\n",
    "u_fluid = train_dataloader.fluid_data.uvp_fluid_points[:, 0].cpu().numpy()\n",
    "v_fluid = train_dataloader.fluid_data.uvp_fluid_points[:, 1].cpu().numpy()\n",
    "p_fluid = train_dataloader.fluid_data.uvp_fluid_points[:, 2].cpu().numpy()\n",
    "fx_fluid = train_dataloader.fluid_data.uvp_fluid_points[:, 3].cpu().numpy()\n",
    "fy_fluid = train_dataloader.fluid_data.uvp_fluid_points[:, 4].cpu().numpy()\n",
    "\n",
    "txy_interface = train_dataloader.interface_data.txy_interface[:, 0:3].cpu().numpy()\n",
    "\n",
    "u_interface = train_dataloader.interface_data.uvp_interface[:, 0].cpu().numpy()\n",
    "v_interface = train_dataloader.interface_data.uvp_interface[:, 1].cpu().numpy()\n",
    "p_interface = train_dataloader.interface_data.uvp_interface[:, 2].cpu().numpy()\n",
    "fx_interface = train_dataloader.interface_data.uvp_interface[:, 3].cpu().numpy()\n",
    "fy_interface = train_dataloader.interface_data.uvp_interface[:, 4].cpu().numpy()\n",
    "\n",
    "# # Select indices where t_fluid = t_interface, x_fluid = x_interface, and y_fluid = y_interface\n",
    "# indices = np.where(\n",
    "#     (t_fluid[:, None] == t_interface)\n",
    "#     & (x_fluid[:, None] == x_interface)\n",
    "#     & (y_fluid[:, None] == y_interface)\n",
    "# )"
   ]
  },
  {
   "cell_type": "code",
   "execution_count": null,
   "metadata": {},
   "outputs": [],
   "source": []
  },
  {
   "cell_type": "code",
   "execution_count": 8,
   "metadata": {},
   "outputs": [],
   "source": [
    "def delta_function_2D(x_eulerian, X_lagrangian, epsilon=0.1):\n",
    "\n",
    "    # Compute differences in x and y directions\n",
    "    diff_x = x_eulerian[0] - X_lagrangian[0]\n",
    "    diff_y = x_eulerian[1] - X_lagrangian[1]\n",
    "\n",
    "    # Apply Gaussian kernel separately in x and y directions\n",
    "    delta_x = (np.exp(-(diff_x**2 + diff_y**2) / (2 * epsilon**2))) / (\n",
    "        epsilon**2 * (2.0 * np.pi)\n",
    "    )\n",
    "\n",
    "    # Multiply the 1D Gaussians to form the 2D delta function\n",
    "    delta_value = delta_x  # * delta_y\n",
    "\n",
    "    return delta_value\n",
    "\n",
    "\n",
    "def spread_lagrangian_force_to_eulerian(\n",
    "    lagranian_point, X_eulerian, Fx_lagrangian, Fy_lagrangian, epsilon=0.1\n",
    "):\n",
    "\n",
    "    f_x_eulerian = 0.0\n",
    "    f_y_eulerian = 0.0\n",
    "    for index in range(len(X_eulerian)):\n",
    "        eulerian_point = X_eulerian[index]\n",
    "        F_x_lag = Fx_lagrangian[index]\n",
    "        F_y_lag = Fy_lagrangian[index]\n",
    "\n",
    "        delta_value = delta_function_2D(eulerian_point, lagranian_point, epsilon)\n",
    "\n",
    "        # Spread the Lagrangian force to the Eulerian grid point\n",
    "        f_x_eulerian += delta_value * F_x_lag\n",
    "        f_y_eulerian += delta_value * F_y_lag\n",
    "\n",
    "    return f_x_eulerian, f_y_eulerian"
   ]
  },
  {
   "cell_type": "code",
   "execution_count": 22,
   "metadata": {},
   "outputs": [],
   "source": [
    "# Bilinear interpolation to spread Lagrangian forces to Eulerian grid\n",
    "def bilinear_interpolate_force_to_eulerian(\n",
    "    X_lagrangian,\n",
    "    F_x_lagrangian,\n",
    "    F_y_lagrangian,\n",
    "    size,\n",
    "    dx,\n",
    "    dy,\n",
    "):\n",
    "    \"\"\"\n",
    "    Interpolates Lagrangian forces to the Eulerian grid using bilinear interpolation.\n",
    "\n",
    "    Args:\n",
    "        X_lagrangian, Y_lagrangian (numpy.ndarray): Lagrangian point positions (x, y).\n",
    "        F_x_lagrangian, F_y_lagrangian (numpy.ndarray): Lagrangian force components (x, y).\n",
    "        f_x_eulerian, f_y_eulerian (numpy.ndarray): Eulerian force field to be updated (x, y).\n",
    "        dx, dy (float): Eulerian grid spacing.\n",
    "\n",
    "    Returns:\n",
    "        Updated Eulerian force field f_x_eulerian, f_y_eulerian.\n",
    "    \"\"\"\n",
    "    nx, ny = size * 2, size * 2\n",
    "    f_x_eulerian = np.zeros((size, size))  # Eulerian x-forces\n",
    "    f_y_eulerian = np.zeros((size, size))  # Eulerian y-forces\n",
    "\n",
    "    for index in range(len(X_lagrangian)):\n",
    "\n",
    "        # for lag_idx, (x_lag, y_lag, F_x_lag, F_y_lag) in enumerate(\n",
    "        #     zip(X_lagrangian, Y_lagrangian, F_x_lagrangian, F_y_lagrangian)\n",
    "        # ):\n",
    "        # Find the lower-left Eulerian grid point surrounding the Lagrangian point\n",
    "        x_lag = X_lagrangian[index, 0]\n",
    "        y_lag = X_lagrangian[index, 1]\n",
    "        F_x_lag = F_x_lagrangian[index]\n",
    "        F_y_lag = F_y_lagrangian[index]\n",
    "\n",
    "        i = int(x_lag // dx)\n",
    "        j = int(y_lag // dy)\n",
    "\n",
    "        # Ensure the Lagrangian point is within the Eulerian grid bounds\n",
    "        if i < 0 or i >= nx - 1 or j < 0 or j >= ny - 1:\n",
    "            continue\n",
    "\n",
    "        # Calculate fractional distances in the x and y directions\n",
    "        alpha_x = (x_lag - i * dx) / dx\n",
    "        alpha_y = (y_lag - j * dy) / dy\n",
    "\n",
    "        # Compute the interpolation weights for the surrounding four Eulerian grid points\n",
    "        w_ij = (1 - alpha_x) * (1 - alpha_y)\n",
    "        w_i1j = alpha_x * (1 - alpha_y)\n",
    "        w_ij1 = (1 - alpha_x) * alpha_y\n",
    "        w_i1j1 = alpha_x * alpha_y\n",
    "\n",
    "        # Spread the Lagrangian force to the four nearest Eulerian grid points\n",
    "        f_x_eulerian[i, j] += w_ij * F_x_lag\n",
    "        f_x_eulerian[i + 1, j] += w_i1j * F_x_lag\n",
    "        f_x_eulerian[i, j + 1] += w_ij1 * F_x_lag\n",
    "        f_x_eulerian[i + 1, j + 1] += w_i1j1 * F_x_lag\n",
    "\n",
    "        f_y_eulerian[i, j] += w_ij * F_y_lag\n",
    "        f_y_eulerian[i + 1, j] += w_i1j * F_y_lag\n",
    "        f_y_eulerian[i, j + 1] += w_ij1 * F_y_lag\n",
    "        f_y_eulerian[i + 1, j + 1] += w_i1j1 * F_y_lag\n",
    "\n",
    "    return f_x_eulerian, f_y_eulerian"
   ]
  },
  {
   "cell_type": "code",
   "execution_count": 34,
   "metadata": {},
   "outputs": [],
   "source": [
    "# Initialize the Eulerian grid and Lagrangian points\n",
    "nx, ny = 102, 102  # Grid resolution\n",
    "dx, dy = 1.0 / nx, 1.0 / ny  # Grid spacing\n",
    "\n",
    "time_step = 1\n",
    "# Initialize velocity and force fields\n",
    "u_eulerian = (\n",
    "    u_fluid.reshape(tstep, xstep, ystep).transpose((0, 2, 1))[time_step, :, :].flatten()\n",
    ")  # Eulerian u velocity\n",
    "v_eulerian = (\n",
    "    v_fluid.reshape(tstep, xstep, ystep).transpose((0, 2, 1))[time_step, :, :].flatten()\n",
    ")  # Eulerian v velocity\n",
    "Fx_lagrangian = (\n",
    "    fx_fluid.reshape(tstep, xstep, ystep)\n",
    "    .transpose((0, 2, 1))[time_step, :, :]\n",
    "    .flatten()\n",
    ")  # Eulerian x-force\n",
    "Fy_lagrangian = (\n",
    "    fy_fluid.reshape(tstep, xstep, ystep)\n",
    "    .transpose((0, 2, 1))[time_step, :, :]\n",
    "    .flatten()\n",
    ")  # Eulerian y-force\n",
    "\n",
    "time_fluid = txy_fluid[:, 0].reshape(tstep, -1)[time_step, :]\n",
    "x_fluid = txy_fluid[:, 1].reshape(tstep, -1)[time_step, :]\n",
    "y_fluid = txy_fluid[:, 2].reshape(tstep, -1)[time_step, :]\n",
    "\n",
    "time_interface = txy_interface[:, 0].reshape(tstep, -1)[time_step, :]\n",
    "x_interface = txy_interface[:, 1].reshape(tstep, -1)[time_step, :]\n",
    "y_interface = txy_interface[:, 2].reshape(tstep, -1)[time_step, :]\n",
    "\n",
    "X_eulerian = np.concatenate(\n",
    "    [x_fluid.reshape(-1, 1), y_fluid.reshape(-1, 1)], axis=1\n",
    ")  # Eulerian grid points\n",
    "\n",
    "X_lagrangian = np.concatenate(\n",
    "    [x_interface.reshape(-1, 1), y_interface.reshape(-1, 1)], axis=1\n",
    ")  # Lagrangian points\n",
    "\n",
    "real_fx_eulerian = fx_interface.reshape(tstep, -1)[time_step, :]  # Lagrangian x-forces\n",
    "real_fy_eulerian = fy_interface.reshape(tstep, -1)[time_step, :]  # Lagrangian y-forces\n",
    "\n",
    "fx_eulerian = real_fx_eulerian.shape[0]  # Force in x direction\n",
    "fy_eulerian = real_fx_eulerian.shape[0]  # Force in y direction\n",
    "\n",
    "size = real_fx_eulerian.shape[0] // 2\n",
    "f_x_eulerian = np.zeros((size, size))  # Eulerian x-forces\n",
    "f_y_eulerian = np.zeros((size, size))  # Eulerian y-forces\n",
    "\n",
    "# # # Spread Lagrangian forces to Eulerian grid\n",
    "# for index in range((X_lagrangian.shape[0])):\n",
    "#     lagranian_point = X_lagrangian[index, :]\n",
    "f_x_eulerian, f_y_eulerian = bilinear_interpolate_force_to_eulerian(\n",
    "    X_lagrangian, Fx_lagrangian, Fy_lagrangian, size, dx, dy\n",
    ")\n",
    "\n",
    "# f_x_eulerian[index], f_y_eulerian[index] = spread_lagrangian_force_to_eulerian(\n",
    "#     lagranian_point,\n",
    "#     X_eulerian,\n",
    "#     Fx_lagrangian,\n",
    "#     Fy_lagrangian,\n",
    "#     epsilon=0.1,\n",
    "# )"
   ]
  },
  {
   "cell_type": "code",
   "execution_count": 32,
   "metadata": {},
   "outputs": [],
   "source": [
    "f_x_eulerian = f_x_eulerian.reshape(-1, 1)\n",
    "f_y_eulerian = f_y_eulerian.reshape(-1, 1)"
   ]
  },
  {
   "cell_type": "code",
   "execution_count": 35,
   "metadata": {},
   "outputs": [
    {
     "data": {
      "text/plain": [
       "(126, 126)"
      ]
     },
     "execution_count": 35,
     "metadata": {},
     "output_type": "execute_result"
    }
   ],
   "source": [
    "f_x_eulerian.shape"
   ]
  },
  {
   "cell_type": "code",
   "execution_count": 36,
   "metadata": {},
   "outputs": [
    {
     "data": {
      "text/plain": [
       "(252,)"
      ]
     },
     "execution_count": 36,
     "metadata": {},
     "output_type": "execute_result"
    }
   ],
   "source": [
    "real_fx_eulerian.shape"
   ]
  },
  {
   "cell_type": "code",
   "execution_count": null,
   "metadata": {},
   "outputs": [],
   "source": []
  },
  {
   "cell_type": "code",
   "execution_count": 10,
   "metadata": {},
   "outputs": [
    {
     "name": "stdout",
     "output_type": "stream",
     "text": [
      "RelL2_Error: U%  : 94.52 \n",
      "RelL2_Error: U%  : 121.28 \n"
     ]
    }
   ],
   "source": [
    "text = \"RelL2_Error: \"\n",
    "\n",
    "u_error2 = lp_error(f_x_eulerian, real_fx_eulerian, (text + \"U%\"))\n",
    "u_error2 = lp_error(f_y_eulerian, real_fy_eulerian, (text + \"U%\"))"
   ]
  },
  {
   "cell_type": "code",
   "execution_count": 11,
   "metadata": {},
   "outputs": [
    {
     "name": "stdout",
     "output_type": "stream",
     "text": [
      "            0           1          2           3\n",
      "0   -4.790200  -11.393000  13.102000    7.218500\n",
      "1  -17.184999   29.327000 -23.613001  -19.788000\n",
      "2   -2.905400   52.549999  -4.653000  -20.385000\n",
      "3   27.208000  -18.961000   3.171100  -17.443001\n",
      "4  -30.275999   -0.122150  73.988998  -18.676001\n",
      "5   10.933000  -25.128000  47.389000  -32.789001\n",
      "6  -36.196999  -17.247000  -9.182800   66.667000\n",
      "7  -12.021000    2.715400 -23.495001  -19.757000\n",
      "8   27.018000  -21.028999 -21.028999  -25.756001\n",
      "9  -34.257000   -8.140100 -33.782001  -10.540000\n",
      "10  -2.848300  -23.858999  -1.522600  -14.419000\n",
      "11  32.097000   47.992001 -26.934999  123.440002\n",
      "12  -3.889200  -33.617001  64.679001  -10.550000\n",
      "13 -21.134001   -9.182800 -12.964000   97.334999\n",
      "14  50.644001   -1.132300 -61.888000  -21.580999\n",
      "15 -20.634001  -44.316002  -4.653000   38.294998\n",
      "16  -2.720400   -3.280200 -23.613001    2.762600\n",
      "17  13.102000   -8.325700  92.747002  -10.995000\n",
      "18  38.073002   -1.067100 -18.292000  -18.587999\n",
      "19 -24.049999  113.540001  -5.808900    8.710400\n",
      "20  29.723000   -5.858000   7.992600  -50.355999\n",
      "21   3.085300   -0.502040  51.348999  -22.653000\n",
      "22  -9.892000  -10.089000 -16.229000  -31.344999\n",
      "23  43.904999  -18.604000 -19.476000   -1.067100\n",
      "24 -18.208000   -9.498100 -27.305000  -22.503000\n"
     ]
    }
   ],
   "source": [
    "import pandas as pd\n",
    "\n",
    "# Reshape the array to match the original data structure\n",
    "df_fx_eulerian = pd.DataFrame(real_fx_eulerian[:100].reshape(25, -1))\n",
    "\n",
    "# Display the DataFrame\n",
    "print(df_fx_eulerian)"
   ]
  },
  {
   "cell_type": "code",
   "execution_count": 12,
   "metadata": {},
   "outputs": [
    {
     "name": "stdout",
     "output_type": "stream",
     "text": [
      "            0          1          2          3\n",
      "0  -27.373263 -28.234636  29.196352  25.617751\n",
      "1  -51.389255  40.977386 -15.137369 -72.965565\n",
      "2   -8.506745  72.258659 -15.433190 -76.852122\n",
      "3   34.819466  27.960542  -0.251703 -32.807812\n",
      "4  -64.338728  -2.303086  62.870667 -78.025699\n",
      "5   79.636558 -78.402564  37.120023 -61.463793\n",
      "6    0.167848 -52.038314  19.660157  87.562147\n",
      "7  -10.631380  23.685832 -78.797586 -47.196255\n",
      "8   42.367626 -55.489079 -55.489079 -59.744399\n",
      "9  -57.699329  67.371618 -74.901708  50.704146\n",
      "10   2.856821 -50.329221   4.936641 -41.133856\n",
      "11  81.444878  54.717027 -49.256696  87.061196\n",
      "12  10.068403 -54.293974  80.508785 -38.550213\n",
      "13 -58.946564  19.660157  39.451893  79.250851\n",
      "14  75.175866   3.893281 -80.012693 -53.720931\n",
      "15 -61.738491  -2.758238 -15.433190  53.097991\n",
      "16  17.366378  -9.584021 -15.137369 -11.818547\n",
      "17  29.196352  18.156757  76.580134 -38.746960\n",
      "18  88.164786   7.012797 -67.347209 -45.800399\n",
      "19 -49.128031  57.981569  12.034228  27.679907\n",
      "20  38.355472 -25.672940  75.353641 -74.008166\n",
      "21  23.045228  61.134032  45.270268 -52.597723\n",
      "22 -40.289256 -29.134964  -8.160705 -80.570035\n",
      "23  84.399461  14.822102 -76.072896   7.012797\n",
      "24 -55.618598 -44.994938  35.621133 -67.504953\n"
     ]
    }
   ],
   "source": [
    "import pandas as pd\n",
    "\n",
    "# Reshape the array to match the original data structure\n",
    "df_fx_eulerian = pd.DataFrame(f_x_eulerian[:100].reshape(25, -1))\n",
    "\n",
    "# Display the DataFrame\n",
    "print(df_fx_eulerian)"
   ]
  },
  {
   "cell_type": "code",
   "execution_count": null,
   "metadata": {},
   "outputs": [],
   "source": []
  },
  {
   "cell_type": "code",
   "execution_count": null,
   "metadata": {},
   "outputs": [],
   "source": [
    "\n",
    "def spread_lagrangian_force_to_eulerian(\n",
    "    x_eulerian_pt,\n",
    "    X_lagrangian,\n",
    "    F_x_lagrangian,\n",
    "    F_y_lagrangian,\n",
    "    epsilon=0.1,\n",
    "):\n"
   ]
  },
  {
   "cell_type": "code",
   "execution_count": null,
   "metadata": {},
   "outputs": [],
   "source": []
  },
  {
   "cell_type": "code",
   "execution_count": null,
   "metadata": {},
   "outputs": [],
   "source": [
    "# Interpolate Eulerian velocity to Lagrangian points\n",
    "u_lagrangian, v_lagrangian = interpolate_eulerian_velocity_to_lagrangian(\n",
    "    u_eulerian, v_eulerian, X_lagrangian, dx, dy\n",
    ")\n",
    "\n",
    "# Print results\n",
    "print(\"Lagrangian velocities (u, v):\")\n",
    "print(u_lagrangian, v_lagrangian)"
   ]
  },
  {
   "cell_type": "code",
   "execution_count": null,
   "metadata": {},
   "outputs": [],
   "source": [
    "FluidData: self.txy_fluid.shape=torch.Size([1014684, 3]),  self.mean_x=tensor([ 0.4998,  0.5012,  0.4945,  0.0049, -0.0007,  0.0049,  0.0046,  0.0071],\n",
    "       device='cuda:0'), self.std_x=tensor([0.2917, 0.2930, 0.2917, 0.1992, 0.1266, 0.1091, 1.0603, 1.1419],\n",
    "       device='cuda:0')\n",
    "SolidData: self.txy_solid_points.shape=torch.Size([143780, 3]),  self.mean_x=tensor([ 0.5044,  0.4678,  0.6521, -0.0124,  0.0204, -0.0232,  0.0282,  0.0481],\n",
    "       device='cuda:0'), self.std_x=tensor([0.2904, 0.1506, 0.1444, 0.1219, 0.1065, 0.0854, 2.8319, 3.0344],\n",
    "       device='cuda:0')\n",
    "FluidSolidInterfaceData: self.txy_interface.shape=torch.Size([25452, 3]),  self.mean_x=tensor([ 5.0001e-01,  4.6873e-01,  6.5305e-01, -1.0230e-02,  1.8494e-02,\n",
    "        -6.9603e-03, -7.7546e+01,  5.0739e+01], device='cuda:0'), self.std_x=tensor([2.9155e-01, 1.7971e-01, 1.7300e-01, 1.4451e-01, 1.3330e-01, 1.8181e-01,\n",
    "        9.7830e+02, 7.2563e+02], device='cuda:0')"
   ]
  },
  {
   "cell_type": "code",
   "execution_count": 43,
   "metadata": {},
   "outputs": [],
   "source": [
    "Fluid_data = scipy.io.loadmat(DATASET_PATH)\n",
    "Fluid_training = Fluid_data[\"Fluid_training\"]"
   ]
  },
  {
   "cell_type": "code",
   "execution_count": null,
   "metadata": {},
   "outputs": [],
   "source": []
  }
 ],
 "metadata": {
  "kernelspec": {
   "display_name": "pinn_learnable_activation",
   "language": "python",
   "name": "python3"
  },
  "language_info": {
   "codemirror_mode": {
    "name": "ipython",
    "version": 3
   },
   "file_extension": ".py",
   "mimetype": "text/x-python",
   "name": "python",
   "nbconvert_exporter": "python",
   "pygments_lexer": "ipython3",
   "version": "3.12.4"
  }
 },
 "nbformat": 4,
 "nbformat_minor": 2
}
