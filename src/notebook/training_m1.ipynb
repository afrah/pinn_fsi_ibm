{
 "cells": [
  {
   "cell_type": "code",
   "execution_count": 14,
   "id": "e539ba98",
   "metadata": {},
   "outputs": [
    {
     "name": "stdout",
     "output_type": "stream",
     "text": [
      "The autoreload extension is already loaded. To reload it, use:\n",
      "  %reload_ext autoreload\n"
     ]
    }
   ],
   "source": [
    "%load_ext autoreload\n",
    "%autoreload 2\n"
   ]
  },
  {
   "cell_type": "code",
   "execution_count": 16,
   "id": "89b895e5",
   "metadata": {},
   "outputs": [],
   "source": [
    "import sys\n",
    "import os\n",
    "import torch\n",
    "import numpy as np\n",
    "import torch.nn as nn\n",
    "import scipy\n",
    "import pandas as pd\n",
    "import matplotlib.pyplot as plt\n",
    "\n",
    "\n",
    "from src.utils.utils import lp_error\n",
    "from src.utils.logger import Logging\n",
    "from src.utils.colors import model_color\n",
    "\n",
    "from src.nn.tanh2 import MLP2\n",
    "from src.nn.tanh import MLP\n",
    "from src.nn.bspline import KAN\n",
    "from src.nn.kan2 import KAN2\n",
    "from src.utils.utils import clear_gpu_memory\n",
    "from src.data.IBM_data_loader import prepare_training_data, visualize_tensor_datasets\n",
    "from src.data.IBM_data_loader import load_fluid_testing_dataset\n",
    "from src.models.m1_physics2 import PINNTrainer\n",
    "from src.utils.plot_losses import plot_M1_loss_history\n",
    "from src.utils.fsi_visualization import (\n",
    "    create_frames,\n",
    "    create_animations_from_existing_frames,\n",
    ")\n",
    "from src.data.IBM_data_loader import load_training_dataset\n"
   ]
  },
  {
   "cell_type": "code",
   "execution_count": 17,
   "id": "3048c0d5",
   "metadata": {},
   "outputs": [
    {
     "name": "stderr",
     "output_type": "stream",
     "text": [
      "INFO:src.utils.logger:./checkpoints/2025-08-17_10-40-58-035486\n"
     ]
    }
   ],
   "source": [
    "\n",
    "CHECKPOINT_PATH = \"./checkpoints\"\n",
    "logger = Logging(CHECKPOINT_PATH)\n",
    "model_dirname = logger.get_output_dir()\n",
    "\n",
    "logger.print(model_dirname)"
   ]
  },
  {
   "cell_type": "code",
   "execution_count": 18,
   "id": "52006a4c",
   "metadata": {},
   "outputs": [
    {
     "name": "stdout",
     "output_type": "stream",
     "text": [
      "GPU memory cleared!\n"
     ]
    }
   ],
   "source": [
    "\n",
    "\n",
    "clear_gpu_memory()\n",
    "config = {\n",
    "    \"dataset_type\": \"old\",\n",
    "    \"training_selection_method\": \"Sobol\",\n",
    "    \"input_dim\": 3,  # (x, y, z, t)\n",
    "    \"hidden_dim\": 300,\n",
    "    \"hidden_layers_dim\": 3,\n",
    "    \"fluid_density\": 1.0,\n",
    "    \"fluid_viscosity\": 0.01,\n",
    "    \"num_epochs\": 60000,\n",
    "    \"batch_size\": 128,\n",
    "    \"learning_rate\": 1e-3,\n",
    "    \"data_weight\": 4.0,\n",
    "    \"physics_weight\": 0.01,\n",
    "    \"boundary_weight\": 2.0,\n",
    "    \"fsi_weight\": 0.5,\n",
    "    \"initial_weight\": 4.0,\n",
    "    \"checkpoint_dir\": \"./checkpoints\",\n",
    "    \"resume\": None,\n",
    "    \"print_every\": 100,\n",
    "    \"save_every\": 100,\n",
    "    \"fluid_sampling_ratio\": 0.01,\n",
    "    \"interface_sampling_ratio\": 0.07,\n",
    "    \"solid_sampling_ratio\": 0.01,\n",
    "    \"left_sampling_ratio\": 0.1,\n",
    "    \"right_sampling_ratio\": 0.15,\n",
    "    \"bottom_sampling_ratio\": 0.1,\n",
    "    \"top_sampling_ratio\": 0.1,\n",
    "    \"initial_sampling_ratio\": 0.1,\n",
    "    \"device\": torch.device(\"cuda\" if torch.cuda.is_available() else \"cpu\"),\n",
    "    \"solver\": \"mlp\",\n",
    "    \"model\": \"m1\",\n",
    "}\n"
   ]
  },
  {
   "cell_type": "code",
   "execution_count": 19,
   "id": "76735ee8",
   "metadata": {},
   "outputs": [
    {
     "name": "stderr",
     "output_type": "stream",
     "text": [
      "INFO:src.utils.logger:Config:\n",
      "INFO:src.utils.logger:dataset_type: old\n",
      "INFO:src.utils.logger:training_selection_method: Sobol\n",
      "INFO:src.utils.logger:input_dim: 3\n",
      "INFO:src.utils.logger:hidden_dim: 300\n",
      "INFO:src.utils.logger:hidden_layers_dim: 3\n",
      "INFO:src.utils.logger:fluid_density: 1.0\n",
      "INFO:src.utils.logger:fluid_viscosity: 0.01\n",
      "INFO:src.utils.logger:num_epochs: 60000\n",
      "INFO:src.utils.logger:batch_size: 128\n",
      "INFO:src.utils.logger:learning_rate: 0.001\n",
      "INFO:src.utils.logger:data_weight: 4.0\n",
      "INFO:src.utils.logger:physics_weight: 0.01\n",
      "INFO:src.utils.logger:boundary_weight: 2.0\n"
     ]
    },
    {
     "name": "stderr",
     "output_type": "stream",
     "text": [
      "INFO:src.utils.logger:fsi_weight: 0.5\n",
      "INFO:src.utils.logger:initial_weight: 4.0\n",
      "INFO:src.utils.logger:checkpoint_dir: ./checkpoints\n",
      "INFO:src.utils.logger:resume: None\n",
      "INFO:src.utils.logger:print_every: 100\n",
      "INFO:src.utils.logger:save_every: 100\n",
      "INFO:src.utils.logger:fluid_sampling_ratio: 0.01\n",
      "INFO:src.utils.logger:interface_sampling_ratio: 0.07\n",
      "INFO:src.utils.logger:solid_sampling_ratio: 0.01\n",
      "INFO:src.utils.logger:left_sampling_ratio: 0.1\n",
      "INFO:src.utils.logger:right_sampling_ratio: 0.15\n",
      "INFO:src.utils.logger:bottom_sampling_ratio: 0.1\n",
      "INFO:src.utils.logger:top_sampling_ratio: 0.1\n",
      "INFO:src.utils.logger:initial_sampling_ratio: 0.1\n",
      "INFO:src.utils.logger:device: cuda\n",
      "INFO:src.utils.logger:solver: mlp\n",
      "INFO:src.utils.logger:model: m1\n"
     ]
    },
    {
     "name": "stdout",
     "output_type": "stream",
     "text": [
      "Saved fluid tensor with shape torch.Size([10508, 8]) to ./data/training_dataset/old/fluid_tensor.pt\n",
      "Saved fluid_points tensor with shape torch.Size([3986, 8]) to ./data/training_dataset/old/fluid_points_tensor.pt\n",
      "Saved interface tensor with shape torch.Size([10166, 11]) to ./data/training_dataset/old/interface_tensor.pt\n",
      "Saved solid tensor with shape torch.Size([1452, 8]) to ./data/training_dataset/old/solid_tensor.pt\n",
      "Saved left tensor with shape torch.Size([1030, 8]) to ./data/training_dataset/old/left_tensor.pt\n",
      "Saved right tensor with shape torch.Size([1545, 8]) to ./data/training_dataset/old/right_tensor.pt\n",
      "Saved bottom tensor with shape torch.Size([1030, 8]) to ./data/training_dataset/old/bottom_tensor.pt\n",
      "Saved up tensor with shape torch.Size([1030, 8]) to ./data/training_dataset/old/up_tensor.pt\n",
      "Saved initial tensor with shape torch.Size([1330, 8]) to ./data/training_dataset/old/initial_tensor.pt\n"
     ]
    }
   ],
   "source": [
    "logger.print(\"Config:\")\n",
    "for key, value in config.items():\n",
    "    logger.print(f\"{key}: {value}\")\n",
    "\n",
    "training_data_path = \"./data/training_dataset/old\"\n",
    "\n",
    "training_data = None #load_training_dataset(training_data_path, device=config[\"device\"])\n",
    "\n",
    "if training_data is None:\n",
    "    training_data = prepare_training_data(\n",
    "        config[\"dataset_type\"],\n",
    "        fluid_sampling_ratio=config[\"fluid_sampling_ratio\"],\n",
    "        interface_sampling_ratio=config[\"interface_sampling_ratio\"],\n",
    "        solid_sampling_ratio=config[\"solid_sampling_ratio\"],\n",
    "        left_sampling_ratio=config[\"left_sampling_ratio\"],\n",
    "        right_sampling_ratio=config[\"right_sampling_ratio\"],\n",
    "        bottom_sampling_ratio=config[\"bottom_sampling_ratio\"],\n",
    "        top_sampling_ratio=config[\"top_sampling_ratio\"],\n",
    "        initial_sampling_ratio=config[\"initial_sampling_ratio\"],\n",
    "        training_selection_method=config[\"training_selection_method\"],\n",
    "        device=config[\"device\"],\n",
    "        save_dir=training_data_path,\n",
    "    )\n"
   ]
  },
  {
   "cell_type": "code",
   "execution_count": 22,
   "id": "31c8520c",
   "metadata": {},
   "outputs": [
    {
     "name": "stderr",
     "output_type": "stream",
     "text": [
      "INFO:src.utils.logger:Fluid model architecture:\n",
      "INFO:src.utils.logger:MLP(\n",
      "  (layers): ModuleList(\n",
      "    (0): Linear(in_features=3, out_features=300, bias=True)\n",
      "    (1-2): 2 x Linear(in_features=300, out_features=300, bias=True)\n",
      "    (3): Linear(in_features=300, out_features=3, bias=True)\n",
      "  )\n",
      ")\n",
      "INFO:src.utils.logger:Number of parameters: 182703\n"
     ]
    },
    {
     "name": "stdout",
     "output_type": "stream",
     "text": [
      "Saved tensor datasets scatter plot to ./data/training_dataset/old/tensor_datasets_scatter.png\n"
     ]
    }
   ],
   "source": [
    "\n",
    "visualize_tensor_datasets(training_data, save_dir=training_data_path)\n",
    "\n",
    "fluid_network = (\n",
    "    [config[\"input_dim\"]] + [config[\"hidden_dim\"]] * config[\"hidden_layers_dim\"] + [3]\n",
    ")\n",
    "\n",
    "if config[\"solver\"] == \"mlp\":\n",
    "    fluid_model = MLP(network=fluid_network)\n",
    "else:\n",
    "    fluid_model = KAN(network=fluid_network)\n",
    "\n",
    "logger.print(\"Fluid model architecture:\")\n",
    "logger.print(fluid_model)\n",
    "logger.print(\n",
    "    f\"Number of parameters: {sum(p.numel() for p in fluid_model.parameters())}\"\n",
    ")\n"
   ]
  },
  {
   "cell_type": "code",
   "execution_count": null,
   "id": "414b2ca4",
   "metadata": {},
   "outputs": [
    {
     "name": "stderr",
     "output_type": "stream",
     "text": [
      "INFO:src.utils.logger:Epoch 0/60000, Total: 6.7e+00, Data(F&S): 3.2e-01, Physics: 1.2e-04, Boundary: 3.2e+00, FSI: 3.1e+00, Initial: 6.8e-02, LR: 1.00e-03\n",
      "INFO:src.utils.logger:Final losses:\n",
      "INFO:src.utils.logger:Final left: 2.537e-01 |  Final right: 4.399e-01 |  Final bottom: 5.332e-02 |  Final up: 1.254e+00 |  Final fluid: 1.219e-03 |  Final interface: 1.138e-01 |  Final initial: 1.140e-01 |  Final total: 2.551e+00 | \n",
      "INFO:src.utils.logger:_save_checkpoint: Epoch 100 | Training checkpoint saved at ./checkpoints/2025-08-17_10-40-58-035486/model.pth\n",
      "INFO:src.utils.logger:Epoch 100/60000, Total: 2.4e+00, Data(F&S): 3.2e-01, Physics: 1.2e-03, Boundary: 1.8e+00, FSI: 1.1e-01, Initial: 1.2e-01, LR: 1.00e-03\n",
      "INFO:src.utils.logger:Final losses:\n",
      "INFO:src.utils.logger:Final left: 2.443e-01 |  Final right: 4.276e-01 |  Final bottom: 4.981e-02 |  Final up: 1.076e+00 |  Final fluid: 1.197e-03 |  Final interface: 1.014e-01 |  Final initial: 9.777e-02 |  Final total: 2.310e+00 | \n",
      "INFO:src.utils.logger:_save_checkpoint: Epoch 200 | Training checkpoint saved at ./checkpoints/2025-08-17_10-40-58-035486/model.pth\n",
      "INFO:src.utils.logger:Epoch 200/60000, Total: 2.3e+00, Data(F&S): 3.1e-01, Physics: 1.2e-03, Boundary: 1.8e+00, FSI: 1.0e-01, Initial: 9.7e-02, LR: 1.00e-03\n",
      "INFO:src.utils.logger:Final losses:\n",
      "INFO:src.utils.logger:Final left: 1.907e-01 |  Final right: 3.311e-01 |  Final bottom: 1.361e-02 |  Final up: 6.750e-01 |  Final fluid: 3.095e-03 |  Final interface: 8.285e-02 |  Final initial: 9.469e-02 |  Final total: 1.582e+00 | \n",
      "INFO:src.utils.logger:_save_checkpoint: Epoch 300 | Training checkpoint saved at ./checkpoints/2025-08-17_10-40-58-035486/model.pth\n",
      "INFO:src.utils.logger:Epoch 300/60000, Total: 1.6e+00, Data(F&S): 1.9e-01, Physics: 3.1e-03, Boundary: 1.2e+00, FSI: 8.3e-02, Initial: 9.4e-02, LR: 1.00e-03\n",
      "INFO:src.utils.logger:Final losses:\n",
      "INFO:src.utils.logger:Final left: 1.599e-01 |  Final right: 3.091e-01 |  Final bottom: 8.587e-03 |  Final up: 6.251e-01 |  Final fluid: 4.610e-03 |  Final interface: 6.865e-02 |  Final initial: 9.164e-02 |  Final total: 1.444e+00 | \n",
      "INFO:src.utils.logger:_save_checkpoint: Epoch 400 | Training checkpoint saved at ./checkpoints/2025-08-17_10-40-58-035486/model.pth\n",
      "INFO:src.utils.logger:Epoch 400/60000, Total: 1.4e+00, Data(F&S): 1.7e-01, Physics: 4.6e-03, Boundary: 1.0e+00, FSI: 6.8e-02, Initial: 9.1e-02, LR: 1.00e-03\n",
      "INFO:src.utils.logger:Final losses:\n",
      "INFO:src.utils.logger:Final left: 1.442e-01 |  Final right: 2.613e-01 |  Final bottom: 5.465e-03 |  Final up: 5.306e-01 |  Final fluid: 5.228e-03 |  Final interface: 9.518e-02 |  Final initial: 8.309e-02 |  Final total: 1.277e+00 | \n",
      "INFO:src.utils.logger:_save_checkpoint: Epoch 500 | Training checkpoint saved at ./checkpoints/2025-08-17_10-40-58-035486/model.pth\n",
      "INFO:src.utils.logger:Epoch 500/60000, Total: 1.3e+00, Data(F&S): 1.5e-01, Physics: 5.4e-03, Boundary: 9.4e-01, FSI: 1.2e-01, Initial: 8.1e-02, LR: 1.00e-03\n",
      "INFO:src.utils.logger:Final losses:\n",
      "INFO:src.utils.logger:Final left: 1.825e-01 |  Final right: 2.429e-01 |  Final bottom: 5.683e-03 |  Final up: 4.903e-01 |  Final fluid: 5.906e-03 |  Final interface: 6.140e-02 |  Final initial: 7.205e-02 |  Final total: 1.194e+00 | \n",
      "INFO:src.utils.logger:_save_checkpoint: Epoch 600 | Training checkpoint saved at ./checkpoints/2025-08-17_10-40-58-035486/model.pth\n",
      "INFO:src.utils.logger:Epoch 600/60000, Total: 1.1e+00, Data(F&S): 1.2e-01, Physics: 6.2e-03, Boundary: 8.9e-01, FSI: 6.1e-02, Initial: 7.3e-02, LR: 1.00e-03\n"
     ]
    }
   ],
   "source": [
    "\n",
    "trainer = PINNTrainer(\n",
    "    fluid_model=fluid_model,\n",
    "    training_data=training_data,\n",
    "    learning_rate=config[\"learning_rate\"],\n",
    "    logger=logger,\n",
    "    device=config[\"device\"],\n",
    "    fluid_density=config[\"fluid_density\"],\n",
    "    fluid_viscosity=config[\"fluid_viscosity\"],\n",
    "    print_every=config[\"print_every\"],\n",
    "    save_every=config[\"save_every\"],\n",
    "    solver=config[\"solver\"],\n",
    "    model=config[\"model\"],\n",
    ")\n",
    "\n",
    "\n",
    "loss_history = trainer.train(\n",
    "    num_epochs=config[\"num_epochs\"],\n",
    "    batch_size=config[\"batch_size\"],\n",
    "    data_weight=config[\"data_weight\"],\n",
    "    physics_weight=config[\"physics_weight\"],\n",
    "    boundary_weight=config[\"boundary_weight\"],\n",
    "    fsi_weight=config[\"fsi_weight\"],\n",
    "    initial_weight=config[\"initial_weight\"],\n",
    ")\n"
   ]
  },
  {
   "cell_type": "code",
   "execution_count": null,
   "id": "cc4f30a8",
   "metadata": {},
   "outputs": [],
   "source": []
  }
 ],
 "metadata": {
  "kernelspec": {
   "display_name": "pinn-fsi-ibm",
   "language": "python",
   "name": "python3"
  },
  "language_info": {
   "codemirror_mode": {
    "name": "ipython",
    "version": 3
   },
   "file_extension": ".py",
   "mimetype": "text/x-python",
   "name": "python",
   "nbconvert_exporter": "python",
   "pygments_lexer": "ipython3",
   "version": "3.13.5"
  }
 },
 "nbformat": 4,
 "nbformat_minor": 5
}
