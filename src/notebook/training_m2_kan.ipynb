{
 "cells": [
  {
   "cell_type": "code",
   "execution_count": 1,
   "id": "e539ba98",
   "metadata": {},
   "outputs": [],
   "source": [
    "%load_ext autoreload\n",
    "%autoreload 2\n"
   ]
  },
  {
   "cell_type": "code",
   "execution_count": null,
   "id": "89b895e5",
   "metadata": {},
   "outputs": [],
   "source": [
    "import torch\n",
    "from src.utils.utils import lp_error\n",
    "from src.utils.logger import Logging\n",
    "from src.utils.colors import model_color\n",
    "\n",
    "from src.nn.tanh import MLP\n",
    "from src.nn.bspline import KAN\n",
    "from src.utils.utils import clear_gpu_memory\n",
    "from src.data.IBM_data_loader import prepare_training_data, visualize_tensor_datasets\n",
    "from src.data.IBM_data_loader import load_fluid_testing_dataset\n",
    "from src.models.m2_physics3 import PINNTrainer\n",
    "from src.utils.plot_losses import plot_M1_loss_history\n",
    "from src.utils.fsi_visualization import (\n",
    "    create_frames,\n",
    "    create_animations_from_existing_frames,\n",
    ")\n",
    "from src.data.IBM_data_loader import load_training_dataset\n"
   ]
  },
  {
   "cell_type": "code",
   "execution_count": 3,
   "id": "bace01ad",
   "metadata": {},
   "outputs": [
    {
     "name": "stderr",
     "output_type": "stream",
     "text": [
      "INFO:src.utils.logger:./checkpoints/2025-08-18_02-24-09-051837\n"
     ]
    }
   ],
   "source": [
    "\n",
    "CHECKPOINT_PATH = \"./checkpoints\"\n",
    "logger = Logging(CHECKPOINT_PATH)\n",
    "model_dirname = logger.get_output_dir()\n",
    "\n",
    "logger.print(model_dirname)"
   ]
  },
  {
   "cell_type": "code",
   "execution_count": null,
   "id": "52006a4c",
   "metadata": {},
   "outputs": [
    {
     "name": "stdout",
     "output_type": "stream",
     "text": [
      "GPU memory cleared!\n"
     ]
    }
   ],
   "source": [
    "\n",
    "\n",
    "clear_gpu_memory()\n",
    "config = {\n",
    "    \"dataset_type\": \"old\",\n",
    "    \"training_selection_method\": \"Sobol\",\n",
    "    \"input_dim\": 3,  # (x, y, z, t)\n",
    "    \"hidden_dim\": 100,\n",
    "    \"hidden_layers_dim\": 3,\n",
    "    \"fluid_density\": 1.0,\n",
    "    \"fluid_viscosity\": 0.01,\n",
    "    \"num_epochs\": 60000,\n",
    "    \"batch_size\": 128,\n",
    "    \"learning_rate\": 1e-3,\n",
    "    \"data_weight\": 2.0,\n",
    "    \"physics_weight\": 0.01,\n",
    "    \"boundary_weight\": 2.0,\n",
    "    \"fsi_weight\": 0.5,\n",
    "    \"initial_weight\": 4.0,\n",
    "    \"checkpoint_dir\": \"./checkpoints\",\n",
    "    \"resume\": None,\n",
    "    \"print_every\": 200,\n",
    "    \"save_every\": 400,\n",
    "    \"fluid_sampling_ratio\": 0.01,\n",
    "    \"interface_sampling_ratio\": 0.07,\n",
    "    \"solid_sampling_ratio\": 0.0,\n",
    "    \"left_sampling_ratio\": 0.1,\n",
    "    \"right_sampling_ratio\": 0.15,\n",
    "    \"bottom_sampling_ratio\": 0.1,\n",
    "    \"top_sampling_ratio\": 0.1,\n",
    "    \"initial_sampling_ratio\": 0.1,\n",
    "    \"device\": torch.device(\"cuda\" if torch.cuda.is_available() else \"cpu\"),\n",
    "    \"solver\": \"kan\",\n",
    "    \"model\": \"m2\",\n",
    "}\n"
   ]
  },
  {
   "cell_type": "code",
   "execution_count": 38,
   "id": "76735ee8",
   "metadata": {},
   "outputs": [
    {
     "name": "stderr",
     "output_type": "stream",
     "text": [
      "INFO:src.utils.logger:Config:\n",
      "INFO:src.utils.logger:dataset_type: old\n",
      "INFO:src.utils.logger:training_selection_method: Sobol\n",
      "INFO:src.utils.logger:input_dim: 3\n",
      "INFO:src.utils.logger:hidden_dim: 2\n",
      "INFO:src.utils.logger:hidden_layers_dim: 3\n",
      "INFO:src.utils.logger:fluid_density: 1.0\n",
      "INFO:src.utils.logger:fluid_viscosity: 0.01\n",
      "INFO:src.utils.logger:num_epochs: 60000\n",
      "INFO:src.utils.logger:batch_size: 128\n",
      "INFO:src.utils.logger:learning_rate: 0.001\n",
      "INFO:src.utils.logger:data_weight: 2.0\n",
      "INFO:src.utils.logger:physics_weight: 0.01\n",
      "INFO:src.utils.logger:boundary_weight: 2.0\n",
      "INFO:src.utils.logger:fsi_weight: 0.5\n",
      "INFO:src.utils.logger:initial_weight: 4.0\n",
      "INFO:src.utils.logger:checkpoint_dir: ./checkpoints\n",
      "INFO:src.utils.logger:resume: None\n",
      "INFO:src.utils.logger:print_every: 2\n",
      "INFO:src.utils.logger:save_every: 2\n",
      "INFO:src.utils.logger:fluid_sampling_ratio: 0.01\n",
      "INFO:src.utils.logger:interface_sampling_ratio: 0.07\n",
      "INFO:src.utils.logger:solid_sampling_ratio: 0.0\n",
      "INFO:src.utils.logger:left_sampling_ratio: 0.1\n",
      "INFO:src.utils.logger:right_sampling_ratio: 0.15\n",
      "INFO:src.utils.logger:bottom_sampling_ratio: 0.1\n",
      "INFO:src.utils.logger:top_sampling_ratio: 0.1\n",
      "INFO:src.utils.logger:initial_sampling_ratio: 0.1\n",
      "INFO:src.utils.logger:device: cpu\n",
      "INFO:src.utils.logger:solver: kan\n",
      "INFO:src.utils.logger:model: m2\n"
     ]
    },
    {
     "name": "stdout",
     "output_type": "stream",
     "text": [
      "Loaded interface tensor from ./data/training_dataset/old/interface_tensor.pt with shape torch.Size([10166, 11])\n",
      "Loaded right tensor from ./data/training_dataset/old/right_tensor.pt with shape torch.Size([1545, 8])\n",
      "Loaded fluid_points tensor from ./data/training_dataset/old/fluid_points_tensor.pt with shape torch.Size([3986, 8])\n",
      "Loaded bottom tensor from ./data/training_dataset/old/bottom_tensor.pt with shape torch.Size([1030, 8])\n",
      "Loaded left tensor from ./data/training_dataset/old/left_tensor.pt with shape torch.Size([1030, 8])\n",
      "Loaded solid tensor from ./data/training_dataset/old/solid_tensor.pt with shape torch.Size([1452, 8])\n",
      "Loaded initial tensor from ./data/training_dataset/old/initial_tensor.pt with shape torch.Size([1330, 8])\n",
      "Loaded up tensor from ./data/training_dataset/old/up_tensor.pt with shape torch.Size([1030, 8])\n",
      "Loaded fluid tensor from ./data/training_dataset/old/fluid_tensor.pt with shape torch.Size([10508, 8])\n",
      "Loaded training dataset from ./data/training_dataset/old successfully!\n"
     ]
    }
   ],
   "source": [
    "logger.print(\"Config:\")\n",
    "for key, value in config.items():\n",
    "    logger.print(f\"{key}: {value}\")\n",
    "\n",
    "training_data_path = \"./data/training_dataset/old\"\n",
    "\n",
    "training_data = load_training_dataset(training_data_path, device=config[\"device\"])\n",
    "\n",
    "if training_data is None:\n",
    "    training_data = prepare_training_data(\n",
    "        config[\"dataset_type\"],\n",
    "        fluid_sampling_ratio=config[\"fluid_sampling_ratio\"],\n",
    "        interface_sampling_ratio=config[\"interface_sampling_ratio\"],\n",
    "        solid_sampling_ratio=config[\"solid_sampling_ratio\"],\n",
    "        left_sampling_ratio=config[\"left_sampling_ratio\"],\n",
    "        right_sampling_ratio=config[\"right_sampling_ratio\"],\n",
    "        bottom_sampling_ratio=config[\"bottom_sampling_ratio\"],\n",
    "        top_sampling_ratio=config[\"top_sampling_ratio\"],\n",
    "        initial_sampling_ratio=config[\"initial_sampling_ratio\"],\n",
    "        training_selection_method=config[\"training_selection_method\"],\n",
    "        device=config[\"device\"],\n",
    "        save_dir=training_data_path,\n",
    "    )\n"
   ]
  },
  {
   "cell_type": "code",
   "execution_count": 39,
   "id": "31c8520c",
   "metadata": {},
   "outputs": [
    {
     "name": "stderr",
     "output_type": "stream",
     "text": [
      "INFO:src.utils.logger:Fluid model architecture:\n",
      "INFO:src.utils.logger:KAN(\n",
      "  (layers): ModuleList(\n",
      "    (0-3): 4 x KANLinear(\n",
      "      (base_activation): SiLU()\n",
      "    )\n",
      "  )\n",
      ")\n",
      "INFO:src.utils.logger:KAN(\n",
      "  (layers): ModuleList(\n",
      "    (0-3): 4 x KANLinear(\n",
      "      (base_activation): SiLU()\n",
      "    )\n",
      "  )\n",
      ")\n",
      "INFO:src.utils.logger:Number of parameters: 200\n"
     ]
    },
    {
     "name": "stdout",
     "output_type": "stream",
     "text": [
      "Saved tensor datasets scatter plot to ./data/training_dataset/old/tensor_datasets_scatter.png\n"
     ]
    }
   ],
   "source": [
    "\n",
    "visualize_tensor_datasets(training_data, save_dir=training_data_path)\n",
    "\n",
    "fluid_network = (\n",
    "    [config[\"input_dim\"]] + [config[\"hidden_dim\"]] * config[\"hidden_layers_dim\"] + [3]\n",
    ")\n",
    "if config[\"solver\"] == \"mlp\":\n",
    "    fluid_model = MLP(network=fluid_network)\n",
    "    solid_model = MLP(network=fluid_network)\n",
    "else:\n",
    "    fluid_model = KAN(fluid_network)\n",
    "    solid_model = KAN(fluid_network)\n",
    "\n",
    "logger.print(\"Fluid model architecture:\")\n",
    "logger.print(fluid_model)\n",
    "logger.print(solid_model)\n",
    "logger.print(\n",
    "    f\"Number of parameters: {sum(p.numel() for p in fluid_model.parameters())}\"\n",
    ")\n"
   ]
  },
  {
   "cell_type": "code",
   "execution_count": 40,
   "id": "414b2ca4",
   "metadata": {},
   "outputs": [
    {
     "name": "stderr",
     "output_type": "stream",
     "text": [
      "/Users/afrahfarea/opt/anaconda3/envs/pinn-fsi-gpu/lib/python3.12/site-packages/torch/optim/lr_scheduler.py:156: UserWarning: The epoch parameter in `scheduler.step()` was not necessary and is being deprecated where possible. Please use `scheduler.step()` to step the scheduler. During the deprecation, if epoch is different from None, the closed form is used instead of the new chainable form, where available. Please open an issue if you are unable to replicate your use case: https://github.com/pytorch/pytorch/issues/new/choose.\n",
      "  warnings.warn(EPOCH_DEPRECATION_WARNING, UserWarning)\n",
      "INFO:src.utils.logger:Epoch 0/60000, Total: 3.3e+00, Data(F&S): 1.3e-01, Physics: 1.1e-07, Boundary: 3.2e+00, FSI: 2.9e-05, Solid: 7.2e-02, Initial: 2.3e-04, LR: 1.00e-03\n",
      "INFO:src.utils.logger:Final losses:\n",
      "INFO:src.utils.logger:Final left: 1.843e-01 |  Final right: 3.958e-01 |  Final bottom: 1.414e-03 |  Final up: 2.481e+00 |  Final fluid: 1.126e-07 |  Final interface: 2.978e-05 |  Final initial: 2.747e-04 |  Final fluid_total: 3.189e+00 |  Final solid_total: 7.277e-02 | \n",
      "INFO:src.utils.logger:_save_checkpoint: Epoch 2 | Training checkpoint saved at ./checkpoints/2025-08-18_02-24-09-051837/model.pth\n",
      "INFO:src.utils.logger:Epoch 2/60000, Total: 3.2e+00, Data(F&S): 1.3e-01, Physics: 1.2e-07, Boundary: 3.1e+00, FSI: 3.1e-05, Solid: 7.2e-02, Initial: 3.6e-04, LR: 1.00e-03\n",
      "INFO:src.utils.logger:Final losses:\n",
      "INFO:src.utils.logger:Final left: 1.863e-01 |  Final right: 3.931e-01 |  Final bottom: 1.382e-03 |  Final up: 2.497e+00 |  Final fluid: 1.211e-07 |  Final interface: 3.234e-05 |  Final initial: 4.808e-04 |  Final fluid_total: 3.203e+00 |  Final solid_total: 7.220e-02 | \n",
      "INFO:src.utils.logger:_save_checkpoint: Epoch 4 | Training checkpoint saved at ./checkpoints/2025-08-18_02-24-09-051837/model.pth\n",
      "INFO:src.utils.logger:Epoch 4/60000, Total: 3.2e+00, Data(F&S): 1.3e-01, Physics: 1.3e-07, Boundary: 3.1e+00, FSI: 3.3e-05, Solid: 7.2e-02, Initial: 6.3e-04, LR: 1.00e-03\n",
      "INFO:src.utils.logger:Final losses:\n",
      "INFO:src.utils.logger:Final left: 1.855e-01 |  Final right: 3.952e-01 |  Final bottom: 1.356e-03 |  Final up: 2.448e+00 |  Final fluid: 1.304e-07 |  Final interface: 3.443e-05 |  Final initial: 8.024e-04 |  Final fluid_total: 3.157e+00 |  Final solid_total: 7.155e-02 | \n",
      "INFO:src.utils.logger:_save_checkpoint: Epoch 6 | Training checkpoint saved at ./checkpoints/2025-08-18_02-24-09-051837/model.pth\n",
      "INFO:src.utils.logger:Epoch 6/60000, Total: 3.1e+00, Data(F&S): 1.3e-01, Physics: 1.4e-07, Boundary: 3.0e+00, FSI: 3.5e-05, Solid: 7.2e-02, Initial: 1.0e-03, LR: 1.00e-03\n",
      "INFO:src.utils.logger:Final losses:\n",
      "INFO:src.utils.logger:Final left: 1.915e-01 |  Final right: 3.915e-01 |  Final bottom: 1.417e-03 |  Final up: 2.436e+00 |  Final fluid: 1.403e-07 |  Final interface: 3.633e-05 |  Final initial: 1.213e-03 |  Final fluid_total: 3.148e+00 |  Final solid_total: 7.114e-02 | \n",
      "INFO:src.utils.logger:_save_checkpoint: Epoch 8 | Training checkpoint saved at ./checkpoints/2025-08-18_02-24-09-051837/model.pth\n",
      "INFO:src.utils.logger:Epoch 8/60000, Total: 3.1e+00, Data(F&S): 1.3e-01, Physics: 1.5e-07, Boundary: 3.0e+00, FSI: 3.7e-05, Solid: 7.1e-02, Initial: 1.5e-03, LR: 1.00e-03\n",
      "INFO:src.utils.logger:Final losses:\n",
      "INFO:src.utils.logger:Final left: 2.076e-01 |  Final right: 5.357e-01 |  Final bottom: 1.526e-03 |  Final up: 2.500e+00 |  Final fluid: 1.507e-07 |  Final interface: 3.852e-05 |  Final initial: 1.725e-03 |  Final fluid_total: 3.372e+00 |  Final solid_total: 7.092e-02 | \n",
      "INFO:src.utils.logger:_save_checkpoint: Epoch 10 | Training checkpoint saved at ./checkpoints/2025-08-18_02-24-09-051837/model.pth\n",
      "INFO:src.utils.logger:Epoch 10/60000, Total: 3.2e+00, Data(F&S): 1.3e-01, Physics: 1.6e-07, Boundary: 3.1e+00, FSI: 4.0e-05, Solid: 7.1e-02, Initial: 2.0e-03, LR: 1.00e-03\n",
      "INFO:src.utils.logger:Final losses:\n",
      "INFO:src.utils.logger:Final left: 1.883e-01 |  Final right: 3.889e-01 |  Final bottom: 1.670e-03 |  Final up: 2.413e+00 |  Final fluid: 1.612e-07 |  Final interface: 4.121e-05 |  Final initial: 2.346e-03 |  Final fluid_total: 3.121e+00 |  Final solid_total: 7.109e-02 | \n",
      "INFO:src.utils.logger:_save_checkpoint: Epoch 12 | Training checkpoint saved at ./checkpoints/2025-08-18_02-24-09-051837/model.pth\n",
      "INFO:src.utils.logger:Epoch 12/60000, Total: 3.2e+00, Data(F&S): 1.3e-01, Physics: 1.7e-07, Boundary: 3.1e+00, FSI: 4.3e-05, Solid: 7.1e-02, Initial: 2.7e-03, LR: 1.00e-03\n",
      "INFO:src.utils.logger:Final losses:\n",
      "INFO:src.utils.logger:Final left: 1.891e-01 |  Final right: 3.894e-01 |  Final bottom: 1.901e-03 |  Final up: 2.409e+00 |  Final fluid: 1.727e-07 |  Final interface: 4.447e-05 |  Final initial: 3.079e-03 |  Final fluid_total: 3.118e+00 |  Final solid_total: 7.056e-02 | \n",
      "INFO:src.utils.logger:_save_checkpoint: Epoch 14 | Training checkpoint saved at ./checkpoints/2025-08-18_02-24-09-051837/model.pth\n",
      "INFO:src.utils.logger:Epoch 14/60000, Total: 3.2e+00, Data(F&S): 1.3e-01, Physics: 1.8e-07, Boundary: 3.1e+00, FSI: 4.6e-05, Solid: 7.1e-02, Initial: 3.5e-03, LR: 1.00e-03\n",
      "INFO:src.utils.logger:Final losses:\n",
      "INFO:src.utils.logger:Final left: 1.897e-01 |  Final right: 3.874e-01 |  Final bottom: 2.185e-03 |  Final up: 2.383e+00 |  Final fluid: 1.842e-07 |  Final interface: 4.828e-05 |  Final initial: 3.920e-03 |  Final fluid_total: 3.095e+00 |  Final solid_total: 7.039e-02 | \n",
      "INFO:src.utils.logger:_save_checkpoint: Epoch 16 | Training checkpoint saved at ./checkpoints/2025-08-18_02-24-09-051837/model.pth\n",
      "INFO:src.utils.logger:Epoch 16/60000, Total: 3.1e+00, Data(F&S): 1.3e-01, Physics: 1.9e-07, Boundary: 3.0e+00, FSI: 5.0e-05, Solid: 7.0e-02, Initial: 4.4e-03, LR: 1.00e-03\n",
      "INFO:src.utils.logger:Final losses:\n",
      "INFO:src.utils.logger:Final left: 1.902e-01 |  Final right: 4.299e-01 |  Final bottom: 2.525e-03 |  Final up: 2.461e+00 |  Final fluid: 1.965e-07 |  Final interface: 5.251e-05 |  Final initial: 4.865e-03 |  Final fluid_total: 3.216e+00 |  Final solid_total: 7.021e-02 | \n",
      "INFO:src.utils.logger:_save_checkpoint: Epoch 18 | Training checkpoint saved at ./checkpoints/2025-08-18_02-24-09-051837/model.pth\n",
      "INFO:src.utils.logger:Epoch 18/60000, Total: 3.1e+00, Data(F&S): 1.3e-01, Physics: 2.0e-07, Boundary: 3.0e+00, FSI: 5.5e-05, Solid: 7.0e-02, Initial: 5.4e-03, LR: 1.00e-03\n",
      "INFO:src.utils.logger:Final losses:\n",
      "INFO:src.utils.logger:Final left: 1.922e-01 |  Final right: 3.864e-01 |  Final bottom: 2.920e-03 |  Final up: 2.505e+00 |  Final fluid: 2.098e-07 |  Final interface: 5.704e-05 |  Final initial: 5.918e-03 |  Final fluid_total: 3.222e+00 |  Final solid_total: 7.114e-02 | \n",
      "INFO:src.utils.logger:_save_checkpoint: Epoch 20 | Training checkpoint saved at ./checkpoints/2025-08-18_02-24-09-051837/model.pth\n"
     ]
    },
    {
     "ename": "KeyboardInterrupt",
     "evalue": "",
     "output_type": "error",
     "traceback": [
      "\u001b[31m---------------------------------------------------------------------------\u001b[39m",
      "\u001b[31mKeyboardInterrupt\u001b[39m                         Traceback (most recent call last)",
      "\u001b[36mCell\u001b[39m\u001b[36m \u001b[39m\u001b[32mIn[40]\u001b[39m\u001b[32m, line 17\u001b[39m\n\u001b[32m      1\u001b[39m trainer = PINNTrainer(\n\u001b[32m      2\u001b[39m     fluid_model=fluid_model,\n\u001b[32m      3\u001b[39m     solid_model=solid_model,\n\u001b[32m   (...)\u001b[39m\u001b[32m     13\u001b[39m     model=config[\u001b[33m\"\u001b[39m\u001b[33mmodel\u001b[39m\u001b[33m\"\u001b[39m],\n\u001b[32m     14\u001b[39m )\n\u001b[32m---> \u001b[39m\u001b[32m17\u001b[39m loss_history = trainer.train(\n\u001b[32m     18\u001b[39m     num_epochs=config[\u001b[33m\"\u001b[39m\u001b[33mnum_epochs\u001b[39m\u001b[33m\"\u001b[39m],\n\u001b[32m     19\u001b[39m     batch_size=config[\u001b[33m\"\u001b[39m\u001b[33mbatch_size\u001b[39m\u001b[33m\"\u001b[39m],\n\u001b[32m     20\u001b[39m     data_weight=config[\u001b[33m\"\u001b[39m\u001b[33mdata_weight\u001b[39m\u001b[33m\"\u001b[39m],\n\u001b[32m     21\u001b[39m     physics_weight=config[\u001b[33m\"\u001b[39m\u001b[33mphysics_weight\u001b[39m\u001b[33m\"\u001b[39m],\n\u001b[32m     22\u001b[39m     boundary_weight=config[\u001b[33m\"\u001b[39m\u001b[33mboundary_weight\u001b[39m\u001b[33m\"\u001b[39m],\n\u001b[32m     23\u001b[39m     fsi_weight=config[\u001b[33m\"\u001b[39m\u001b[33mfsi_weight\u001b[39m\u001b[33m\"\u001b[39m],\n\u001b[32m     24\u001b[39m     initial_weight=config[\u001b[33m\"\u001b[39m\u001b[33minitial_weight\u001b[39m\u001b[33m\"\u001b[39m],\n\u001b[32m     25\u001b[39m )\n",
      "\u001b[36mFile \u001b[39m\u001b[32m~/Desktop/afrah/code/pinn_fsi_ibm/src/models/m2_physics3.py:255\u001b[39m, in \u001b[36mtrain\u001b[39m\u001b[34m(self, num_epochs, batch_size, data_weight, physics_weight, boundary_weight, fsi_weight, initial_weight)\u001b[39m\n",
      "\u001b[36mFile \u001b[39m\u001b[32m~/opt/anaconda3/envs/pinn-fsi-gpu/lib/python3.12/site-packages/torch/_tensor.py:522\u001b[39m, in \u001b[36mTensor.backward\u001b[39m\u001b[34m(self, gradient, retain_graph, create_graph, inputs)\u001b[39m\n\u001b[32m    512\u001b[39m \u001b[38;5;28;01mif\u001b[39;00m has_torch_function_unary(\u001b[38;5;28mself\u001b[39m):\n\u001b[32m    513\u001b[39m     \u001b[38;5;28;01mreturn\u001b[39;00m handle_torch_function(\n\u001b[32m    514\u001b[39m         Tensor.backward,\n\u001b[32m    515\u001b[39m         (\u001b[38;5;28mself\u001b[39m,),\n\u001b[32m   (...)\u001b[39m\u001b[32m    520\u001b[39m         inputs=inputs,\n\u001b[32m    521\u001b[39m     )\n\u001b[32m--> \u001b[39m\u001b[32m522\u001b[39m torch.autograd.backward(\n\u001b[32m    523\u001b[39m     \u001b[38;5;28mself\u001b[39m, gradient, retain_graph, create_graph, inputs=inputs\n\u001b[32m    524\u001b[39m )\n",
      "\u001b[36mFile \u001b[39m\u001b[32m~/opt/anaconda3/envs/pinn-fsi-gpu/lib/python3.12/site-packages/torch/autograd/__init__.py:266\u001b[39m, in \u001b[36mbackward\u001b[39m\u001b[34m(tensors, grad_tensors, retain_graph, create_graph, grad_variables, inputs)\u001b[39m\n\u001b[32m    261\u001b[39m     retain_graph = create_graph\n\u001b[32m    263\u001b[39m \u001b[38;5;66;03m# The reason we repeat the same comment below is that\u001b[39;00m\n\u001b[32m    264\u001b[39m \u001b[38;5;66;03m# some Python versions print out the first line of a multi-line function\u001b[39;00m\n\u001b[32m    265\u001b[39m \u001b[38;5;66;03m# calls in the traceback and some print out the last line\u001b[39;00m\n\u001b[32m--> \u001b[39m\u001b[32m266\u001b[39m Variable._execution_engine.run_backward(  \u001b[38;5;66;03m# Calls into the C++ engine to run the backward pass\u001b[39;00m\n\u001b[32m    267\u001b[39m     tensors,\n\u001b[32m    268\u001b[39m     grad_tensors_,\n\u001b[32m    269\u001b[39m     retain_graph,\n\u001b[32m    270\u001b[39m     create_graph,\n\u001b[32m    271\u001b[39m     inputs,\n\u001b[32m    272\u001b[39m     allow_unreachable=\u001b[38;5;28;01mTrue\u001b[39;00m,\n\u001b[32m    273\u001b[39m     accumulate_grad=\u001b[38;5;28;01mTrue\u001b[39;00m,\n\u001b[32m    274\u001b[39m )\n",
      "\u001b[31mKeyboardInterrupt\u001b[39m: "
     ]
    }
   ],
   "source": [
    "\n",
    "trainer = PINNTrainer(\n",
    "    fluid_model=fluid_model,\n",
    "    solid_model=solid_model,\n",
    "    training_data=training_data,\n",
    "    learning_rate=config[\"learning_rate\"],\n",
    "    logger=logger,\n",
    "    device=config[\"device\"],\n",
    "    fluid_density=config[\"fluid_density\"],\n",
    "    fluid_viscosity=config[\"fluid_viscosity\"],\n",
    "    print_every=config[\"print_every\"],\n",
    "    save_every=config[\"save_every\"],\n",
    "    solver=config[\"solver\"],\n",
    "    model=config[\"model\"],\n",
    ")\n",
    "\n",
    "\n",
    "loss_history = trainer.train(\n",
    "    num_epochs=config[\"num_epochs\"],\n",
    "    batch_size=config[\"batch_size\"],\n",
    "    data_weight=config[\"data_weight\"],\n",
    "    physics_weight=config[\"physics_weight\"],\n",
    "    boundary_weight=config[\"boundary_weight\"],\n",
    "    fsi_weight=config[\"fsi_weight\"],\n",
    "    initial_weight=config[\"initial_weight\"],\n",
    ")\n"
   ]
  },
  {
   "cell_type": "code",
   "execution_count": null,
   "id": "cc4f30a8",
   "metadata": {},
   "outputs": [],
   "source": []
  }
 ],
 "metadata": {
  "kernelspec": {
   "display_name": "pinn-fsi-gpu",
   "language": "python",
   "name": "python3"
  },
  "language_info": {
   "codemirror_mode": {
    "name": "ipython",
    "version": 3
   },
   "file_extension": ".py",
   "mimetype": "text/x-python",
   "name": "python",
   "nbconvert_exporter": "python",
   "pygments_lexer": "ipython3",
   "version": "3.12.11"
  }
 },
 "nbformat": 4,
 "nbformat_minor": 5
}
